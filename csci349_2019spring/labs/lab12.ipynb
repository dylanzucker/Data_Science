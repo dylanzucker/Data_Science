{
 "cells": [
  {
   "cell_type": "markdown",
   "metadata": {},
   "source": [
    "# Lab12 - hyperparameter tuning\n",
    "\n",
    "Name: Dylan Zucker \n",
    "\n",
    "Class: CSCI 349 - Intro to Data Mining\n",
    "\n",
    "Semester: 2019SP\n",
    "\n",
    "Instructor: Brian King"
   ]
  },
  {
   "cell_type": "code",
   "execution_count": 1,
   "metadata": {},
   "outputs": [
    {
     "name": "stderr",
     "output_type": "stream",
     "text": [
      "Using TensorFlow backend.\n"
     ]
    }
   ],
   "source": [
    "# Imports\n",
    "import numpy as np\n",
    "import pandas as pd\n",
    "import matplotlib.pyplot as plt\n",
    "import seaborn as sns\n",
    "from sklearn.model_selection import train_test_split, KFold\n",
    "from sklearn.metrics import classification_report, confusion_matrix\n",
    "from keras.models import Sequential\n",
    "from keras.layers.core import Dense, Activation\n",
    "from mlxtend.preprocessing import standardize\n",
    "from sklearn.utils import shuffle\n",
    "from sklearn.model_selection import train_test_split\n",
    "from keras.wrappers.scikit_learn import KerasClassifier\n",
    "from keras.utils import plot_model\n",
    "from keras import optimizers\n",
    "from sklearn.tree import DecisionTreeClassifier\n",
    "from sklearn.model_selection import GridSearchCV"
   ]
  },
  {
   "cell_type": "markdown",
   "metadata": {},
   "source": [
    "### 1. Read in the wine data frame using the code given above. It also gives you the names of the variables, which should align according to the data information given on the UCI web page."
   ]
  },
  {
   "cell_type": "code",
   "execution_count": 2,
   "metadata": {},
   "outputs": [],
   "source": [
    "names = [\"target\",\"alcohol\",\"malic_acid\",\"ash\",\"alcalinity\",\"Mg\",\"tot_phenols\",\"flavanoids\",\n",
    "\"non_flav_phenols\",\"proanthocyanins\",\"color_intensity\",\n",
    "\"hue\",\"OD\",\"proline\"]\n",
    "df_wine = pd.read_csv('https://archive.ics.uci.edu/ml/machine-learning-databases/wine/wine.data',header=None,names=names)"
   ]
  },
  {
   "cell_type": "markdown",
   "metadata": {},
   "source": [
    "### 2. Prepare your data. Minimally, you should be reporting:\n",
    "    a) shape, info(), etc\n",
    "    b) describe()\n",
    "    c) Cast the type of the variables accordingly, particularly the target class\n",
    "    d) Report on any missing data\n",
    "    e) Show the head() of the data frame"
   ]
  },
  {
   "cell_type": "code",
   "execution_count": 3,
   "metadata": {},
   "outputs": [
    {
     "data": {
      "text/plain": [
       "(178, 14)"
      ]
     },
     "execution_count": 3,
     "metadata": {},
     "output_type": "execute_result"
    }
   ],
   "source": [
    "df_wine.shape"
   ]
  },
  {
   "cell_type": "code",
   "execution_count": 4,
   "metadata": {},
   "outputs": [
    {
     "name": "stdout",
     "output_type": "stream",
     "text": [
      "<class 'pandas.core.frame.DataFrame'>\n",
      "RangeIndex: 178 entries, 0 to 177\n",
      "Data columns (total 14 columns):\n",
      "target              178 non-null int64\n",
      "alcohol             178 non-null float64\n",
      "malic_acid          178 non-null float64\n",
      "ash                 178 non-null float64\n",
      "alcalinity          178 non-null float64\n",
      "Mg                  178 non-null int64\n",
      "tot_phenols         178 non-null float64\n",
      "flavanoids          178 non-null float64\n",
      "non_flav_phenols    178 non-null float64\n",
      "proanthocyanins     178 non-null float64\n",
      "color_intensity     178 non-null float64\n",
      "hue                 178 non-null float64\n",
      "OD                  178 non-null float64\n",
      "proline             178 non-null int64\n",
      "dtypes: float64(11), int64(3)\n",
      "memory usage: 19.5 KB\n"
     ]
    }
   ],
   "source": [
    "df_wine.info()"
   ]
  },
  {
   "cell_type": "code",
   "execution_count": 5,
   "metadata": {},
   "outputs": [
    {
     "data": {
      "text/html": [
       "<div>\n",
       "<style scoped>\n",
       "    .dataframe tbody tr th:only-of-type {\n",
       "        vertical-align: middle;\n",
       "    }\n",
       "\n",
       "    .dataframe tbody tr th {\n",
       "        vertical-align: top;\n",
       "    }\n",
       "\n",
       "    .dataframe thead th {\n",
       "        text-align: right;\n",
       "    }\n",
       "</style>\n",
       "<table border=\"1\" class=\"dataframe\">\n",
       "  <thead>\n",
       "    <tr style=\"text-align: right;\">\n",
       "      <th></th>\n",
       "      <th>target</th>\n",
       "      <th>alcohol</th>\n",
       "      <th>malic_acid</th>\n",
       "      <th>ash</th>\n",
       "      <th>alcalinity</th>\n",
       "      <th>Mg</th>\n",
       "      <th>tot_phenols</th>\n",
       "      <th>flavanoids</th>\n",
       "      <th>non_flav_phenols</th>\n",
       "      <th>proanthocyanins</th>\n",
       "      <th>color_intensity</th>\n",
       "      <th>hue</th>\n",
       "      <th>OD</th>\n",
       "      <th>proline</th>\n",
       "    </tr>\n",
       "  </thead>\n",
       "  <tbody>\n",
       "    <tr>\n",
       "      <th>count</th>\n",
       "      <td>178.000000</td>\n",
       "      <td>178.000000</td>\n",
       "      <td>178.000000</td>\n",
       "      <td>178.000000</td>\n",
       "      <td>178.000000</td>\n",
       "      <td>178.000000</td>\n",
       "      <td>178.000000</td>\n",
       "      <td>178.000000</td>\n",
       "      <td>178.000000</td>\n",
       "      <td>178.000000</td>\n",
       "      <td>178.000000</td>\n",
       "      <td>178.000000</td>\n",
       "      <td>178.000000</td>\n",
       "      <td>178.000000</td>\n",
       "    </tr>\n",
       "    <tr>\n",
       "      <th>mean</th>\n",
       "      <td>1.938202</td>\n",
       "      <td>13.000618</td>\n",
       "      <td>2.336348</td>\n",
       "      <td>2.366517</td>\n",
       "      <td>19.494944</td>\n",
       "      <td>99.741573</td>\n",
       "      <td>2.295112</td>\n",
       "      <td>2.029270</td>\n",
       "      <td>0.361854</td>\n",
       "      <td>1.590899</td>\n",
       "      <td>5.058090</td>\n",
       "      <td>0.957449</td>\n",
       "      <td>2.611685</td>\n",
       "      <td>746.893258</td>\n",
       "    </tr>\n",
       "    <tr>\n",
       "      <th>std</th>\n",
       "      <td>0.775035</td>\n",
       "      <td>0.811827</td>\n",
       "      <td>1.117146</td>\n",
       "      <td>0.274344</td>\n",
       "      <td>3.339564</td>\n",
       "      <td>14.282484</td>\n",
       "      <td>0.625851</td>\n",
       "      <td>0.998859</td>\n",
       "      <td>0.124453</td>\n",
       "      <td>0.572359</td>\n",
       "      <td>2.318286</td>\n",
       "      <td>0.228572</td>\n",
       "      <td>0.709990</td>\n",
       "      <td>314.907474</td>\n",
       "    </tr>\n",
       "    <tr>\n",
       "      <th>min</th>\n",
       "      <td>1.000000</td>\n",
       "      <td>11.030000</td>\n",
       "      <td>0.740000</td>\n",
       "      <td>1.360000</td>\n",
       "      <td>10.600000</td>\n",
       "      <td>70.000000</td>\n",
       "      <td>0.980000</td>\n",
       "      <td>0.340000</td>\n",
       "      <td>0.130000</td>\n",
       "      <td>0.410000</td>\n",
       "      <td>1.280000</td>\n",
       "      <td>0.480000</td>\n",
       "      <td>1.270000</td>\n",
       "      <td>278.000000</td>\n",
       "    </tr>\n",
       "    <tr>\n",
       "      <th>25%</th>\n",
       "      <td>1.000000</td>\n",
       "      <td>12.362500</td>\n",
       "      <td>1.602500</td>\n",
       "      <td>2.210000</td>\n",
       "      <td>17.200000</td>\n",
       "      <td>88.000000</td>\n",
       "      <td>1.742500</td>\n",
       "      <td>1.205000</td>\n",
       "      <td>0.270000</td>\n",
       "      <td>1.250000</td>\n",
       "      <td>3.220000</td>\n",
       "      <td>0.782500</td>\n",
       "      <td>1.937500</td>\n",
       "      <td>500.500000</td>\n",
       "    </tr>\n",
       "    <tr>\n",
       "      <th>50%</th>\n",
       "      <td>2.000000</td>\n",
       "      <td>13.050000</td>\n",
       "      <td>1.865000</td>\n",
       "      <td>2.360000</td>\n",
       "      <td>19.500000</td>\n",
       "      <td>98.000000</td>\n",
       "      <td>2.355000</td>\n",
       "      <td>2.135000</td>\n",
       "      <td>0.340000</td>\n",
       "      <td>1.555000</td>\n",
       "      <td>4.690000</td>\n",
       "      <td>0.965000</td>\n",
       "      <td>2.780000</td>\n",
       "      <td>673.500000</td>\n",
       "    </tr>\n",
       "    <tr>\n",
       "      <th>75%</th>\n",
       "      <td>3.000000</td>\n",
       "      <td>13.677500</td>\n",
       "      <td>3.082500</td>\n",
       "      <td>2.557500</td>\n",
       "      <td>21.500000</td>\n",
       "      <td>107.000000</td>\n",
       "      <td>2.800000</td>\n",
       "      <td>2.875000</td>\n",
       "      <td>0.437500</td>\n",
       "      <td>1.950000</td>\n",
       "      <td>6.200000</td>\n",
       "      <td>1.120000</td>\n",
       "      <td>3.170000</td>\n",
       "      <td>985.000000</td>\n",
       "    </tr>\n",
       "    <tr>\n",
       "      <th>max</th>\n",
       "      <td>3.000000</td>\n",
       "      <td>14.830000</td>\n",
       "      <td>5.800000</td>\n",
       "      <td>3.230000</td>\n",
       "      <td>30.000000</td>\n",
       "      <td>162.000000</td>\n",
       "      <td>3.880000</td>\n",
       "      <td>5.080000</td>\n",
       "      <td>0.660000</td>\n",
       "      <td>3.580000</td>\n",
       "      <td>13.000000</td>\n",
       "      <td>1.710000</td>\n",
       "      <td>4.000000</td>\n",
       "      <td>1680.000000</td>\n",
       "    </tr>\n",
       "  </tbody>\n",
       "</table>\n",
       "</div>"
      ],
      "text/plain": [
       "           target     alcohol  malic_acid         ash  alcalinity          Mg  \\\n",
       "count  178.000000  178.000000  178.000000  178.000000  178.000000  178.000000   \n",
       "mean     1.938202   13.000618    2.336348    2.366517   19.494944   99.741573   \n",
       "std      0.775035    0.811827    1.117146    0.274344    3.339564   14.282484   \n",
       "min      1.000000   11.030000    0.740000    1.360000   10.600000   70.000000   \n",
       "25%      1.000000   12.362500    1.602500    2.210000   17.200000   88.000000   \n",
       "50%      2.000000   13.050000    1.865000    2.360000   19.500000   98.000000   \n",
       "75%      3.000000   13.677500    3.082500    2.557500   21.500000  107.000000   \n",
       "max      3.000000   14.830000    5.800000    3.230000   30.000000  162.000000   \n",
       "\n",
       "       tot_phenols  flavanoids  non_flav_phenols  proanthocyanins  \\\n",
       "count   178.000000  178.000000        178.000000       178.000000   \n",
       "mean      2.295112    2.029270          0.361854         1.590899   \n",
       "std       0.625851    0.998859          0.124453         0.572359   \n",
       "min       0.980000    0.340000          0.130000         0.410000   \n",
       "25%       1.742500    1.205000          0.270000         1.250000   \n",
       "50%       2.355000    2.135000          0.340000         1.555000   \n",
       "75%       2.800000    2.875000          0.437500         1.950000   \n",
       "max       3.880000    5.080000          0.660000         3.580000   \n",
       "\n",
       "       color_intensity         hue          OD      proline  \n",
       "count       178.000000  178.000000  178.000000   178.000000  \n",
       "mean          5.058090    0.957449    2.611685   746.893258  \n",
       "std           2.318286    0.228572    0.709990   314.907474  \n",
       "min           1.280000    0.480000    1.270000   278.000000  \n",
       "25%           3.220000    0.782500    1.937500   500.500000  \n",
       "50%           4.690000    0.965000    2.780000   673.500000  \n",
       "75%           6.200000    1.120000    3.170000   985.000000  \n",
       "max          13.000000    1.710000    4.000000  1680.000000  "
      ]
     },
     "execution_count": 5,
     "metadata": {},
     "output_type": "execute_result"
    }
   ],
   "source": [
    "df_wine.describe()"
   ]
  },
  {
   "cell_type": "code",
   "execution_count": 6,
   "metadata": {},
   "outputs": [
    {
     "name": "stdout",
     "output_type": "stream",
     "text": [
      "<class 'pandas.core.frame.DataFrame'>\n",
      "RangeIndex: 178 entries, 0 to 177\n",
      "Data columns (total 14 columns):\n",
      "target              178 non-null category\n",
      "alcohol             178 non-null float64\n",
      "malic_acid          178 non-null float64\n",
      "ash                 178 non-null float64\n",
      "alcalinity          178 non-null float64\n",
      "Mg                  178 non-null int64\n",
      "tot_phenols         178 non-null float64\n",
      "flavanoids          178 non-null float64\n",
      "non_flav_phenols    178 non-null float64\n",
      "proanthocyanins     178 non-null float64\n",
      "color_intensity     178 non-null float64\n",
      "hue                 178 non-null float64\n",
      "OD                  178 non-null float64\n",
      "proline             178 non-null int64\n",
      "dtypes: category(1), float64(11), int64(2)\n",
      "memory usage: 18.4 KB\n"
     ]
    }
   ],
   "source": [
    "df_wine = df_wine.apply(pd.to_numeric)\n",
    "target_type = pd.api.types.CategoricalDtype(categories = [1, 2, 3])\n",
    "df_wine.target = df_wine.target.astype(target_type)\n",
    "df_wine.info()"
   ]
  },
  {
   "cell_type": "code",
   "execution_count": 7,
   "metadata": {},
   "outputs": [
    {
     "data": {
      "text/html": [
       "<div>\n",
       "<style scoped>\n",
       "    .dataframe tbody tr th:only-of-type {\n",
       "        vertical-align: middle;\n",
       "    }\n",
       "\n",
       "    .dataframe tbody tr th {\n",
       "        vertical-align: top;\n",
       "    }\n",
       "\n",
       "    .dataframe thead th {\n",
       "        text-align: right;\n",
       "    }\n",
       "</style>\n",
       "<table border=\"1\" class=\"dataframe\">\n",
       "  <thead>\n",
       "    <tr style=\"text-align: right;\">\n",
       "      <th></th>\n",
       "      <th>target</th>\n",
       "      <th>alcohol</th>\n",
       "      <th>malic_acid</th>\n",
       "      <th>ash</th>\n",
       "      <th>alcalinity</th>\n",
       "      <th>Mg</th>\n",
       "      <th>tot_phenols</th>\n",
       "      <th>flavanoids</th>\n",
       "      <th>non_flav_phenols</th>\n",
       "      <th>proanthocyanins</th>\n",
       "      <th>color_intensity</th>\n",
       "      <th>hue</th>\n",
       "      <th>OD</th>\n",
       "      <th>proline</th>\n",
       "    </tr>\n",
       "  </thead>\n",
       "  <tbody>\n",
       "    <tr>\n",
       "      <th>0</th>\n",
       "      <td>1</td>\n",
       "      <td>14.23</td>\n",
       "      <td>1.71</td>\n",
       "      <td>2.43</td>\n",
       "      <td>15.6</td>\n",
       "      <td>127</td>\n",
       "      <td>2.80</td>\n",
       "      <td>3.06</td>\n",
       "      <td>0.28</td>\n",
       "      <td>2.29</td>\n",
       "      <td>5.64</td>\n",
       "      <td>1.04</td>\n",
       "      <td>3.92</td>\n",
       "      <td>1065</td>\n",
       "    </tr>\n",
       "    <tr>\n",
       "      <th>1</th>\n",
       "      <td>1</td>\n",
       "      <td>13.20</td>\n",
       "      <td>1.78</td>\n",
       "      <td>2.14</td>\n",
       "      <td>11.2</td>\n",
       "      <td>100</td>\n",
       "      <td>2.65</td>\n",
       "      <td>2.76</td>\n",
       "      <td>0.26</td>\n",
       "      <td>1.28</td>\n",
       "      <td>4.38</td>\n",
       "      <td>1.05</td>\n",
       "      <td>3.40</td>\n",
       "      <td>1050</td>\n",
       "    </tr>\n",
       "    <tr>\n",
       "      <th>2</th>\n",
       "      <td>1</td>\n",
       "      <td>13.16</td>\n",
       "      <td>2.36</td>\n",
       "      <td>2.67</td>\n",
       "      <td>18.6</td>\n",
       "      <td>101</td>\n",
       "      <td>2.80</td>\n",
       "      <td>3.24</td>\n",
       "      <td>0.30</td>\n",
       "      <td>2.81</td>\n",
       "      <td>5.68</td>\n",
       "      <td>1.03</td>\n",
       "      <td>3.17</td>\n",
       "      <td>1185</td>\n",
       "    </tr>\n",
       "    <tr>\n",
       "      <th>3</th>\n",
       "      <td>1</td>\n",
       "      <td>14.37</td>\n",
       "      <td>1.95</td>\n",
       "      <td>2.50</td>\n",
       "      <td>16.8</td>\n",
       "      <td>113</td>\n",
       "      <td>3.85</td>\n",
       "      <td>3.49</td>\n",
       "      <td>0.24</td>\n",
       "      <td>2.18</td>\n",
       "      <td>7.80</td>\n",
       "      <td>0.86</td>\n",
       "      <td>3.45</td>\n",
       "      <td>1480</td>\n",
       "    </tr>\n",
       "    <tr>\n",
       "      <th>4</th>\n",
       "      <td>1</td>\n",
       "      <td>13.24</td>\n",
       "      <td>2.59</td>\n",
       "      <td>2.87</td>\n",
       "      <td>21.0</td>\n",
       "      <td>118</td>\n",
       "      <td>2.80</td>\n",
       "      <td>2.69</td>\n",
       "      <td>0.39</td>\n",
       "      <td>1.82</td>\n",
       "      <td>4.32</td>\n",
       "      <td>1.04</td>\n",
       "      <td>2.93</td>\n",
       "      <td>735</td>\n",
       "    </tr>\n",
       "  </tbody>\n",
       "</table>\n",
       "</div>"
      ],
      "text/plain": [
       "  target  alcohol  malic_acid   ash  alcalinity   Mg  tot_phenols  flavanoids  \\\n",
       "0      1    14.23        1.71  2.43        15.6  127         2.80        3.06   \n",
       "1      1    13.20        1.78  2.14        11.2  100         2.65        2.76   \n",
       "2      1    13.16        2.36  2.67        18.6  101         2.80        3.24   \n",
       "3      1    14.37        1.95  2.50        16.8  113         3.85        3.49   \n",
       "4      1    13.24        2.59  2.87        21.0  118         2.80        2.69   \n",
       "\n",
       "   non_flav_phenols  proanthocyanins  color_intensity   hue    OD  proline  \n",
       "0              0.28             2.29             5.64  1.04  3.92     1065  \n",
       "1              0.26             1.28             4.38  1.05  3.40     1050  \n",
       "2              0.30             2.81             5.68  1.03  3.17     1185  \n",
       "3              0.24             2.18             7.80  0.86  3.45     1480  \n",
       "4              0.39             1.82             4.32  1.04  2.93      735  "
      ]
     },
     "execution_count": 7,
     "metadata": {},
     "output_type": "execute_result"
    }
   ],
   "source": [
    "df_wine.head()"
   ]
  },
  {
   "cell_type": "markdown",
   "metadata": {},
   "source": [
    "### 3. Perform your EDA. Minimally, you should be reporting:\n",
    "    a) Distributions of the target class\n",
    "    b) Distributions of the variables\n",
    "    c) Distributions of the variables, given each target class. Numeric and visual summaries are useful here."
   ]
  },
  {
   "cell_type": "code",
   "execution_count": 8,
   "metadata": {
    "scrolled": true
   },
   "outputs": [
    {
     "name": "stderr",
     "output_type": "stream",
     "text": [
      "/Users/Dylan/anaconda3/envs/csci349_2019sp/lib/python3.6/site-packages/scipy/stats/stats.py:1713: FutureWarning: Using a non-tuple sequence for multidimensional indexing is deprecated; use `arr[tuple(seq)]` instead of `arr[seq]`. In the future this will be interpreted as an array index, `arr[np.array(seq)]`, which will result either in an error or a different result.\n",
      "  return np.add.reduce(sorted[indexer] * weights, axis=axis) / sumval\n"
     ]
    },
    {
     "data": {
      "image/png": "[encoded data removed]",
      "text/plain": [
       "<Figure size 432x288 with 1 Axes>"
      ]
     },
     "metadata": {
      "needs_background": "light"
     },
     "output_type": "display_data"
    },
    {
     "data": {
      "image/png": "[encoded data removed]",
      "text/plain": [
       "<Figure size 720x720 with 13 Axes>"
      ]
     },
     "metadata": {
      "needs_background": "light"
     },
     "output_type": "display_data"
    }
   ],
   "source": [
    "sns.distplot(df_wine[\"target\"])\n",
    "plt.title = \"target\"\n",
    "plt.show()\n",
    "\n",
    "fig = plt.figure(figsize=(10,10))\n",
    "fig.subplots_adjust(hspace=0.9, wspace=0.5)\n",
    "for i in range(1, len(df_wine.columns)):\n",
    "    fig.add_subplot(5, 3, i)\n",
    "    #sns.distplot(df_wine[df_wine.columns[i]]).set_title(df_wine.columns[i])\n",
    "    sns.boxplot(x=\"target\", y=df_wine.columns[i], data=df_wine)\n",
    "plt.show()\n",
    "    "
   ]
  },
  {
   "cell_type": "markdown",
   "metadata": {},
   "source": [
    "### 4. Set up your X and y data frames to prepare for your modeling steps. Create X to be standardized across each variable. Create a binarized version of y as well, since you will be using Keras again, and the target variable is multi-class (i.e. more than two labels). And, again, it's very important that you shuffle your data."
   ]
  },
  {
   "cell_type": "code",
   "execution_count": 9,
   "metadata": {},
   "outputs": [
    {
     "name": "stdout",
     "output_type": "stream",
     "text": [
      "     alcohol  malic_acid   ash  alcalinity   Mg  tot_phenols  flavanoids  \\\n",
      "59     12.37        0.94  1.36        10.6   88         1.98        0.57   \n",
      "16     14.30        1.92  2.72        20.0  120         2.80        3.14   \n",
      "144    12.25        3.88  2.20        18.5  112         1.38        0.78   \n",
      "89     12.08        1.33  2.30        23.6   70         2.20        1.59   \n",
      "98     12.37        1.07  2.10        18.5   88         3.52        3.75   \n",
      "\n",
      "     non_flav_phenols  proanthocyanins  color_intensity   hue    OD  proline  \n",
      "59               0.28             0.42             1.95  1.05  1.82      520  \n",
      "16               0.33             1.97             6.20  1.07  2.65     1280  \n",
      "144              0.29             1.14             8.21  0.65  2.00      855  \n",
      "89               0.42             1.38             1.74  1.07  3.21      625  \n",
      "98               0.24             1.95             4.50  1.04  2.77      660  \n",
      "     target_1  target_2  target_3\n",
      "59          0         1         0\n",
      "16          1         0         0\n",
      "144         0         0         1\n",
      "89          0         1         0\n",
      "98          0         1         0\n",
      "     alcohol  malic_acid   ash  alcalinity   Mg  tot_phenols  flavanoids  \\\n",
      "22     13.71        1.86  2.36        16.6  101         2.61        2.88   \n",
      "29     14.02        1.68  2.21        16.0   96         2.65        2.33   \n",
      "134    12.51        1.24  2.25        17.5   85         2.00        0.58   \n",
      "108    12.22        1.29  1.94        19.0   92         2.36        2.04   \n",
      "57     13.29        1.97  2.68        16.8  102         3.00        3.23   \n",
      "\n",
      "     non_flav_phenols  proanthocyanins  color_intensity   hue    OD  proline  \n",
      "22               0.27             1.69             3.80  1.11  4.00     1035  \n",
      "29               0.26             1.98             4.70  1.04  3.59     1035  \n",
      "134              0.60             1.25             5.45  0.75  1.51      650  \n",
      "108              0.39             2.08             2.70  0.86  3.02      312  \n",
      "57               0.31             1.66             6.00  1.07  2.84     1270  \n",
      "     target_1  target_2  target_3\n",
      "22          1         0         0\n",
      "29          1         0         0\n",
      "134         0         0         1\n",
      "108         0         1         0\n",
      "57          1         0         0\n"
     ]
    }
   ],
   "source": [
    "X  = df_wine[[\"alcohol\",\"malic_acid\",\"ash\",\"alcalinity\",\"Mg\",\"tot_phenols\",\"flavanoids\",\n",
    "\"non_flav_phenols\",\"proanthocyanins\",\"color_intensity\",\n",
    "\"hue\",\"OD\",\"proline\"]]\n",
    "y = df_wine[[\"target\"]]\n",
    "X, y = shuffle(X, y, random_state = 0)\n",
    "X_train, X_test, y_train, y_test = train_test_split(X, y, test_size = 0.5, random_state = 0)\n",
    "y_train = pd.get_dummies(y_train)\n",
    "y_test = pd.get_dummies(y_test)\n",
    "\n",
    "print(X_train.head())\n",
    "print(y_train.head())\n",
    "print(X_test.head())\n",
    "print(y_test.head())"
   ]
  },
  {
   "cell_type": "markdown",
   "metadata": {},
   "source": [
    "### 5. Let's induce a basic Decision Tree Classifier (i.e. DecisionTreeClassifier()). Don't set any initial parameters. Let the default tree induction parameters be used. Evaluate the tree using a 5-fold cross validation. Perform a standard report of your class-wide performance metrics (i.e. using classification report). You should have all of this code completed from a previous lab. \n",
    "\n",
    "### What is the overall accuracy? Which class performs the best? The worst?"
   ]
  },
  {
   "cell_type": "code",
   "execution_count": 10,
   "metadata": {
    "scrolled": true
   },
   "outputs": [
    {
     "name": "stdout",
     "output_type": "stream",
     "text": [
      "[[54  3  2]\n",
      " [ 4 60  7]\n",
      " [ 2  5 41]]\n",
      "              precision    recall  f1-score   support\n",
      "\n",
      "           0       0.90      0.92      0.91        59\n",
      "           1       0.88      0.85      0.86        71\n",
      "           2       0.82      0.85      0.84        48\n",
      "\n",
      "   micro avg       0.87      0.87      0.87       178\n",
      "   macro avg       0.87      0.87      0.87       178\n",
      "weighted avg       0.87      0.87      0.87       178\n",
      "\n"
     ]
    }
   ],
   "source": [
    "y_dum = pd.get_dummies(y)\n",
    "kfold = KFold(5, random_state = 100, shuffle = True)\n",
    "df_results = pd.DataFrame([],columns=[\"true y\", \"prediction\"])\n",
    "for train_index, test_index in kfold.split(X):\n",
    "    X_train_t, X_test_t = X.loc[train_index], X.loc[test_index]\n",
    "    y_train_t, y_test_t = y_dum.loc[train_index], y_dum.loc[test_index]\n",
    "    \n",
    "    clf = DecisionTreeClassifier()\n",
    "    clf.fit(X_train_t, y_train_t)\n",
    "    y_pred = clf.predict(X_test_t)\n",
    "    y_test_unbin = y_test_t.apply(lambda x: 0 if x[\"target_1\"] == 1 else 1 if x[\"target_2\"] == 1 else 2, axis = 1)\n",
    "    y_pred_unbin = []\n",
    "    for x in y_pred:\n",
    "        if x[0] == 1:\n",
    "             y_pred_unbin.append(0)\n",
    "        elif x[1] == 1:\n",
    "             y_pred_unbin.append(1)\n",
    "        else:\n",
    "            y_pred_unbin.append(2)\n",
    "    row = pd.DataFrame({\"true y\": y_test_unbin, \"prediction\": y_pred_unbin})\n",
    "    df_results = df_results.append(row)\n",
    "\n",
    "cm = confusion_matrix(np.array(df_results[\"true y\"].values).astype(\"int\"),np.array( df_results[\"prediction\"].values).astype(\"int\"))\n",
    "print(cm)\n",
    "df_results = df_results.apply(pd.to_numeric)\n",
    "print(classification_report(df_results[\"true y\"], df_results[\"prediction\"])) \n",
    "# Target Class 1 performed the best. Target class 2 performed the worst\n"
   ]
  },
  {
   "cell_type": "markdown",
   "metadata": {},
   "source": [
    "### 6. Perhaps we can do better. After all, if you look at the default parameter values for DecisionTreeClassifier, there are an enormous number of parameters to tree induction.\n",
    "\n",
    "### Let's introduce you to GridSearchCV to evaluate many different decision tree parameters. There are TWO important parameters to GridSearchCV:\n",
    "    a) estimator – this is the model that you will evaluate, that implements the scikit-learn estimator interface (which is pretty much every model implemented in scikit-learn!)\n",
    "    b) param_grid – this is a dictionary with parameters of your model as keys, and a list of values to test as the value of each key. Look at the page for DecisionTreeClassifier. For example: suppose we wanted to compare both measures of purity: \"gini\" and \"entropy\". And, suppose we wanted to compare different max_depth values. We could set up a param_grid parameter:\n",
    "    param_grid = {\n",
    "    'criterion' : ['gini', 'entropy'],\n",
    "    'max_depth' : [3,4,5,6,7]\n",
    "    }\n",
    "    This represents 10 different runs (2 criterion * 5 max_depth), times the size of your cross-validation.\n",
    "\n",
    "### Add the above param_grid dictionary, then copy the following into your code, paying close attention to the parameters (i.e. just don't copy code without understanding it!):\n",
    "\n",
    "grid = GridSearchCV(DecisionTreeClassifier(), param_grid,\n",
    "    return_train_score=True, cv=5)\n",
    "\n",
    "grid_result = grid.fit(X,y)\n",
    "\n",
    "### (Of course, if you did not use X and y, then you need to specify the variables you used here.)\n",
    "\n",
    "### Execute your code. It should go ahead and evaluate all combinations of parameters you set up in your param_grid! Decision trees are pretty quick to learn, especially on small data sets such as this."
   ]
  },
  {
   "cell_type": "code",
   "execution_count": 11,
   "metadata": {},
   "outputs": [
    {
     "name": "stdout",
     "output_type": "stream",
     "text": [
      "GridSearchCV(cv=5, error_score='raise-deprecating',\n",
      "       estimator=DecisionTreeClassifier(class_weight=None, criterion='gini', max_depth=None,\n",
      "            max_features=None, max_leaf_nodes=None,\n",
      "            min_impurity_decrease=0.0, min_impurity_split=None,\n",
      "            min_samples_leaf=1, min_samples_split=2,\n",
      "            min_weight_fraction_leaf=0.0, presort=False, random_state=None,\n",
      "            splitter='best'),\n",
      "       fit_params=None, iid='warn', n_jobs=None,\n",
      "       param_grid={'criterion': ['gini', 'entropy'], 'max_depth': [3, 4, 5, 6, 7]},\n",
      "       pre_dispatch='2*n_jobs', refit=True, return_train_score=True,\n",
      "       scoring=None, verbose=0)\n"
     ]
    },
    {
     "name": "stderr",
     "output_type": "stream",
     "text": [
      "/Users/Dylan/anaconda3/envs/csci349_2019sp/lib/python3.6/site-packages/sklearn/model_selection/_search.py:841: DeprecationWarning: The default of the `iid` parameter will change from True to False in version 0.22 and will be removed in 0.24. This will change numeric results when test-set sizes are unequal.\n",
      "  DeprecationWarning)\n"
     ]
    }
   ],
   "source": [
    "param_grid = { 'criterion' : ['gini', 'entropy'], 'max_depth' : [3,4,5,6,7] }\n",
    "grid = GridSearchCV(DecisionTreeClassifier(), param_grid, return_train_score=True, cv=5) \n",
    "grid_result = grid.fit(X,y)\n",
    "print(grid_result)"
   ]
  },
  {
   "cell_type": "markdown",
   "metadata": {},
   "source": [
    "### 7. Cool! Now, you need to get access to the internals of grid_result. It contains a LOT of information. Look closely at the description of the return value on the documentation page for GridSearchCV. Then, show the best score, along with the best parameters for that score. (HINT best_score_ and best_params_)"
   ]
  },
  {
   "cell_type": "code",
   "execution_count": 12,
   "metadata": {},
   "outputs": [
    {
     "name": "stdout",
     "output_type": "stream",
     "text": [
      "0.9325842696629213\n",
      "{'criterion': 'entropy', 'max_depth': 3}\n"
     ]
    }
   ],
   "source": [
    "print(grid.best_score_)\n",
    "print(grid.best_params_)"
   ]
  },
  {
   "cell_type": "markdown",
   "metadata": {},
   "source": [
    "### 8. What does the best \"score\" represent? What performance metric? How do you override it, if, for example, you want to use f1_macro?\n",
    "\n",
    "The best score is the highest mean, with the best parameter setting for the best model. You can change it in the scoring parater in GridSearchCV.\n"
   ]
  },
  {
   "cell_type": "markdown",
   "metadata": {},
   "source": [
    "### 9. Perhaps you want to see the train and test performance score of every run. Write the code to report the training and testing score and standard deviation for every parameter combination. Output your data in order of highest test score to lowest. How did you do compared to the default decision tree without any parameters? (HINT: This is easily done by casting the cv_results_ parameter to a DataFrame, and then using standard pandas data selection and sorting methods.)"
   ]
  },
  {
   "cell_type": "code",
   "execution_count": 13,
   "metadata": {},
   "outputs": [
    {
     "name": "stdout",
     "output_type": "stream",
     "text": [
      "{'criterion': 'entropy', 'max_depth': 3}\n",
      "Mean:  0.9325842696629213\n",
      "stdv:  0.054457359568965705\n",
      "{'criterion': 'entropy', 'max_depth': 7}\n",
      "Mean:  0.9325842696629213\n",
      "stdv:  0.028023091992959683\n",
      "{'criterion': 'entropy', 'max_depth': 4}\n",
      "Mean:  0.9269662921348315\n",
      "stdv:  0.054376804616028125\n",
      "{'criterion': 'entropy', 'max_depth': 6}\n",
      "Mean:  0.9269662921348315\n",
      "stdv:  0.054376804616028125\n",
      "{'criterion': 'entropy', 'max_depth': 5}\n",
      "Mean:  0.9213483146067416\n",
      "stdv:  0.05927583693150802\n",
      "{'criterion': 'gini', 'max_depth': 3}\n",
      "Mean:  0.8932584269662921\n",
      "stdv:  0.07249126389287561\n",
      "{'criterion': 'gini', 'max_depth': 5}\n",
      "Mean:  0.8932584269662921\n",
      "stdv:  0.057042162817959374\n",
      "{'criterion': 'gini', 'max_depth': 7}\n",
      "Mean:  0.8932584269662921\n",
      "stdv:  0.059715309608359635\n",
      "{'criterion': 'gini', 'max_depth': 6}\n",
      "Mean:  0.8820224719101124\n",
      "stdv:  0.06515136548406773\n",
      "{'criterion': 'gini', 'max_depth': 4}\n",
      "Mean:  0.8764044943820225\n",
      "stdv:  0.08297855048760062\n"
     ]
    }
   ],
   "source": [
    "temp = pd.DataFrame(grid_result.cv_results_)\n",
    "temp = temp.sort_values([\"mean_test_score\"], ascending = False)\n",
    "temp = temp.reset_index()\n",
    "\n",
    "for i in range(len(temp)):\n",
    "    print(temp[\"params\"][i])\n",
    "    print(\"Mean: \", temp[\"mean_test_score\"][i])\n",
    "    print(\"stdv: \", temp[\"std_test_score\"][i])"
   ]
  },
  {
   "cell_type": "markdown",
   "metadata": {},
   "source": [
    "### 10. The default scoring parameter is accuracy, and you've already learned about how accuracy is not necessarily the best metric on unbalanced data. This data is only slightly unbalanced, so it is not a bad metric. However, you should understand how to choose a better scoring metric to identify the best results for these data. \n",
    "\n",
    "### In general, a macro-averaged f1 metric is a pretty good assessment of classifier performance when you have unbalanced data, as it will give you an honest assessment of how you are doing on the smallest classes.\n",
    "\n",
    "### Redo the above steps, but you must accomplish three things:\n",
    "    \n",
    "    a) Add min_samples_split and min_samples_leaf criteria to your grid search. Choose the parameter values that make sense to you.\n",
    "    b) Specify the scoring parameter to use both accuracy AND f1_macro. You'll likely also need to specify the refit parameter.\n",
    "    c) Change your result to a full 10-fold cross validation. This could take some time, but gives a better assessment of the power of your classifier. Perhaps using 5 fold just wasn't quite enough data for each member?\n",
    "### Again, output your results, showing the top five configurations by accuracy, and also by f1_macro. Comment on your results."
   ]
  },
  {
   "cell_type": "code",
   "execution_count": 14,
   "metadata": {},
   "outputs": [
    {
     "name": "stdout",
     "output_type": "stream",
     "text": [
      "GridSearchCV(cv=10, error_score='raise-deprecating',\n",
      "       estimator=DecisionTreeClassifier(class_weight=None, criterion='gini', max_depth=None,\n",
      "            max_features=None, max_leaf_nodes=None,\n",
      "            min_impurity_decrease=0.0, min_impurity_split=None,\n",
      "            min_samples_leaf=1, min_samples_split=2,\n",
      "            min_weight_fraction_leaf=0.0, presort=False, random_state=None,\n",
      "            splitter='best'),\n",
      "       fit_params=None, iid='warn', n_jobs=None,\n",
      "       param_grid={'criterion': ['gini', 'entropy'], 'max_depth': [3, 4, 5, 6, 7], 'min_samples_split': [2, 3, 4], 'min_samples_leaf': [1, 2, 3]},\n",
      "       pre_dispatch='2*n_jobs', refit='accuracy', return_train_score=True,\n",
      "       scoring=['accuracy', 'f1_macro'], verbose=0)\n"
     ]
    },
    {
     "name": "stderr",
     "output_type": "stream",
     "text": [
      "/Users/Dylan/anaconda3/envs/csci349_2019sp/lib/python3.6/site-packages/sklearn/model_selection/_search.py:841: DeprecationWarning: The default of the `iid` parameter will change from True to False in version 0.22 and will be removed in 0.24. This will change numeric results when test-set sizes are unequal.\n",
      "  DeprecationWarning)\n"
     ]
    }
   ],
   "source": [
    "param_grid = { 'criterion' : ['gini', 'entropy'], 'max_depth' : [3,4,5,6,7], \"min_samples_split\":[2,3,4], \"min_samples_leaf\": [1,2,3] }\n",
    "grid = GridSearchCV(DecisionTreeClassifier(),  param_grid, scoring=[\"accuracy\",\"f1_macro\"], return_train_score=True, refit=\"accuracy\", cv=10) \n",
    "grid_result = grid.fit(X_train,y_train)\n",
    "print(grid_result)"
   ]
  },
  {
   "cell_type": "markdown",
   "metadata": {},
   "source": [
    "### 11. Discuss your findings. Did 10-fold make a difference? Did the additional parameters make a difference? Output the top 5 parameter configurations, along with the training and testing, sorted by accuracy, then sorted by f1_macro. Summarize.\n",
    "\n",
    "10-fold and the new parameters did make a difference we have a different param set for best params when sorted."
   ]
  },
  {
   "cell_type": "code",
   "execution_count": 15,
   "metadata": {},
   "outputs": [
    {
     "name": "stdout",
     "output_type": "stream",
     "text": [
      "0.9662921348314607\n",
      "{'criterion': 'gini', 'max_depth': 3, 'min_samples_leaf': 1, 'min_samples_split': 2}\n"
     ]
    }
   ],
   "source": [
    "print(grid.best_score_)\n",
    "print(grid.best_params_)"
   ]
  },
  {
   "cell_type": "code",
   "execution_count": 18,
   "metadata": {},
   "outputs": [
    {
     "name": "stdout",
     "output_type": "stream",
     "text": [
      "{'criterion': 'gini', 'max_depth': 3, 'min_samples_leaf': 1, 'min_samples_split': 2}\n",
      "Mean acc:  0.9662921348314607\n",
      "Mean f1_macro:  0.9668539325842697\n",
      "{'criterion': 'gini', 'max_depth': 3, 'min_samples_leaf': 1, 'min_samples_split': 4}\n",
      "Mean acc:  0.9662921348314607\n",
      "Mean f1_macro:  0.9668539325842697\n",
      "{'criterion': 'gini', 'max_depth': 3, 'min_samples_leaf': 2, 'min_samples_split': 2}\n",
      "Mean acc:  0.9662921348314607\n",
      "Mean f1_macro:  0.9668539325842697\n",
      "{'criterion': 'gini', 'max_depth': 3, 'min_samples_leaf': 2, 'min_samples_split': 3}\n",
      "Mean acc:  0.9662921348314607\n",
      "Mean f1_macro:  0.9668539325842697\n",
      "{'criterion': 'gini', 'max_depth': 3, 'min_samples_leaf': 2, 'min_samples_split': 4}\n",
      "Mean acc:  0.9662921348314607\n",
      "Mean f1_macro:  0.9668539325842697\n"
     ]
    }
   ],
   "source": [
    "temp = pd.DataFrame.from_dict(grid_result.cv_results_, orient=\"columns\")\n",
    "temp = temp.sort_values([\"mean_test_f1_macro\",\"mean_test_accuracy\"], ascending = False)\n",
    "temp = temp.reset_index()\n",
    "for i in range(5):\n",
    "    print(temp[\"params\"][i])\n",
    "    print(\"Mean acc: \", temp[\"mean_test_accuracy\"][i])\n",
    "    print(\"Mean f1_macro: \", temp[\"mean_test_f1_macro\"][i])"
   ]
  },
  {
   "cell_type": "markdown",
   "metadata": {},
   "source": [
    "### 12. Most of you should have some sort of multicore processor, even on the simplest laptops. You can easily take advantage of this. The default configuration of GridSearchCV is to NOT use any parallel processing, thus evaluating one model at a time. However, you could perhaps do 2 at a time! Do you have a CPU with more than 1 core? (Yes, you most likely do!)\n",
    "\n",
    "### Redo the above, but try out the parameter n_jobs=2 (I also sometimes set pre_dispatch to the same number as n_jobs, just to control too much memory usage. Not really important for decision trees, but could be important for larger models! If you have a really juicy machine, try an even higher value of n_jobs. (NOTE: Don't go higher than the number of cores in your machine! Experiment by starting with only 2, and incrementally increase.)\n",
    "\n",
    "### Do some basic time comparisons with different values of n_jobs. If you set it too high, you will start to discover diminishing returns, and will harm your timing more then help, so back off the value. I typically do\n",
    "something simple:\n",
    "<code>\n",
    "import time\n",
    "start_ts = time.time()\n",
    "grid_result = grid.fit(X,y)\n",
    "end_ts = time.time()\n",
    "print(\"Time in seconds\", end-ts - start_ts)\n",
    "</code>"
   ]
  },
  {
   "cell_type": "code",
   "execution_count": 19,
   "metadata": {},
   "outputs": [
    {
     "name": "stdout",
     "output_type": "stream",
     "text": [
      "For 1 job,  6.7975013256073\n"
     ]
    },
    {
     "name": "stderr",
     "output_type": "stream",
     "text": [
      "/Users/Dylan/anaconda3/envs/csci349_2019sp/lib/python3.6/site-packages/sklearn/model_selection/_search.py:841: DeprecationWarning: The default of the `iid` parameter will change from True to False in version 0.22 and will be removed in 0.24. This will change numeric results when test-set sizes are unequal.\n",
      "  DeprecationWarning)\n"
     ]
    },
    {
     "name": "stdout",
     "output_type": "stream",
     "text": [
      "For 2 jobs,  5.373535871505737\n"
     ]
    },
    {
     "name": "stderr",
     "output_type": "stream",
     "text": [
      "/Users/Dylan/anaconda3/envs/csci349_2019sp/lib/python3.6/site-packages/sklearn/model_selection/_search.py:841: DeprecationWarning: The default of the `iid` parameter will change from True to False in version 0.22 and will be removed in 0.24. This will change numeric results when test-set sizes are unequal.\n",
      "  DeprecationWarning)\n"
     ]
    }
   ],
   "source": [
    "import time\n",
    "param_grid = { 'criterion' : ['gini', 'entropy'], 'max_depth' : [3,4,5,6,7], \"min_samples_split\":[2,3,4], \"min_samples_leaf\": [1,2,3] }\n",
    "start_ts = time.time()\n",
    "grid = GridSearchCV(DecisionTreeClassifier(),  param_grid, scoring=[\"accuracy\",\"f1_macro\"], return_train_score=True, refit=\"accuracy\", cv=10) \n",
    "grid_result = grid.fit(X_train,y_train)\n",
    "end_ts = time.time()\n",
    "print(\"For 1 job, \", end_ts - start_ts)\n",
    "param_grid = { 'criterion' : ['gini', 'entropy'], 'max_depth' : [3,4,5,6,7], \"min_samples_split\":[2,3,4], \"min_samples_leaf\": [1,2,3] }\n",
    "start_ts = time.time()\n",
    "grid = GridSearchCV(DecisionTreeClassifier(),  param_grid, scoring=[\"accuracy\",\"f1_macro\"], return_train_score=True, refit=\"accuracy\", cv=10, n_jobs=2) \n",
    "grid_result = grid.fit(X_train,y_train)\n",
    "end_ts = time.time()\n",
    "print(\"For 2 jobs, \", end_ts - start_ts)"
   ]
  },
  {
   "cell_type": "markdown",
   "metadata": {},
   "source": [
    "### 13. OK. Now on to hyperparameter tuning for Keras. From the previous lab, copy over your code for the function create_keras_model(). Now, modify your base neural net structure to match the inputs and outputs for the wine dataset you are working on for this lab.\n",
    "### Modify the parameters of your function to allow you to pass model parameters. In particular, you are going to want to evaluate a different optimizer, activation for the hidden layer, and number of hidden units. Modify your function to take these three additional parameters. You may name the parameters whatever you want, though generally it's good to keep them the same as the actual parameters used as you build your model.\n",
    "### Once you have your new function, create your Keras classifier with KerasClassifier(). When you call this function, this is where you pass parameters such as epochs and batch_size. You don't want to wait long, so just use epochs=5 and a batch_size=4. (I would advise starting with verbose=1, just to make sure your model is training properly, and you notice the accuracy increasing and loss decreasing, then set verbose=0 when doing a bigger grid search on the next step.)\n",
    "### (NOTE: I use Atom + Hydrogen most of the time. And, the editor tends to freeze on occasion when I have verbose=1 with a lot of output! Be patient, or just set verbose=0 the next time, so it's not trying to trap your output.)"
   ]
  },
  {
   "cell_type": "code",
   "execution_count": 34,
   "metadata": {},
   "outputs": [],
   "source": [
    "def create_keras_model(num_hidden = 1, hidden_size = 10, activation=\"relu\", opt = \"adam\", num_inputs = 13, num_outputs = 3):\n",
    "    model = Sequential()\n",
    "    model.add(Dense(hidden_size, input_dim = num_inputs,activation = \"relu\"))\n",
    "    for i in range(num_hidden - 1):\n",
    "        model.add(Dense(hidden_size, activation = activation))\n",
    "    \n",
    "    model.add(Dense(num_outputs, activation = \"softmax\"))\n",
    "    model.compile(loss='categorical_crossentropy', optimizer=opt, metrics=['accuracy'])\n",
    "    return model\n"
   ]
  },
  {
   "cell_type": "code",
   "execution_count": 28,
   "metadata": {},
   "outputs": [
    {
     "name": "stdout",
     "output_type": "stream",
     "text": [
      "Epoch 1/5\n",
      "89/89 [==============================] - 1s 6ms/step - loss: 5.4388 - acc: 0.5955\n",
      "Epoch 2/5\n",
      "89/89 [==============================] - 0s 391us/step - loss: 5.3877 - acc: 0.6067\n",
      "Epoch 3/5\n",
      "89/89 [==============================] - 0s 653us/step - loss: 5.3818 - acc: 0.6292\n",
      "Epoch 4/5\n",
      "89/89 [==============================] - 0s 548us/step - loss: 5.4125 - acc: 0.6180\n",
      "Epoch 5/5\n",
      "89/89 [==============================] - 0s 484us/step - loss: 5.3783 - acc: 0.6517\n"
     ]
    }
   ],
   "source": [
    "clf = KerasClassifier(build_fn=create_keras_model, verbose=1, epochs=5, batch_size=4)\n",
    "hist = clf.fit(X_train, y_train)"
   ]
  },
  {
   "cell_type": "markdown",
   "metadata": {},
   "source": [
    "### 14. Before you start your grid search, test out your classifier with a straight forward 5-fold cross validation. (Don't ever start jumping into grid search without verifying you have a reasonable model to start with!) Use the same exact code that you used to perform your first cross validation with the decision tree in the beginning of this lab. The only difference should be the classification model (AND THE BINARIZED y!) Report your results. (If you did it right, then you'll likely notice that your initial attempt at even a basic neural net here, with only 5 epochs is pretty good.)"
   ]
  },
  {
   "cell_type": "code",
   "execution_count": 33,
   "metadata": {},
   "outputs": [
    {
     "name": "stdout",
     "output_type": "stream",
     "text": [
      "[[29  9 21]\n",
      " [34 16 21]\n",
      " [16 10 22]]\n",
      "              precision    recall  f1-score   support\n",
      "\n",
      "           0       0.37      0.49      0.42        59\n",
      "           1       0.46      0.23      0.30        71\n",
      "           2       0.34      0.46      0.39        48\n",
      "\n",
      "   micro avg       0.38      0.38      0.38       178\n",
      "   macro avg       0.39      0.39      0.37       178\n",
      "weighted avg       0.40      0.38      0.37       178\n",
      "\n"
     ]
    }
   ],
   "source": [
    "\n",
    "y_dum = pd.get_dummies(y)\n",
    "kfold = KFold(5, random_state = 100, shuffle = True)\n",
    "df_results = pd.DataFrame([],columns=[\"true y\", \"prediction\"])\n",
    "for train_index, test_index in kfold.split(X):\n",
    "    X_train_t, X_test_t = X.loc[train_index], X.loc[test_index]\n",
    "    y_train_t, y_test_t = y_dum.loc[train_index], y_dum.loc[test_index]\n",
    "    \n",
    "    clf = KerasClassifier(build_fn=create_keras_model, verbose=0, epochs=5, batch_size=4)\n",
    "    clf.fit(X_train, y_train)\n",
    "    y_pred = clf.predict(X_test_t)\n",
    "    y_test_unbin = y_test_t.apply(lambda x: 0 if x[\"target_1\"] == 1 else 1 if x[\"target_2\"] == 1 else 2, axis = 1)\n",
    "    row = pd.DataFrame({\"true y\": y_test_unbin, \"prediction\": y_pred})\n",
    "    df_results = df_results.append(row)\n",
    "\n",
    "cm = confusion_matrix(np.array(df_results[\"true y\"].values).astype(\"int\"),np.array( df_results[\"prediction\"].values).astype(\"int\"))\n",
    "print(cm)\n",
    "df_results = df_results.apply(pd.to_numeric)\n",
    "print(classification_report(df_results[\"true y\"], df_results[\"prediction\"])) \n"
   ]
  },
  {
   "cell_type": "markdown",
   "metadata": {},
   "source": [
    "### 15. Finally, use GridSearchCV on Keras (and prepare to waitseveral minutes!) First, create a param_grid dictionary. You must, minimally, specify the following keys:\n",
    "    a) 'optimizer' : ['adam','sgd']\n",
    "    b) number of hidden units : 2 different numbers, one of which\n",
    "    c) 'activation' : ['relu']\n",
    "    d) 'epochs' : [5, 10]\n",
    "    e) 'batch_size' : [4, 8]\n",
    "\n",
    "### Create a new classifier, but be sure verbose=0. Then, just like you did with the decision tree, wrap that classifier model in a GridSearchCV instance. Use a cross validation of 5. (You'll be waiting long enough!) And, report your best You should get some pretty good results!"
   ]
  },
  {
   "cell_type": "code",
   "execution_count": null,
   "metadata": {},
   "outputs": [],
   "source": [
    "model=KerasClassifier(build_fn=create_keras_model, verbose=0)\n",
    "param_grid = { 'opt' : ['adam', 'sgd'], 'num_hidden' : [1,2], \"hidden_size\":[10,12], \"activation\":[\"relu\"], \"epochs\":[5,10], \"batch_size\":[4,8] }\n",
    "grid = GridSearchCV(model,  param_grid, return_train_score=True, cv=5) \n",
    "grid_result = grid.fit(X_train,y_train)"
   ]
  },
  {
   "cell_type": "code",
   "execution_count": 45,
   "metadata": {},
   "outputs": [
    {
     "name": "stdout",
     "output_type": "stream",
     "text": [
      "Best Score:  0.449438202247191\n",
      "Best params:  {'activation': 'relu', 'batch_size': 8, 'epochs': 10, 'hidden_size': 12, 'num_hidden': 2, 'opt': 'adam'}\n"
     ]
    }
   ],
   "source": [
    "print(\"Best Score: \", grid_result.best_score_)\n",
    "print(\"Best params: \", grid_result.best_params_)"
   ]
  },
  {
   "cell_type": "code",
   "execution_count": null,
   "metadata": {},
   "outputs": [],
   "source": [
    "temp = pd.DataFrame(grid_result.cv_results_)\n",
    "temp = temp.sort_values([\"mean_test_score\"], ascending = False)\n",
    "temp = temp.reset_index()\n",
    "for i in range(len(temp)):\n",
    "    print(temp[\"params\"][i])\n",
    "    print(\"Mean: \", temp[\"mean_test_score\"][i])\n",
    "    print(\"stdv: \", temp[\"std_test_score\"][i])\n"
   ]
  },
  {
   "cell_type": "markdown",
   "metadata": {},
   "source": [
    "### 16. Study your results. Can you do even better? How close can you get to 100% accuracy on a 5-fold cross validation with Keras? Try a different activation... say... 'tanh'. Perhaps a few more hidden units? A bit larger batch size, but more epochs? See what happens...."
   ]
  },
  {
   "cell_type": "code",
   "execution_count": 47,
   "metadata": {},
   "outputs": [
    {
     "name": "stderr",
     "output_type": "stream",
     "text": [
      "/Users/Dylan/anaconda3/envs/csci349_2019sp/lib/python3.6/site-packages/sklearn/model_selection/_search.py:841: DeprecationWarning: The default of the `iid` parameter will change from True to False in version 0.22 and will be removed in 0.24. This will change numeric results when test-set sizes are unequal.\n",
      "  DeprecationWarning)\n"
     ]
    },
    {
     "name": "stdout",
     "output_type": "stream",
     "text": [
      "Best Score:  0.550561797752809\n",
      "Best params:  {'activation': 'tanh', 'batch_size': 8, 'epochs': 10, 'hidden_size': 12, 'num_hidden': 3, 'opt': 'adam'}\n"
     ]
    }
   ],
   "source": [
    "model2=KerasClassifier(build_fn=create_keras_model, verbose=0)\n",
    "param_grid2 = { 'opt' : ['adam'], 'num_hidden' : [2,3], \"hidden_size\":[10,12], \"activation\":[\"relu\", \"tanh\"], \"epochs\":[10], \"batch_size\":[8,16] }\n",
    "grid2 = GridSearchCV(model2,  param_grid2, return_train_score=True, cv=5) \n",
    "grid_result2 = grid2.fit(X_train, y_train)\n"
   ]
  },
  {
   "cell_type": "code",
   "execution_count": 51,
   "metadata": {},
   "outputs": [
    {
     "name": "stdout",
     "output_type": "stream",
     "text": [
      "Best Score:  0.550561797752809\n",
      "Best params:  {'activation': 'tanh', 'batch_size': 8, 'epochs': 10, 'hidden_size': 12, 'num_hidden': 3, 'opt': 'adam'}\n"
     ]
    }
   ],
   "source": [
    "print(\"Best Score: \", grid_result2.best_score_)\n",
    "print(\"Best params: \", grid_result2.best_params_)\n"
   ]
  },
  {
   "cell_type": "code",
   "execution_count": null,
   "metadata": {},
   "outputs": [],
   "source": [
    "temp = pd.DataFrame(grid_result2.cv_results_)\n",
    "temp = temp.sort_values([\"mean_test_score\"], ascending = False)\n",
    "temp = temp.reset_index()\n",
    "\n",
    "for i in range(len(temp)):\n",
    "    print(temp[\"params\"][i])\n",
    "    print(\"Mean: \", temp[\"mean_test_score\"][i])\n",
    "    print(\"stdv: \", temp[\"std_test_score\"][i])"
   ]
  }
 ],
 "metadata": {
  "kernelspec": {
   "display_name": "Python 3",
   "language": "python",
   "name": "python3"
  },
  "language_info": {
   "codemirror_mode": {
    "name": "ipython",
    "version": 3
   },
   "file_extension": ".py",
   "mimetype": "text/x-python",
   "name": "python",
   "nbconvert_exporter": "python",
   "pygments_lexer": "ipython3",
   "version": "3.6.8"
  }
 },
 "nbformat": 4,
 "nbformat_minor": 2
}
