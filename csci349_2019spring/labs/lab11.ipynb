{
 "cells": [
  {
   "cell_type": "markdown",
   "metadata": {},
   "source": [
    "# Lab11 - Keras\n",
    "\n",
    "Name: Dylan Zucker \n",
    "\n",
    "Class: CSCI 349 - Intro to Data Mining\n",
    "\n",
    "Semester: 2019SP\n",
    "\n",
    "Instructor: Brian King"
   ]
  },
  {
   "cell_type": "code",
   "execution_count": 1,
   "metadata": {},
   "outputs": [
    {
     "name": "stderr",
     "output_type": "stream",
     "text": [
      "Using TensorFlow backend.\n"
     ]
    }
   ],
   "source": [
    "# Imports\n",
    "import numpy as np\n",
    "import pandas as pd\n",
    "import matplotlib.pyplot as plt\n",
    "import seaborn as sns\n",
    "from sklearn.model_selection import train_test_split, KFold\n",
    "from sklearn.metrics import classification_report, confusion_matrix\n",
    "from keras.models import Sequential\n",
    "from keras.layers.core import Dense, Activation\n",
    "from mlxtend.preprocessing import standardize\n",
    "from sklearn.utils import shuffle\n",
    "from sklearn.model_selection import train_test_split\n",
    "from keras.wrappers.scikit_learn import KerasClassifier\n",
    "from keras.utils import plot_model\n",
    "from keras import optimizers"
   ]
  },
  {
   "cell_type": "markdown",
   "metadata": {},
   "source": [
    "## Exercise 1 – Interview questions about deep learning and keras"
   ]
  },
  {
   "cell_type": "markdown",
   "metadata": {},
   "source": [
    "### 1. What is an artificial neural network (ANN)?\n",
    "\n",
    "An ANN is a computing system inspired by actual neural networks that are in the brain. They have neurons and conections between neurons like synapses. These are applications of the connections model of machine learning founded by Rumelhart (which Prof. Dancy made sure everyone knew before leaving his class). "
   ]
  },
  {
   "cell_type": "markdown",
   "metadata": {},
   "source": [
    "### 2. What is deep learning? How does it relate to an ANN?\n",
    "\n",
    "Deep learning is a machine learning method, that utilizes ANN's as one of its tools. Deep learning uses neural networks with a number of layers. The extra layers and different architectures allow for applications to many fields."
   ]
  },
  {
   "cell_type": "markdown",
   "metadata": {},
   "source": [
    "### 3. Name a couple of examples where deep learning has made a tremendous impact.\n",
    "\n",
    "Deep learning has made a huge impact on image classification. You can learn more about this in my article: https://medium.com/bucknell-ai-cogsci/image-classification-with-convolutional-neural-networks-what-do-they-do-58cf1d279f7c\n",
    "\n",
    "It has also impacted text generation, for more information look no further than my article: https://medium.com/bucknell-ai-cogsci/making-an-ai-to-generate-text-using-lstm-networks-811f9b195c68"
   ]
  },
  {
   "cell_type": "markdown",
   "metadata": {},
   "source": [
    "### 4. Briefly, what is the feedforward algorithm with a neural net?\n",
    "\n",
    "In a fully connected neural network, for example, where all the neurons are connected to each neuron from each of adjecent layer, feedforward takes the sum of the input to each layer's neuron multiplied by the wieght from each input to that neuron (each input times its weight) (which is just the input for the first layer and the output from the last layer times the weights for other layers) and puts that into an activation function to get the output of that neuron which keeps feeding forward into the next layer until it is the output to the network. "
   ]
  },
  {
   "cell_type": "markdown",
   "metadata": {},
   "source": [
    "### 5. In the context of machine learning, what is a loss function?\n",
    "\n",
    "In machine learning a loss function is how a model is evaluated on how well it is modeling the data it trains on. "
   ]
  },
  {
   "cell_type": "markdown",
   "metadata": {},
   "source": [
    "### 6. What is gradient descent? And how is the loss function a critical part of gradient descent?\n",
    "\n",
    "Optimization algorithm to find the minimum of a function. In machine learning we use gradient descent to minimize our loss function by updating the parameters of our model (weights in a neural network, thetas in linear regression, etc)"
   ]
  },
  {
   "cell_type": "markdown",
   "metadata": {},
   "source": [
    "### 7. Training a neural net involves the backpropagation algorithm. In a few sentences, describe what this algorithm does.\n",
    "\n",
    "The algorithm to tune the weights of the neural network. This is done to reduce the error from the last epoch. After calculating the error of the output of the network and all the outputs for each node, go back from the output layer and adjust each weight so the error is decreased. This is done repeately."
   ]
  },
  {
   "cell_type": "markdown",
   "metadata": {},
   "source": [
    "### 8. What is the difference between batch gradient descent and stochastic gradient descent?\n",
    "\n"
   ]
  },
  {
   "cell_type": "markdown",
   "metadata": {},
   "source": [
    "### 9. In the context of neural network training, explain the terms epoch and batch.\n",
    "\n",
    "The batch size is the number of training examples used in one epoch. So the batch is the training examples used in one epoch. An epoch is the training done on one batch, its a single step in training."
   ]
  },
  {
   "cell_type": "markdown",
   "metadata": {},
   "source": [
    "### 10. In the context of machine learning, what is a hyperparameter?\n",
    "\n",
    "A hyperparameter is a parameter to the model, whose value is set before training begins. This can be the learning rate, the number of hidden layers, the momentum, etc."
   ]
  },
  {
   "cell_type": "markdown",
   "metadata": {},
   "source": [
    "### 11. In the context of neural nets training, what are examples of hyperparameters that can affect model performance?\n",
    "\n",
    "The learning rate, the number of hidden layers, the momentum."
   ]
  },
  {
   "cell_type": "markdown",
   "metadata": {},
   "source": [
    "### 12. What is an activation function?\n",
    "\n",
    "An activation function gets the output of a neuron by applying that function to the summed weighted input into the neuron. Common activation functions are sigmoid, tanh, softmax, and ReLu."
   ]
  },
  {
   "cell_type": "markdown",
   "metadata": {},
   "source": [
    "### 13 Most agree that the most popular activation functions are sigmoid, hyperbolic tangent (tanh), softmax, and ReLu (rectified linear unit). Compare and contrast each, using whatever resources you want. Again, 1-2 sentences for each Is sufficient.\n"
   ]
  },
  {
   "cell_type": "markdown",
   "metadata": {},
   "source": [
    "### 14. Why is ReLu so popular for large, deep learning networks?\n",
    "\n",
    "ReLu is much more effecient (while remaining effective) than other options. The derivative is 1 or 0, and the function itself is 0 or x. This is quick for a computer to compute, which is important for really deep networks, especially more advanced networks like convolution networks which a lot of times deal with images with red blue and green pixels requiring a lot of calls to the activation function. "
   ]
  },
  {
   "cell_type": "markdown",
   "metadata": {},
   "source": [
    "### 15. Why is softmax most appropriate for the output layer, especially for classification problems?\n",
    "\n",
    "Softmax is great for multiple-class output layers, because it outputs the probabilites of each class. The output from the softmax function is between 0 and 1, the probability that that neuron is the answer. "
   ]
  },
  {
   "cell_type": "markdown",
   "metadata": {},
   "source": [
    "### 16. What does ReLu sometimes suffer from, and how does a Leaky ReLu activation address it?\n",
    "\n",
    "ReLu can suffer from a problem called \"dying ReLu.\" When one neuron outputs 0 with ReLu it is called dead. Since ReLu's derivative is 0, the neuron is unlikely to become non 0 after this. Leaky ReLu makes a small slope for values less than 0 so theres a chance it can recover."
   ]
  },
  {
   "cell_type": "markdown",
   "metadata": {},
   "source": [
    "### 17. What is Tensorflow? Who created it?\n",
    "\n",
    "Tensorflow was developed by the Google Brain team led by Rajat Monga. it is an open-source library used for machine learning."
   ]
  },
  {
   "cell_type": "markdown",
   "metadata": {},
   "source": [
    "### 18. What are tensors?\n",
    "\n",
    "A tensor is similar to a matrix, it can be of any number of dimensions, called its \"rank\". They are more like objects than a data container, because they have transformations and relations they can perform, like corss product and dot products."
   ]
  },
  {
   "cell_type": "markdown",
   "metadata": {},
   "source": [
    "### 19. What is keras? Who created it?\n",
    "\n",
    "Keras is a high level machine learning library built on other libraries like Tensorflow, CNTK, or Theano. it was made by François Chollet and other various developers."
   ]
  },
  {
   "cell_type": "markdown",
   "metadata": {},
   "source": [
    "### 20. Explain the relationship between keras and tensorflow. How are they similar? Different?\n",
    "\n",
    "Keras is a more abstract machine learning library. It is built on top of tensorflow and uses it in the back end. Tensorflow is currently working on more abstract api calls, I think they may have a recent release with that."
   ]
  },
  {
   "cell_type": "markdown",
   "metadata": {},
   "source": [
    "### 21. Describe what the Sequential class represents\n",
    "\n",
    "Is an object with a linear stack of layers. It represents the neural network which you can add layers to."
   ]
  },
  {
   "cell_type": "markdown",
   "metadata": {},
   "source": [
    "### 22. What is a layer? How is a layer added to a model?\n",
    "\n",
    "A layer is a set of neurons of a certain type that you add to the model. There are dense layers, convolutional layers, LSTM layers, etc. You add through model.add(LayerType()). Where model is a Sequential object."
   ]
  },
  {
   "cell_type": "markdown",
   "metadata": {},
   "source": [
    "### 23. What is a Dense layer?\n",
    "\n",
    "A Dense layer is a fully connected layer where all neurons are connected to all inputs throught weights."
   ]
  },
  {
   "cell_type": "markdown",
   "metadata": {},
   "source": [
    "### 24. What does the compile method do for a model, and what two parameters are required to compile everymodel?"
   ]
  },
  {
   "cell_type": "markdown",
   "metadata": {},
   "source": [
    "## Exercise 2 – The return of iris"
   ]
  },
  {
   "cell_type": "markdown",
   "metadata": {},
   "source": [
    "### 1.  Copy over your code from the previous lab that read in and pre-processed the iris dataset from seaborn. You should have a pandas dataframe that contains four numeric variables and one categorical variable representing the target class. You should have one dataframe X and a dataframe y representing the target class. Do not split your data into training and testing data yet.\n",
    "\n",
    "#### NORMALLY, I would always expect some EDA tasks to be performed to understand the distributions of your data (i.e. the center, shape, spread of your variables, etc). However, you did a lot of that in the previous lab. Generally, these variables have very similar distributions, with centers that are near each other. Thus, technically, you really don't need to standardize your variables. However, it's always good practice to do so anyway. So, if you did not standardize, go ahead and do that to your X dataframe now using a z-score standardization. (All variables are numeric, so this is quite straightforward.)"
   ]
  },
  {
   "cell_type": "code",
   "execution_count": 2,
   "metadata": {},
   "outputs": [],
   "source": [
    "\n",
    "url = \"https://raw.githubusercontent.com/jbrownlee/Datasets/master/iris.csv\"\n",
    "names = ['sepal_length', 'sepal_width', 'petal_length', 'petal_width', 'species']\n",
    "df_iris = pd.read_csv(url, names=names)\n",
    "species_type = pd.api.types.CategoricalDtype(categories = [\"Iris-versicolor\", \"Iris-setosa\", \"Iris-virginica\"])\n",
    "df_iris.species = df_iris.species.astype(species_type)\n",
    "X = df_iris[[\"sepal_length\", \"sepal_width\", \"petal_length\", \"petal_width\"]]\n",
    "X = standardize(X)\n",
    "y = df_iris[[\"species\"]]"
   ]
  },
  {
   "cell_type": "markdown",
   "metadata": {},
   "source": [
    "### 2. Shuffle your data in your data frames. This will be important for later exercises. Read about the shuffle() function in sklearn.utils. Import it, and use it to shuffle your X and y data frames. Use random_state=0. Remember – it returns the shuffled data! So, be sure to reassign X and y."
   ]
  },
  {
   "cell_type": "code",
   "execution_count": 3,
   "metadata": {},
   "outputs": [
    {
     "name": "stdout",
     "output_type": "stream",
     "text": [
      "     sepal_length  sepal_width  petal_length  petal_width\n",
      "114     -0.052506    -0.587764      0.762759     1.579429\n",
      "62       0.189830    -1.976181      0.137236    -0.261193\n",
      "33      -0.416010     2.651878     -1.341272    -1.312977\n",
      "107      1.765012    -0.356361      1.445147     0.790591\n",
      "7       -1.021849     0.800654     -1.284407    -1.312977\n",
      "             species\n",
      "114   Iris-virginica\n",
      "62   Iris-versicolor\n",
      "33       Iris-setosa\n",
      "107   Iris-virginica\n",
      "7        Iris-setosa\n"
     ]
    }
   ],
   "source": [
    "X, y = shuffle(X, y, random_state = 0 )\n",
    "print(X.head())\n",
    "print(y.head())"
   ]
  },
  {
   "cell_type": "markdown",
   "metadata": {},
   "source": [
    "### 3. Use train_test_split to split your data, but this time, let's use an even smaller split, using a 50/50 split, initializing with a random state of 0. (Why? This is a relatively simple dataset. Let's make the problem a bit more challenging by introducing a smaller training data size.) \n",
    "\n",
    "### Completing this will result in X_train, X_test, y_train and y_test data frames, both with 75 instances."
   ]
  },
  {
   "cell_type": "code",
   "execution_count": 4,
   "metadata": {},
   "outputs": [],
   "source": [
    "X_train, X_test, y_train, y_test = train_test_split(X, y, test_size = 0.5, random_state = 0)"
   ]
  },
  {
   "cell_type": "markdown",
   "metadata": {},
   "source": [
    "### 4. How many inputs will your network need to have?\n",
    "\n",
    "Four inputs, because there are four variables in X."
   ]
  },
  {
   "cell_type": "markdown",
   "metadata": {},
   "source": [
    "### 5. Consider the outputs required for a neural network. Remember that the iris dataset is a multi-class dataset. It has to predict three different, categorical values. How do you represent a multi-class target variable in a model like a neural net? For the iris data, what does the final layer of your neural net structure need to look like?\n",
    "\n",
    "You represent it through encoding, like One-hot encoding. So, in this situation with three output classes, we will have three output nodes in the neural network. Each node represents one of the species. The output will be from 0 to 1, in each node, and the sum of the output nodes will be 1. The one with the highest value will be what the network guesses. The expected output will be an array of three values representing the output classes, where the correct output class will have a 1, and the incorrect output classes will have a 0. "
   ]
  },
  {
   "cell_type": "markdown",
   "metadata": {},
   "source": [
    "### 6. Write the code to convert the iris target variables (i.e. y_train and y_test) to a set of binarized variables derived from the target class variable (why? Hopefully you figured out why based on your previous answer!)\n",
    "\n",
    "### With iris, this means that the \"species\" variable should be converted to a data frame (or numpy array) of three variables, one representing each species. (HINT: as usual, there are many ways to do this. I like pandas get_dummies() or scikit-learn's OneHotEncoder.)"
   ]
  },
  {
   "cell_type": "code",
   "execution_count": 5,
   "metadata": {},
   "outputs": [],
   "source": [
    "y_train = pd.get_dummies(y_train)\n",
    "y_test = pd.get_dummies(y_test)"
   ]
  },
  {
   "cell_type": "markdown",
   "metadata": {},
   "source": [
    "### 7. Create an instance of Sequential() called model."
   ]
  },
  {
   "cell_type": "code",
   "execution_count": 6,
   "metadata": {},
   "outputs": [],
   "source": [
    "model = Sequential()"
   ]
  },
  {
   "cell_type": "markdown",
   "metadata": {},
   "source": [
    "### 8. Now, we will sequentially add layers, starting with the hidden layer that receives the input, then you continue adding layers until you get to the output layer. We will keep it simple: one hidden layer, and one output layer. Add a Dense layer representing the hidden layer. The first layer you add always needs to specify the number of inputs. Specify a number of units in the layer of your choosing (e.g. 9-12 is a good start for these simple data.) Specify an activation function of your choosing. Most basic nets use a 'sigmoid' or 'tanh' activation, though deep learning emphasizes 'relu'. (Be sure you understand why!) Any of the above is fine."
   ]
  },
  {
   "cell_type": "code",
   "execution_count": 7,
   "metadata": {},
   "outputs": [],
   "source": [
    "model.add(Dense(10, input_dim = 4,activation = \"relu\"))"
   ]
  },
  {
   "cell_type": "markdown",
   "metadata": {},
   "source": [
    "### 9. Add one more layer representing the output layer. Be sure to specify the correct number of outputs. Remember, use a 'softmax' activation here."
   ]
  },
  {
   "cell_type": "code",
   "execution_count": 8,
   "metadata": {},
   "outputs": [],
   "source": [
    "model.add(Dense(3, activation = \"softmax\"))"
   ]
  },
  {
   "cell_type": "markdown",
   "metadata": {},
   "source": [
    "### 10. OK. Now compile your model. Look at the documentation for the compile() method. You'll need to specify the following parameters:\n",
    "    a) Choose an optimizer – This is a GREATLY HEATED TOPIC on the blogs. The facts: Stochastic Gradient Descent (SGD) is the standard. It is the basis of neural net learning. It is mathematically sound, though it can suffer from the worst computational performance (i.e. timing to convergence.) All enhancements and newer methods are based on SGD. For SGD, an appropriate selection a momentum parameter makes a huge difference, and papers have come out demonstrating that SGD + a good momentum parameter are as effective as the most hyped optimization techniques, if you can identify the good parameters. (For example: https://arxiv.org/abs/1705.08292 ) Selecting good learning rates, momentum and other parameters is not easy. Theoretically, there are an infinite number of combinations you could choose. So, several other methods have come out to help address the challenges of selecting good parameters. Adam is most commonly used optimizer in practice for deep learning. So, I recommend that you just use optimizer = 'adam' for now.\n",
    "\n",
    "    b) Choose the loss function – This is the function that gives you the error that is backpropagated. Use loss='categorical_crossentropy' for this problem.\n",
    "\n",
    "    c) Choose the performance metrics – Typically, you will stick with metrics=['accuracy'] here. You can do far more with your predictions later."
   ]
  },
  {
   "cell_type": "code",
   "execution_count": 9,
   "metadata": {},
   "outputs": [],
   "source": [
    "model.compile(loss='categorical_crossentropy', optimizer='adam', metrics=['accuracy'])"
   ]
  },
  {
   "cell_type": "code",
   "execution_count": 10,
   "metadata": {},
   "outputs": [],
   "source": [
    "# For future use:\n",
    "def make_model(num_hidden = 1, hidden_size = 10, opt = \"adam\", num_inputs = 4, num_outputs = 3):\n",
    "    model = Sequential()\n",
    "    model.add(Dense(hidden_size, input_dim = num_inputs,activation = \"relu\"))\n",
    "    for i in range(num_hidden - 1):\n",
    "        model.add(Dense(hidden_size, activation = \"relu\"))\n",
    "    \n",
    "    model.add(Dense(num_outputs, activation = \"softmax\"))\n",
    "    model.compile(loss='categorical_crossentropy', optimizer=opt, metrics=['accuracy'])\n",
    "    return model"
   ]
  },
  {
   "cell_type": "markdown",
   "metadata": {},
   "source": [
    "### 11. OK, your structure is set. Now you need to train the model. Look at the documentation for the fit() method. Use fit to train your model with X_train and your binarized y_train data. There are many additional parameters available that basically control how you perform weight updates. This is where, depending on your data size and your selection of parameters, you could be waiting a while. This is a SIMPLE dataset, and should take no more than a 5-10 seconds to get good results. You can start with the following:\n",
    "    a) epochs = number of epochs to train the model. An epoch is an iteration over all your training data. You will need to experiment. Start with a value of 50-100.\n",
    "\n",
    "    b) batch_size = number of samples per gradient update. Updating every instance will usually converge the earliest, but with more of variance. At the other extreme, batch_size using the entire dataset is slow, but very smooth convergence. Experiment. Use 1, 5, 15. You'll need to select the number of epochs in conjunction with this parameter. For this simple problem, batch_size = 1 will likely work just fine.\n",
    "\n",
    "    c) verbose = 1 will show output as training progresses. Very useful!\n",
    "\n",
    "    d) Use validation_data to pass your test data. This will make it easy to understand if your model is overfitting your data. (This slows things down a bit more, but it's so important to capture how your model is doing on BOTH training and test data!)\n",
    "    \n",
    "#### The fit() method returns a History object. Look up what this is, and store this result! You'll use it in the next step!"
   ]
  },
  {
   "cell_type": "code",
   "execution_count": 11,
   "metadata": {},
   "outputs": [
    {
     "name": "stdout",
     "output_type": "stream",
     "text": [
      "Train on 75 samples, validate on 75 samples\n",
      "Epoch 1/100\n",
      "75/75 [==============================] - 0s 5ms/step - loss: 1.3507 - acc: 0.2533 - val_loss: 1.0476 - val_acc: 0.3867\n",
      "Epoch 2/100\n",
      "75/75 [==============================] - 0s 1ms/step - loss: 0.9701 - acc: 0.3867 - val_loss: 0.8128 - val_acc: 0.7200\n",
      "Epoch 3/100\n",
      "75/75 [==============================] - 0s 1ms/step - loss: 0.7370 - acc: 0.6267 - val_loss: 0.6661 - val_acc: 0.7333\n",
      "Epoch 4/100\n",
      "75/75 [==============================] - 0s 1ms/step - loss: 0.6099 - acc: 0.6400 - val_loss: 0.5893 - val_acc: 0.8133\n",
      "Epoch 5/100\n",
      "75/75 [==============================] - 0s 1ms/step - loss: 0.5356 - acc: 0.7733 - val_loss: 0.5388 - val_acc: 0.8267\n",
      "Epoch 6/100\n",
      "75/75 [==============================] - 0s 1ms/step - loss: 0.4831 - acc: 0.8133 - val_loss: 0.5038 - val_acc: 0.8267\n",
      "Epoch 7/100\n",
      "75/75 [==============================] - 0s 1ms/step - loss: 0.4423 - acc: 0.8400 - val_loss: 0.4760 - val_acc: 0.8267\n",
      "Epoch 8/100\n",
      "75/75 [==============================] - 0s 1ms/step - loss: 0.4062 - acc: 0.8533 - val_loss: 0.4577 - val_acc: 0.8267\n",
      "Epoch 9/100\n",
      "75/75 [==============================] - 0s 1ms/step - loss: 0.3755 - acc: 0.8933 - val_loss: 0.4392 - val_acc: 0.8133\n",
      "Epoch 10/100\n",
      "75/75 [==============================] - 0s 1ms/step - loss: 0.3498 - acc: 0.9067 - val_loss: 0.4263 - val_acc: 0.8133\n",
      "Epoch 11/100\n",
      "75/75 [==============================] - 0s 1ms/step - loss: 0.3248 - acc: 0.9067 - val_loss: 0.4154 - val_acc: 0.8133\n",
      "Epoch 12/100\n",
      "75/75 [==============================] - 0s 2ms/step - loss: 0.3035 - acc: 0.9200 - val_loss: 0.4066 - val_acc: 0.8133\n",
      "Epoch 13/100\n",
      "75/75 [==============================] - 0s 2ms/step - loss: 0.2855 - acc: 0.9067 - val_loss: 0.4011 - val_acc: 0.8533\n",
      "Epoch 14/100\n",
      "75/75 [==============================] - 0s 1ms/step - loss: 0.2704 - acc: 0.9200 - val_loss: 0.3939 - val_acc: 0.8000\n",
      "Epoch 15/100\n",
      "75/75 [==============================] - 0s 1ms/step - loss: 0.2581 - acc: 0.9200 - val_loss: 0.3936 - val_acc: 0.8133\n",
      "Epoch 16/100\n",
      "75/75 [==============================] - 0s 1ms/step - loss: 0.2439 - acc: 0.9200 - val_loss: 0.3879 - val_acc: 0.8133\n",
      "Epoch 17/100\n",
      "75/75 [==============================] - 0s 1ms/step - loss: 0.2335 - acc: 0.9200 - val_loss: 0.3854 - val_acc: 0.8133\n",
      "Epoch 18/100\n",
      "75/75 [==============================] - 0s 1ms/step - loss: 0.2235 - acc: 0.9200 - val_loss: 0.3868 - val_acc: 0.8133\n",
      "Epoch 19/100\n",
      "75/75 [==============================] - 0s 1ms/step - loss: 0.2151 - acc: 0.9200 - val_loss: 0.3832 - val_acc: 0.8133\n",
      "Epoch 20/100\n",
      "75/75 [==============================] - 0s 1ms/step - loss: 0.2054 - acc: 0.9200 - val_loss: 0.3815 - val_acc: 0.8133\n",
      "Epoch 21/100\n",
      "75/75 [==============================] - 0s 1ms/step - loss: 0.1972 - acc: 0.9467 - val_loss: 0.3798 - val_acc: 0.8133\n",
      "Epoch 22/100\n",
      "75/75 [==============================] - 0s 1ms/step - loss: 0.1895 - acc: 0.9467 - val_loss: 0.3833 - val_acc: 0.8133\n",
      "Epoch 23/100\n",
      "75/75 [==============================] - 0s 1ms/step - loss: 0.1816 - acc: 0.9467 - val_loss: 0.3831 - val_acc: 0.8133\n",
      "Epoch 24/100\n",
      "75/75 [==============================] - 0s 1ms/step - loss: 0.1756 - acc: 0.9600 - val_loss: 0.3819 - val_acc: 0.8267\n",
      "Epoch 25/100\n",
      "75/75 [==============================] - 0s 1ms/step - loss: 0.1682 - acc: 0.9733 - val_loss: 0.3829 - val_acc: 0.8267\n",
      "Epoch 26/100\n",
      "75/75 [==============================] - 0s 1ms/step - loss: 0.1614 - acc: 0.9733 - val_loss: 0.3767 - val_acc: 0.8133\n",
      "Epoch 27/100\n",
      "75/75 [==============================] - 0s 1ms/step - loss: 0.1558 - acc: 0.9733 - val_loss: 0.3724 - val_acc: 0.8133\n",
      "Epoch 28/100\n",
      "75/75 [==============================] - 0s 1ms/step - loss: 0.1496 - acc: 0.9733 - val_loss: 0.3764 - val_acc: 0.8133\n",
      "Epoch 29/100\n",
      "75/75 [==============================] - 0s 1ms/step - loss: 0.1433 - acc: 0.9733 - val_loss: 0.3685 - val_acc: 0.8133\n",
      "Epoch 30/100\n",
      "75/75 [==============================] - 0s 1ms/step - loss: 0.1380 - acc: 0.9733 - val_loss: 0.3627 - val_acc: 0.8133\n",
      "Epoch 31/100\n",
      "75/75 [==============================] - 0s 1ms/step - loss: 0.1331 - acc: 0.9867 - val_loss: 0.3625 - val_acc: 0.8133\n",
      "Epoch 32/100\n",
      "75/75 [==============================] - 0s 1ms/step - loss: 0.1283 - acc: 0.9867 - val_loss: 0.3593 - val_acc: 0.8133\n",
      "Epoch 33/100\n",
      "75/75 [==============================] - 0s 1ms/step - loss: 0.1222 - acc: 0.9867 - val_loss: 0.3575 - val_acc: 0.8533\n",
      "Epoch 34/100\n",
      "75/75 [==============================] - 0s 1ms/step - loss: 0.1180 - acc: 0.9867 - val_loss: 0.3563 - val_acc: 0.8533\n",
      "Epoch 35/100\n",
      "75/75 [==============================] - 0s 1ms/step - loss: 0.1120 - acc: 0.9867 - val_loss: 0.3546 - val_acc: 0.8800\n",
      "Epoch 36/100\n",
      "75/75 [==============================] - 0s 1ms/step - loss: 0.1080 - acc: 0.9867 - val_loss: 0.3491 - val_acc: 0.8800\n",
      "Epoch 37/100\n",
      "75/75 [==============================] - 0s 1ms/step - loss: 0.1034 - acc: 0.9867 - val_loss: 0.3491 - val_acc: 0.8800\n",
      "Epoch 38/100\n",
      "75/75 [==============================] - 0s 1ms/step - loss: 0.0988 - acc: 0.9867 - val_loss: 0.3465 - val_acc: 0.8800\n",
      "Epoch 39/100\n",
      "75/75 [==============================] - 0s 1ms/step - loss: 0.0947 - acc: 1.0000 - val_loss: 0.3416 - val_acc: 0.8800\n",
      "Epoch 40/100\n",
      "75/75 [==============================] - 0s 1ms/step - loss: 0.0918 - acc: 1.0000 - val_loss: 0.3336 - val_acc: 0.8800\n",
      "Epoch 41/100\n",
      "75/75 [==============================] - 0s 1ms/step - loss: 0.0878 - acc: 1.0000 - val_loss: 0.3349 - val_acc: 0.8800\n",
      "Epoch 42/100\n",
      "75/75 [==============================] - 0s 1ms/step - loss: 0.0843 - acc: 1.0000 - val_loss: 0.3277 - val_acc: 0.8800\n",
      "Epoch 43/100\n",
      "75/75 [==============================] - 0s 1ms/step - loss: 0.0807 - acc: 1.0000 - val_loss: 0.3279 - val_acc: 0.8800\n",
      "Epoch 44/100\n",
      "75/75 [==============================] - 0s 1ms/step - loss: 0.0782 - acc: 1.0000 - val_loss: 0.3258 - val_acc: 0.8800\n",
      "Epoch 45/100\n",
      "75/75 [==============================] - 0s 1ms/step - loss: 0.0748 - acc: 1.0000 - val_loss: 0.3242 - val_acc: 0.8800\n",
      "Epoch 46/100\n",
      "75/75 [==============================] - 0s 1ms/step - loss: 0.0722 - acc: 1.0000 - val_loss: 0.3252 - val_acc: 0.8800\n",
      "Epoch 47/100\n",
      "75/75 [==============================] - 0s 1ms/step - loss: 0.0702 - acc: 1.0000 - val_loss: 0.3227 - val_acc: 0.8800\n",
      "Epoch 48/100\n",
      "75/75 [==============================] - 0s 1ms/step - loss: 0.0671 - acc: 1.0000 - val_loss: 0.3143 - val_acc: 0.8667\n",
      "Epoch 49/100\n",
      "75/75 [==============================] - 0s 1ms/step - loss: 0.0652 - acc: 1.0000 - val_loss: 0.3128 - val_acc: 0.8667\n",
      "Epoch 50/100\n",
      "75/75 [==============================] - 0s 1ms/step - loss: 0.0622 - acc: 1.0000 - val_loss: 0.3104 - val_acc: 0.8667\n",
      "Epoch 51/100\n",
      "75/75 [==============================] - 0s 1ms/step - loss: 0.0603 - acc: 1.0000 - val_loss: 0.3096 - val_acc: 0.8667\n",
      "Epoch 52/100\n",
      "75/75 [==============================] - 0s 1ms/step - loss: 0.0587 - acc: 1.0000 - val_loss: 0.3047 - val_acc: 0.8933\n",
      "Epoch 53/100\n",
      "75/75 [==============================] - 0s 1ms/step - loss: 0.0564 - acc: 1.0000 - val_loss: 0.3075 - val_acc: 0.8667\n",
      "Epoch 54/100\n",
      "75/75 [==============================] - 0s 1ms/step - loss: 0.0544 - acc: 1.0000 - val_loss: 0.3037 - val_acc: 0.8933\n",
      "Epoch 55/100\n",
      "75/75 [==============================] - 0s 1ms/step - loss: 0.0525 - acc: 1.0000 - val_loss: 0.3056 - val_acc: 0.8667\n",
      "Epoch 56/100\n",
      "75/75 [==============================] - 0s 1ms/step - loss: 0.0515 - acc: 1.0000 - val_loss: 0.3051 - val_acc: 0.8667\n",
      "Epoch 57/100\n",
      "75/75 [==============================] - 0s 1ms/step - loss: 0.0494 - acc: 1.0000 - val_loss: 0.3024 - val_acc: 0.8933\n",
      "Epoch 58/100\n",
      "75/75 [==============================] - 0s 1ms/step - loss: 0.0484 - acc: 1.0000 - val_loss: 0.2976 - val_acc: 0.8933\n",
      "Epoch 59/100\n",
      "75/75 [==============================] - 0s 1ms/step - loss: 0.0466 - acc: 1.0000 - val_loss: 0.3020 - val_acc: 0.8933\n",
      "Epoch 60/100\n",
      "75/75 [==============================] - 0s 1ms/step - loss: 0.0451 - acc: 1.0000 - val_loss: 0.2976 - val_acc: 0.8933\n",
      "Epoch 61/100\n",
      "75/75 [==============================] - 0s 1ms/step - loss: 0.0434 - acc: 1.0000 - val_loss: 0.2984 - val_acc: 0.8933\n",
      "Epoch 62/100\n",
      "75/75 [==============================] - 0s 1ms/step - loss: 0.0426 - acc: 1.0000 - val_loss: 0.2945 - val_acc: 0.8933\n"
     ]
    },
    {
     "name": "stdout",
     "output_type": "stream",
     "text": [
      "Epoch 63/100\n",
      "75/75 [==============================] - 0s 1ms/step - loss: 0.0409 - acc: 1.0000 - val_loss: 0.2956 - val_acc: 0.8933\n",
      "Epoch 64/100\n",
      "75/75 [==============================] - 0s 1ms/step - loss: 0.0396 - acc: 1.0000 - val_loss: 0.2936 - val_acc: 0.8933\n",
      "Epoch 65/100\n",
      "75/75 [==============================] - 0s 1ms/step - loss: 0.0386 - acc: 1.0000 - val_loss: 0.2923 - val_acc: 0.8933\n",
      "Epoch 66/100\n",
      "75/75 [==============================] - 0s 1ms/step - loss: 0.0377 - acc: 1.0000 - val_loss: 0.2939 - val_acc: 0.8933\n",
      "Epoch 67/100\n",
      "75/75 [==============================] - 0s 1ms/step - loss: 0.0366 - acc: 1.0000 - val_loss: 0.2934 - val_acc: 0.8933\n",
      "Epoch 68/100\n",
      "75/75 [==============================] - 0s 1ms/step - loss: 0.0353 - acc: 1.0000 - val_loss: 0.2952 - val_acc: 0.8933\n",
      "Epoch 69/100\n",
      "75/75 [==============================] - 0s 1ms/step - loss: 0.0346 - acc: 1.0000 - val_loss: 0.2918 - val_acc: 0.8933\n",
      "Epoch 70/100\n",
      "75/75 [==============================] - 0s 1ms/step - loss: 0.0334 - acc: 1.0000 - val_loss: 0.2923 - val_acc: 0.8933\n",
      "Epoch 71/100\n",
      "75/75 [==============================] - 0s 1ms/step - loss: 0.0324 - acc: 1.0000 - val_loss: 0.2916 - val_acc: 0.8933\n",
      "Epoch 72/100\n",
      "75/75 [==============================] - 0s 1ms/step - loss: 0.0315 - acc: 1.0000 - val_loss: 0.2947 - val_acc: 0.8933\n",
      "Epoch 73/100\n",
      "75/75 [==============================] - 0s 1ms/step - loss: 0.0310 - acc: 1.0000 - val_loss: 0.2922 - val_acc: 0.8933\n",
      "Epoch 74/100\n",
      "75/75 [==============================] - 0s 1ms/step - loss: 0.0299 - acc: 1.0000 - val_loss: 0.2929 - val_acc: 0.8933\n",
      "Epoch 75/100\n",
      "75/75 [==============================] - 0s 1ms/step - loss: 0.0291 - acc: 1.0000 - val_loss: 0.2918 - val_acc: 0.9067\n",
      "Epoch 76/100\n",
      "75/75 [==============================] - 0s 1ms/step - loss: 0.0282 - acc: 1.0000 - val_loss: 0.2933 - val_acc: 0.9067\n",
      "Epoch 77/100\n",
      "75/75 [==============================] - 0s 1ms/step - loss: 0.0275 - acc: 1.0000 - val_loss: 0.2926 - val_acc: 0.9067\n",
      "Epoch 78/100\n",
      "75/75 [==============================] - 0s 1ms/step - loss: 0.0267 - acc: 1.0000 - val_loss: 0.2918 - val_acc: 0.9067\n",
      "Epoch 79/100\n",
      "75/75 [==============================] - 0s 1ms/step - loss: 0.0263 - acc: 1.0000 - val_loss: 0.2931 - val_acc: 0.9067\n",
      "Epoch 80/100\n",
      "75/75 [==============================] - 0s 1ms/step - loss: 0.0254 - acc: 1.0000 - val_loss: 0.2960 - val_acc: 0.9067\n",
      "Epoch 81/100\n",
      "75/75 [==============================] - 0s 1ms/step - loss: 0.0250 - acc: 1.0000 - val_loss: 0.3001 - val_acc: 0.8933\n",
      "Epoch 82/100\n",
      "75/75 [==============================] - 0s 1ms/step - loss: 0.0240 - acc: 1.0000 - val_loss: 0.2937 - val_acc: 0.9200\n",
      "Epoch 83/100\n",
      "75/75 [==============================] - 0s 1ms/step - loss: 0.0235 - acc: 1.0000 - val_loss: 0.2922 - val_acc: 0.9067\n",
      "Epoch 84/100\n",
      "75/75 [==============================] - 0s 1ms/step - loss: 0.0229 - acc: 1.0000 - val_loss: 0.2962 - val_acc: 0.9067\n",
      "Epoch 85/100\n",
      "75/75 [==============================] - 0s 1ms/step - loss: 0.0224 - acc: 1.0000 - val_loss: 0.2995 - val_acc: 0.9067\n",
      "Epoch 86/100\n",
      "75/75 [==============================] - 0s 1ms/step - loss: 0.0220 - acc: 1.0000 - val_loss: 0.2969 - val_acc: 0.9067\n",
      "Epoch 87/100\n",
      "75/75 [==============================] - 0s 1ms/step - loss: 0.0211 - acc: 1.0000 - val_loss: 0.2989 - val_acc: 0.9200\n",
      "Epoch 88/100\n",
      "75/75 [==============================] - 0s 1ms/step - loss: 0.0204 - acc: 1.0000 - val_loss: 0.2977 - val_acc: 0.9200\n",
      "Epoch 89/100\n",
      "75/75 [==============================] - 0s 1ms/step - loss: 0.0199 - acc: 1.0000 - val_loss: 0.2988 - val_acc: 0.9067\n",
      "Epoch 90/100\n",
      "75/75 [==============================] - 0s 1ms/step - loss: 0.0195 - acc: 1.0000 - val_loss: 0.2970 - val_acc: 0.9200\n",
      "Epoch 91/100\n",
      "75/75 [==============================] - 0s 1ms/step - loss: 0.0191 - acc: 1.0000 - val_loss: 0.2992 - val_acc: 0.9333\n",
      "Epoch 92/100\n",
      "75/75 [==============================] - 0s 1ms/step - loss: 0.0187 - acc: 1.0000 - val_loss: 0.3014 - val_acc: 0.9200\n",
      "Epoch 93/100\n",
      "75/75 [==============================] - 0s 1ms/step - loss: 0.0186 - acc: 1.0000 - val_loss: 0.3003 - val_acc: 0.9333\n",
      "Epoch 94/100\n",
      "75/75 [==============================] - 0s 1ms/step - loss: 0.0175 - acc: 1.0000 - val_loss: 0.2996 - val_acc: 0.9333\n",
      "Epoch 95/100\n",
      "75/75 [==============================] - 0s 1ms/step - loss: 0.0171 - acc: 1.0000 - val_loss: 0.3023 - val_acc: 0.9333\n",
      "Epoch 96/100\n",
      "75/75 [==============================] - 0s 1ms/step - loss: 0.0168 - acc: 1.0000 - val_loss: 0.3065 - val_acc: 0.9333\n",
      "Epoch 97/100\n",
      "75/75 [==============================] - 0s 1ms/step - loss: 0.0164 - acc: 1.0000 - val_loss: 0.3041 - val_acc: 0.9333\n",
      "Epoch 98/100\n",
      "75/75 [==============================] - 0s 1ms/step - loss: 0.0160 - acc: 1.0000 - val_loss: 0.3094 - val_acc: 0.9200\n",
      "Epoch 99/100\n",
      "75/75 [==============================] - 0s 1ms/step - loss: 0.0159 - acc: 1.0000 - val_loss: 0.3091 - val_acc: 0.9333\n",
      "Epoch 100/100\n",
      "75/75 [==============================] - 0s 1ms/step - loss: 0.0155 - acc: 1.0000 - val_loss: 0.3061 - val_acc: 0.9333\n"
     ]
    }
   ],
   "source": [
    "# I experimented with several different batch sizes \n",
    "model = make_model() # So it resets every time\n",
    "hist = model.fit(X_train, y_train, batch_size=1, epochs=100, validation_data=(X_test, y_test), verbose=1)"
   ]
  },
  {
   "cell_type": "markdown",
   "metadata": {},
   "source": [
    "### 12. It's important to understand your accuracy and loss rates as your model proceeds through training. Visualize the loss on training and test data. Look at the code presented here: https://keras.io/visualization/. You may copy it, or make it more fancy if you choose to do so.\n",
    "\n",
    "### If you did everything correctly, you should show two graphs, one for model loss, and one for model accuracy.\n",
    "\n",
    "### Below are my example graphs, based on the code given on the Keras documentation page. I used 'adam' for optimization, a single hidden layer with 12 units, and 'sigmoid' activation. I trained with epochs=100, and batch_size=1. You'll see that these parameters do pretty well for these data. Even the test data performs quite well.\n",
    "\n",
    "### You can see how useful these plots are. Both loss curves are only starting to stabilize. This suggests that it may be worth repeating this with 150 epochs? Or, do we reduce the number of hidden units? Change the optimization? The momentum? Argh! So many parameters!\n",
    "\n",
    "#### I shouldn't be telling you this. But, in case you haven't, you should be moving code like this into functions that you can reuse..."
   ]
  },
  {
   "cell_type": "code",
   "execution_count": 12,
   "metadata": {},
   "outputs": [],
   "source": [
    "def plot_history(hist):\n",
    "    \"\"\" Code from: https://keras.io/visualization/  \n",
    "    \"\"\"\n",
    "    # Plot training & validation accuracy values\n",
    "    plt.plot(hist.history['acc'])\n",
    "    plt.plot(hist.history['val_acc'])\n",
    "    plt.title('Model accuracy')\n",
    "    plt.ylabel('Accuracy')\n",
    "    plt.xlabel('Epoch')\n",
    "    plt.legend(['Train', 'Test'], loc='upper left')\n",
    "    plt.show()\n",
    "\n",
    "    # Plot training & validation loss values\n",
    "    plt.plot(hist.history['loss'])\n",
    "    plt.plot(hist.history['val_loss'])\n",
    "    plt.title('Model loss')\n",
    "    plt.ylabel('Loss')\n",
    "    plt.xlabel('Epoch')\n",
    "    plt.legend(['Train', 'Test'], loc='upper left')\n",
    "    plt.show()"
   ]
  },
  {
   "cell_type": "code",
   "execution_count": 13,
   "metadata": {},
   "outputs": [
    {
     "data": {
      "image/png": "[encoded data removed]",
      "text/plain": [
       "<Figure size 432x288 with 1 Axes>"
      ]
     },
     "metadata": {
      "needs_background": "light"
     },
     "output_type": "display_data"
    },
    {
     "data": {
      "image/png": "[encoded data removed]",
      "text/plain": [
       "<Figure size 432x288 with 1 Axes>"
      ]
     },
     "metadata": {
      "needs_background": "light"
     },
     "output_type": "display_data"
    }
   ],
   "source": [
    "plot_history(hist)"
   ]
  },
  {
   "cell_type": "markdown",
   "metadata": {},
   "source": [
    "### 13. Try to change some parameters with the model. However, instead of copying and pasting each individual line you wrote above, follow the approach of creating the entire structure in a single line. Use the example laid out in the Keras documention https://keras.io/getting-started/sequential-model-guide/ This will get you started:\n",
    "`model = Sequential([\n",
    "Dense(12, input_shape=(4,)),\n",
    "Activation( ??? ),\n",
    "...\n",
    "])`\n",
    "### Clearly, you need to finish the rest. And, you'll need to compile and build your model. However, change the parameters in some way from what you did above. Clearly, as given above, you need 4 inputs, and 3 outputs. Beyond that, you have countless ways to create a different approach! Different structure? An additional hidden layer? Different activation? Or, use the same structure, and use different batch_size for training? Different optimization algorithm? More epochs? Etc. The choices are quite vast!\n",
    "### Generate the same two plots. Compare and contrast your findings."
   ]
  },
  {
   "cell_type": "code",
   "execution_count": 14,
   "metadata": {},
   "outputs": [
    {
     "data": {
      "image/png": "[encoded data removed]",
      "text/plain": [
       "<Figure size 432x288 with 1 Axes>"
      ]
     },
     "metadata": {
      "needs_background": "light"
     },
     "output_type": "display_data"
    },
    {
     "data": {
      "image/png": "[encoded data removed]",
      "text/plain": [
       "<Figure size 432x288 with 1 Axes>"
      ]
     },
     "metadata": {
      "needs_background": "light"
     },
     "output_type": "display_data"
    }
   ],
   "source": [
    "model = Sequential([\n",
    "    Dense(12, input_shape=(4,)),\n",
    "    Activation('relu'),\n",
    "    Dense(3),\n",
    "    Activation('softmax'),\n",
    "])\n",
    "model.compile(loss='categorical_crossentropy', optimizer='adam', metrics=['accuracy'])\n",
    "hist = model.fit(X_train, y_train, batch_size=1, epochs=100, validation_data=(X_test, y_test), verbose=0)\n",
    "plot_history(hist)"
   ]
  },
  {
   "cell_type": "markdown",
   "metadata": {},
   "source": [
    "### 14. OK, one more time. This time, copy the same model, but an SGD optimizer. Of course, you may have already chosen this by specifying the optimizer='sgd' parameter when you compiled your model. This time, you will instantiate your optimizer.\n",
    "\n",
    "#### From Keras documentation:\n",
    "`keras.optimizers.SGD(lr=0.01, momentum=0.0, decay=0.0, nesterov=False)`\n",
    "\n",
    "Stochastic gradient descent optimizer.\n",
    "\n",
    "Includes support for momentum, learning rate decay, and Nesterov momentum.\n",
    "\n",
    "### Copy one of your models above. (Remember, if you keep using the same model instance, you are continually improving the weights, and thus not evaluating your new model properly! When you experiment with new models, you need to instantiate a new model, or figure out how to reset your weights to random initial values. For now, it's just easy enough to reinstantiate a new model.)\n",
    "### Now, instantiate SGD. Look at the documentation, and choose a different learning rate (lr) and a momentum value of some value between 0.5-0.9. Compile and fit your model. Regenerate your accuracy and loss plots. Compare and contrast your findings.\n"
   ]
  },
  {
   "cell_type": "code",
   "execution_count": 15,
   "metadata": {},
   "outputs": [
    {
     "data": {
      "image/png": "[encoded data removed]",
      "text/plain": [
       "<Figure size 432x288 with 1 Axes>"
      ]
     },
     "metadata": {
      "needs_background": "light"
     },
     "output_type": "display_data"
    },
    {
     "data": {
      "image/png": "[encoded data removed]",
      "text/plain": [
       "<Figure size 432x288 with 1 Axes>"
      ]
     },
     "metadata": {
      "needs_background": "light"
     },
     "output_type": "display_data"
    }
   ],
   "source": [
    "model = Sequential([\n",
    "    Dense(12, input_shape=(4,)),\n",
    "    Activation('relu'),\n",
    "    Dense(3),\n",
    "    Activation('softmax'),\n",
    "])\n",
    "opt = optimizers.SGD(lr=0.01, decay=1e-6, momentum=0.9, nesterov=True)\n",
    "model.compile(loss='categorical_crossentropy', optimizer = opt, metrics=['accuracy'])\n",
    "hist = model.fit(X_train, y_train, batch_size=1, epochs=100, validation_data=(X_test, y_test), verbose=0)\n",
    "plot_history(hist)"
   ]
  },
  {
   "cell_type": "markdown",
   "metadata": {},
   "source": [
    "### 15. Remember, this is a classification problem. Use your model to predict the classes for the test data (using the function predict_classes), and store the results as y_pred."
   ]
  },
  {
   "cell_type": "code",
   "execution_count": null,
   "metadata": {},
   "outputs": [],
   "source": [
    "y_pred = model.predict_classes(X_test)\n",
    "y_pred"
   ]
  },
  {
   "cell_type": "markdown",
   "metadata": {},
   "source": [
    "### 16. Finally, using your code from the lab on classification, output the confusion_matrix and the classification_report (from scikit-learn's metric package) to print out the complete performance results."
   ]
  },
  {
   "cell_type": "code",
   "execution_count": 17,
   "metadata": {},
   "outputs": [
    {
     "name": "stdout",
     "output_type": "stream",
     "text": [
      "              precision    recall  f1-score   support\n",
      "\n",
      "           0       0.82      0.90      0.86        20\n",
      "           1       0.96      1.00      0.98        22\n",
      "           2       0.97      0.88      0.92        33\n",
      "\n",
      "   micro avg       0.92      0.92      0.92        75\n",
      "   macro avg       0.91      0.93      0.92        75\n",
      "weighted avg       0.92      0.92      0.92        75\n",
      "\n",
      "[[18  0  4]\n",
      " [ 1 22  0]\n",
      " [ 1  0 29]]\n"
     ]
    }
   ],
   "source": [
    "y_test_unbin = y_test.apply(lambda x: 0 if x[\"species_Iris-versicolor\"] == 1 else 1 if x[\"species_Iris-setosa\"] == 1 else 2, axis = 1)\n",
    "print(classification_report(y_pred, y_test_unbin))\n",
    "print(confusion_matrix(y_test_unbin, y_pred))"
   ]
  },
  {
   "cell_type": "markdown",
   "metadata": {},
   "source": [
    "## Exercise 3 – Wrapping keras in the scikit-learn framework."
   ]
  },
  {
   "cell_type": "markdown",
   "metadata": {},
   "source": [
    "### 17. Import the above class into your code. Then write a function called create_keras_model(). Copy all of your code that creates the Sequential instance, adds the layers, activation functions, and compiles it, into this function.\n",
    "\n",
    "#### For example, my function looks as follows:\n",
    "<code>from keras.wrappers.scikit_learn import KerasClassifier\n",
    "def create_keras_model():\n",
    "model = Sequential()\n",
    "model.add(Dense(12, input_shape=(4,)))\n",
    "model.add(Activation('sigmoid'))\n",
    "model.add(Dense(3))\n",
    "model.add(Activation('softmax'))\n",
    "model.compile(optimizer='adam', loss=\"categorical_crossentropy\",\n",
    "metrics=[\"accuracy\"])\n",
    "return model\n",
    "#Create a wrapped keras model\n",
    "clf = KerasClassifier(build_fn=create_keras_model, verbose=1, epochs=100,\n",
    "batch_size=1)</code>"
   ]
  },
  {
   "cell_type": "code",
   "execution_count": 18,
   "metadata": {},
   "outputs": [],
   "source": [
    "### I already made this function way up above\n",
    "clf = KerasClassifier(build_fn=make_model, verbose=1, epochs=100, batch_size=1)"
   ]
  },
  {
   "cell_type": "markdown",
   "metadata": {},
   "source": [
    "### 18. At this point, you now have a classifier model that behaves like any other scikit-learn classifier! Cool, right? So, using the clf classifier above, use it just like you would any other classifier. Run the fit method on your classifier, just like you did in lab10. Use X_train and the one hot encoded y_train data. Then, use the predict() method to generate class predictions on X_test. Store the results in y_pred."
   ]
  },
  {
   "cell_type": "code",
   "execution_count": 19,
   "metadata": {},
   "outputs": [
    {
     "name": "stdout",
     "output_type": "stream",
     "text": [
      "75/75 [==============================] - 0s 769us/step\n"
     ]
    },
    {
     "data": {
      "text/plain": [
       "array([2, 2, 2, 1, 0, 1, 2, 2, 2, 0, 1, 2, 1, 2, 0, 2, 1, 2, 0, 0, 2, 0,\n",
       "       2, 0, 2, 1, 1, 1, 1, 1, 2, 2, 0, 0, 0, 2, 1, 2, 1, 2, 0, 1, 2, 1,\n",
       "       2, 0, 2, 1, 2, 0, 1, 0, 0, 2, 1, 2, 1, 2, 0, 0, 2, 2, 1, 0, 0, 2,\n",
       "       0, 1, 0, 0, 1, 2, 2, 1, 0])"
      ]
     },
     "execution_count": 19,
     "metadata": {},
     "output_type": "execute_result"
    }
   ],
   "source": [
    "hist = clf.fit(X_train, y_train, batch_size=1, epochs=100, validation_data=(X_test, y_test), verbose=0)\n",
    "y_pred = clf.predict(X_test)\n",
    "y_pred"
   ]
  },
  {
   "cell_type": "markdown",
   "metadata": {},
   "source": [
    "### 19. Use the predictions to generate a confusion matrix."
   ]
  },
  {
   "cell_type": "code",
   "execution_count": 20,
   "metadata": {},
   "outputs": [
    {
     "name": "stdout",
     "output_type": "stream",
     "text": [
      "              precision    recall  f1-score   support\n",
      "\n",
      "           0       0.86      0.83      0.84        23\n",
      "           1       0.96      1.00      0.98        22\n",
      "           2       0.90      0.90      0.90        30\n",
      "\n",
      "   micro avg       0.91      0.91      0.91        75\n",
      "   macro avg       0.91      0.91      0.91        75\n",
      "weighted avg       0.91      0.91      0.91        75\n",
      "\n",
      "[[19  0  3]\n",
      " [ 1 22  0]\n",
      " [ 3  0 27]]\n"
     ]
    }
   ],
   "source": [
    "y_test_unbin = y_test.apply(lambda x: 0 if x[\"species_Iris-versicolor\"] == 1 else 1 if x[\"species_Iris-setosa\"] == 1 else 2, axis = 1)\n",
    "print(classification_report(y_pred, y_test_unbin))\n",
    "print(confusion_matrix(y_test_unbin, y_pred))"
   ]
  },
  {
   "cell_type": "markdown",
   "metadata": {},
   "source": [
    "### 20. Generate a performance report with the classification_report function."
   ]
  },
  {
   "cell_type": "code",
   "execution_count": 25,
   "metadata": {},
   "outputs": [
    {
     "name": "stdout",
     "output_type": "stream",
     "text": [
      "              precision    recall  f1-score   support\n",
      "\n",
      "           0       0.83      0.86      0.84        22\n",
      "           1       1.00      0.96      0.98        23\n",
      "           2       0.90      0.90      0.90        30\n",
      "\n",
      "   micro avg       0.91      0.91      0.91        75\n",
      "   macro avg       0.91      0.91      0.91        75\n",
      "weighted avg       0.91      0.91      0.91        75\n",
      "\n"
     ]
    }
   ],
   "source": [
    "print(classification_report(y_test_unbin, y_pred))"
   ]
  },
  {
   "cell_type": "markdown",
   "metadata": {},
   "source": [
    "### 21. Now, harness the power of wrapping this class. Use your code from lab10 that performed a full cross validation. For sake of your time, you may set K to 5. Also, you will likely want to disable verbose mode for this, otherwise you'll have a LOT of output. AND, because deep learning models can take a while to train each model, it is a good idea to generate some output in your loop to show that the cross validation is progressing.\n",
    "For example:\n",
    "<code>\n",
    "Starting Fold #1\n",
    "Fold #1 complete, time = 30.15 sec\n",
    "Starting Fold #2\n",
    "Fold #2 complete, time = 30.44 sec\n",
    "Starting Fold #3\n",
    "Fold #3 complete, time = 30.52 sec\n",
    "Starting Fold #4\n",
    "Fold #4 complete, time = 31.04 sec\n",
    "Starting Fold #5\n",
    "Fold #5 complete, time = 31.00 sec\n",
    "DONE!\n",
    "</code>"
   ]
  },
  {
   "cell_type": "code",
   "execution_count": 61,
   "metadata": {},
   "outputs": [
    {
     "name": "stdout",
     "output_type": "stream",
     "text": [
      "30/30 [==============================] - 0s 6ms/step\n",
      "30/30 [==============================] - 0s 7ms/step\n",
      "30/30 [==============================] - 0s 7ms/step\n",
      "30/30 [==============================] - 0s 7ms/step\n",
      "30/30 [==============================] - 0s 8ms/step\n"
     ]
    }
   ],
   "source": [
    "y_dum = pd.get_dummies(y)\n",
    "kfold = KFold(5, random_state = 100, shuffle = True)\n",
    "df_results = pd.DataFrame([],columns=[\"true y\", \"prediction\"])\n",
    "for train_index, test_index in kfold.split(X):\n",
    "    X_train_t, X_test_t = X.loc[train_index], X.loc[test_index]\n",
    "    y_train_t, y_test_t = y_dum.loc[train_index], y_dum.loc[test_index]\n",
    "    \n",
    "    clf = KerasClassifier(build_fn=make_model, verbose=1, epochs=100, batch_size=1)\n",
    "    clf.fit(X_train_t, y_train_t, batch_size=1, epochs=100, validation_data=(X_test_t, y_test_t), verbose=0)\n",
    "    y_pred = clf.predict(X_test)\n",
    "    #y_test_t = y_test_t[\"species\"]\n",
    "    y_test_unbin = y_test_t.apply(lambda x: 0 if x[\"species_Iris-versicolor\"] == 1 else 1 if x[\"species_Iris-setosa\"] == 1 else 2, axis = 1)\n",
    "    row = pd.DataFrame({\"true y\": y_test_unbin, \"prediction\": y_pred})\n",
    "    df_results = df_results.append(row)\n",
    "\n",
    "\n"
   ]
  },
  {
   "cell_type": "markdown",
   "metadata": {},
   "source": [
    "### 22. Generate a full confusion matrix and final classification report based on your 5-fold cross validation of the keras model."
   ]
  },
  {
   "cell_type": "code",
   "execution_count": 79,
   "metadata": {},
   "outputs": [],
   "source": [
    "y_pred = df_results[\"prediction\"]\n",
    "y_true = df_results[\"true y\"]\n",
    "cm = confusion_matrix(np.array(y_true.values).astype(\"int\"),np.array( y_pred.values).astype(\"int\"))"
   ]
  },
  {
   "cell_type": "code",
   "execution_count": 80,
   "metadata": {},
   "outputs": [
    {
     "name": "stdout",
     "output_type": "stream",
     "text": [
      "[[29  5 16]\n",
      " [ 0 50  0]\n",
      " [ 0  0 50]]\n"
     ]
    }
   ],
   "source": [
    "print(cm)"
   ]
  }
 ],
 "metadata": {
  "kernelspec": {
   "display_name": "Python 3",
   "language": "python",
   "name": "python3"
  },
  "language_info": {
   "codemirror_mode": {
    "name": "ipython",
    "version": 3
   },
   "file_extension": ".py",
   "mimetype": "text/x-python",
   "name": "python",
   "nbconvert_exporter": "python",
   "pygments_lexer": "ipython3",
   "version": "3.6.8"
  }
 },
 "nbformat": 4,
 "nbformat_minor": 2
}
