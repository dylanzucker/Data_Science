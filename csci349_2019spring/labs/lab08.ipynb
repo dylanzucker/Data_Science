{
 "cells": [
  {
   "cell_type": "markdown",
   "metadata": {},
   "source": [
    "# Lab08 - Distances and PCA\n",
    "\n",
    "Name: Dylan Zucker \n",
    "\n",
    "Class: CSCI 349 - Intro to Data Mining\n",
    "\n",
    "Semester: 2019SP\n",
    "\n",
    "Instructor: Brian King\n",
    "\n"
   ]
  },
  {
   "cell_type": "code",
   "execution_count": 1,
   "metadata": {},
   "outputs": [],
   "source": [
    "import numpy as np\n",
    "import pandas as pd\n",
    "import matplotlib.pyplot as plt\n",
    "import seaborn as sns\n",
    "import scipy.stats as stats\n",
    "from sklearn.preprocessing import MinMaxScaler\n",
    "from scipy.spatial import distance_matrix\n",
    "from scipy.spatial import distance\n",
    "from sklearn.decomposition import PCA\n",
    "from mpl_toolkits.mplot3d import Axes3D"
   ]
  },
  {
   "cell_type": "markdown",
   "metadata": {},
   "source": [
    "### 1. You will compute the distance matrix for data that is similar to a simple set shown in class, just a bit more extensive. This will give you an opportunity to understand how to perform proximity measurements on data with different types of variables on your own. First, set up a pandas data frame with the following 8 observations and 3 variables:\n",
    "\n",
    "Set the types as follows:\n",
    "\n",
    "test1: Nominal, levels = {\"A\", \"B\", \"C\"}\n",
    "\n",
    "test2: Oridnal, levels = {\"poor\", \"fair\", \"good\", \"excellent\" }\n",
    "\n",
    "test3: Numeric\n",
    "\n",
    "Name the data frame df. Set the index correctly. Use the info() method to show the type of each variable in df when you have completed your dataframe."
   ]
  },
  {
   "cell_type": "code",
   "execution_count": 2,
   "metadata": {},
   "outputs": [
    {
     "name": "stdout",
     "output_type": "stream",
     "text": [
      "<class 'pandas.core.frame.DataFrame'>\n",
      "Index: 8 entries, A1 to A8\n",
      "Data columns (total 3 columns):\n",
      "test1    8 non-null category\n",
      "test2    8 non-null category\n",
      "test3    8 non-null int64\n",
      "dtypes: category(2), int64(1)\n",
      "memory usage: 440.0+ bytes\n"
     ]
    }
   ],
   "source": [
    "#df = pd.DataFrame({\"test1\":[\"A\",\"C\",\"C\",\"B\",\"A\", \"B\", \"C\", \"B\"], \"test2\": [\"excellent\", \"fair\", \"good\", \"fair\", \"poor\", \"excellent\", \"good\", \"good\"], \"test3\":[25, 32, 60, 53, 23, 37, 45, 49]})\n",
    "test1_type = pd.api.types.CategoricalDtype(categories = [\"A\", \"B\", \"C\"])\n",
    "test2_type = pd.api.types.CategoricalDtype(categories = [\"poor\", \"fair\", \"good\", \"excellent\"], ordered=True)\n",
    "# Might not want .cat.codes\n",
    "df = pd.DataFrame({\"test1\":pd.Series([\"A\",\"C\",\"C\",\"B\",\"A\", \"B\", \"C\", \"B\"]).astype(test1_type), \\\n",
    "                   \"test2\": pd.Series([\"excellent\", \"fair\", \"good\", \"fair\", \"poor\", \"excellent\", \"good\", \"good\"]).astype(test2_type), \\\n",
    "                   \"test3\":[25, 32, 60, 53, 23, 37, 45, 49]})\n",
    "pd.to_numeric(df.test3)\n",
    "df.index=[\"A1\",\"A2\",\"A3\",\"A4\",\"A5\",\"A6\",\"A7\",\"A8\"]\n",
    "df.info()"
   ]
  },
  {
   "cell_type": "markdown",
   "metadata": {},
   "source": [
    "### 2. Report the counts of each level of the categorical variables."
   ]
  },
  {
   "cell_type": "code",
   "execution_count": 3,
   "metadata": {},
   "outputs": [
    {
     "name": "stdout",
     "output_type": "stream",
     "text": [
      "C    3\n",
      "B    3\n",
      "A    2\n",
      "Name: test1, dtype: int64\n",
      "good         3\n",
      "excellent    2\n",
      "fair         2\n",
      "poor         1\n",
      "Name: test2, dtype: int64\n"
     ]
    }
   ],
   "source": [
    "print(df.test1.value_counts())\n",
    "print(df.test2.value_counts())"
   ]
  },
  {
   "cell_type": "markdown",
   "metadata": {},
   "source": [
    "### 3. Report a cross tabulation (i.e. contingency table) between test1 and test2. Include the margins (i.e. the sum of the rows and the columns) in your reported table (HINT: Look up pandas crosstab() function)"
   ]
  },
  {
   "cell_type": "code",
   "execution_count": 4,
   "metadata": {},
   "outputs": [
    {
     "data": {
      "text/html": [
       "<div>\n",
       "<style scoped>\n",
       "    .dataframe tbody tr th:only-of-type {\n",
       "        vertical-align: middle;\n",
       "    }\n",
       "\n",
       "    .dataframe tbody tr th {\n",
       "        vertical-align: top;\n",
       "    }\n",
       "\n",
       "    .dataframe thead th {\n",
       "        text-align: right;\n",
       "    }\n",
       "</style>\n",
       "<table border=\"1\" class=\"dataframe\">\n",
       "  <thead>\n",
       "    <tr style=\"text-align: right;\">\n",
       "      <th>test2</th>\n",
       "      <th>poor</th>\n",
       "      <th>fair</th>\n",
       "      <th>good</th>\n",
       "      <th>excellent</th>\n",
       "      <th>All</th>\n",
       "    </tr>\n",
       "    <tr>\n",
       "      <th>test1</th>\n",
       "      <th></th>\n",
       "      <th></th>\n",
       "      <th></th>\n",
       "      <th></th>\n",
       "      <th></th>\n",
       "    </tr>\n",
       "  </thead>\n",
       "  <tbody>\n",
       "    <tr>\n",
       "      <th>A</th>\n",
       "      <td>1</td>\n",
       "      <td>0</td>\n",
       "      <td>0</td>\n",
       "      <td>1</td>\n",
       "      <td>2</td>\n",
       "    </tr>\n",
       "    <tr>\n",
       "      <th>B</th>\n",
       "      <td>0</td>\n",
       "      <td>1</td>\n",
       "      <td>1</td>\n",
       "      <td>1</td>\n",
       "      <td>3</td>\n",
       "    </tr>\n",
       "    <tr>\n",
       "      <th>C</th>\n",
       "      <td>0</td>\n",
       "      <td>1</td>\n",
       "      <td>2</td>\n",
       "      <td>0</td>\n",
       "      <td>3</td>\n",
       "    </tr>\n",
       "    <tr>\n",
       "      <th>All</th>\n",
       "      <td>2</td>\n",
       "      <td>2</td>\n",
       "      <td>3</td>\n",
       "      <td>1</td>\n",
       "      <td>8</td>\n",
       "    </tr>\n",
       "  </tbody>\n",
       "</table>\n",
       "</div>"
      ],
      "text/plain": [
       "test2  poor  fair  good  excellent  All\n",
       "test1                                  \n",
       "A         1     0     0          1    2\n",
       "B         0     1     1          1    3\n",
       "C         0     1     2          0    3\n",
       "All       2     2     3          1    8"
      ]
     },
     "execution_count": 4,
     "metadata": {},
     "output_type": "execute_result"
    }
   ],
   "source": [
    "pd.crosstab(df.test1, df.test2, margins=True)"
   ]
  },
  {
   "cell_type": "markdown",
   "metadata": {},
   "source": [
    "### 4. From the previous table, store the contingency table without the margins in a variable called observed"
   ]
  },
  {
   "cell_type": "code",
   "execution_count": 5,
   "metadata": {},
   "outputs": [],
   "source": [
    "observed = pd.crosstab(df.test1, df.test2)"
   ]
  },
  {
   "cell_type": "markdown",
   "metadata": {},
   "source": [
    "### 5. Run a chi-squared test for independence using the contingency table from the previous step. Clearly report the chi2 statistic, the p value, and the degrees of freedom, and then use the p-value to clearly state whether test1 and test2 are independent."
   ]
  },
  {
   "cell_type": "code",
   "execution_count": 6,
   "metadata": {},
   "outputs": [
    {
     "name": "stdout",
     "output_type": "stream",
     "text": [
      "Chi2 =  6.444444444444444\n",
      "p value =  0.37528525266160834\n",
      "Degrees of Freedom:  6\n",
      "Weakly Dependent\n"
     ]
    }
   ],
   "source": [
    "chi2, p_value, dof, ex = stats.chi2_contingency(observed)\n",
    "print(\"Chi2 = \", chi2)\n",
    "print(\"p value = \", p_value)\n",
    "print(\"Degrees of Freedom: \", dof)\n",
    "print(\"Not independent\" if p_value > .5 else \"Weakly Dependent\" if p_value > .2 else \"independent\")"
   ]
  },
  {
   "cell_type": "markdown",
   "metadata": {},
   "source": [
    "### 6. Use describe() to report the summary statistics of variable test3."
   ]
  },
  {
   "cell_type": "code",
   "execution_count": 7,
   "metadata": {},
   "outputs": [
    {
     "data": {
      "text/plain": [
       "count     8.000000\n",
       "mean     40.500000\n",
       "std      13.416408\n",
       "min      23.000000\n",
       "25%      30.250000\n",
       "50%      41.000000\n",
       "75%      50.000000\n",
       "max      60.000000\n",
       "Name: test3, dtype: float64"
      ]
     },
     "execution_count": 7,
     "metadata": {},
     "output_type": "execute_result"
    }
   ],
   "source": [
    "df.test3.describe()"
   ]
  },
  {
   "cell_type": "markdown",
   "metadata": {},
   "source": [
    "### 7. Now, you're going to explore some similarities between observations. Yes, this is a SMALL dataset! (Don't bother to explore large data until you can understand how they work on small, toy experimental data!) Before you can compute a pairwise distance matrix to report the distance between all pairs of observations, always remember that you can only compute distances between strictly numeric data. Therefore, you must convert your data to numeric types for ALL variables you want to include in your distance metric. \n",
    "\n",
    "### Create a new data frame called df_num, that represents a numeric version of the above. Let's begin by creating a version that stores all three variables above encoded as simple as possible. Do NOT rescale your data... yet!\n",
    "\n",
    "### NOTE: If you do this from a dataframe that has the categorical variables set up properly, then this step is simple to do. The two choices I generally follow are either: 1) use the cat member of your categorical data, which stores a CategoricalAccessor object (look it up), or use one of the encoders in the sklearn.preprocessing module. The first option is easier, and yet another reason why it's so important to take the time to preprocess your data as correctly and error-free as possible.\n",
    "\n",
    "### Your resulting data frame at the end of this step should be as follows:"
   ]
  },
  {
   "cell_type": "code",
   "execution_count": 8,
   "metadata": {},
   "outputs": [
    {
     "data": {
      "text/html": [
       "<div>\n",
       "<style scoped>\n",
       "    .dataframe tbody tr th:only-of-type {\n",
       "        vertical-align: middle;\n",
       "    }\n",
       "\n",
       "    .dataframe tbody tr th {\n",
       "        vertical-align: top;\n",
       "    }\n",
       "\n",
       "    .dataframe thead th {\n",
       "        text-align: right;\n",
       "    }\n",
       "</style>\n",
       "<table border=\"1\" class=\"dataframe\">\n",
       "  <thead>\n",
       "    <tr style=\"text-align: right;\">\n",
       "      <th></th>\n",
       "      <th>test1</th>\n",
       "      <th>test2</th>\n",
       "      <th>test3</th>\n",
       "    </tr>\n",
       "  </thead>\n",
       "  <tbody>\n",
       "    <tr>\n",
       "      <th>A1</th>\n",
       "      <td>0</td>\n",
       "      <td>3</td>\n",
       "      <td>25</td>\n",
       "    </tr>\n",
       "    <tr>\n",
       "      <th>A2</th>\n",
       "      <td>2</td>\n",
       "      <td>1</td>\n",
       "      <td>32</td>\n",
       "    </tr>\n",
       "    <tr>\n",
       "      <th>A3</th>\n",
       "      <td>2</td>\n",
       "      <td>2</td>\n",
       "      <td>60</td>\n",
       "    </tr>\n",
       "    <tr>\n",
       "      <th>A4</th>\n",
       "      <td>1</td>\n",
       "      <td>1</td>\n",
       "      <td>53</td>\n",
       "    </tr>\n",
       "    <tr>\n",
       "      <th>A5</th>\n",
       "      <td>0</td>\n",
       "      <td>0</td>\n",
       "      <td>23</td>\n",
       "    </tr>\n",
       "    <tr>\n",
       "      <th>A6</th>\n",
       "      <td>1</td>\n",
       "      <td>3</td>\n",
       "      <td>37</td>\n",
       "    </tr>\n",
       "    <tr>\n",
       "      <th>A7</th>\n",
       "      <td>2</td>\n",
       "      <td>2</td>\n",
       "      <td>45</td>\n",
       "    </tr>\n",
       "    <tr>\n",
       "      <th>A8</th>\n",
       "      <td>1</td>\n",
       "      <td>2</td>\n",
       "      <td>49</td>\n",
       "    </tr>\n",
       "  </tbody>\n",
       "</table>\n",
       "</div>"
      ],
      "text/plain": [
       "    test1  test2  test3\n",
       "A1      0      3     25\n",
       "A2      2      1     32\n",
       "A3      2      2     60\n",
       "A4      1      1     53\n",
       "A5      0      0     23\n",
       "A6      1      3     37\n",
       "A7      2      2     45\n",
       "A8      1      2     49"
      ]
     },
     "execution_count": 8,
     "metadata": {},
     "output_type": "execute_result"
    }
   ],
   "source": [
    "df_num = pd.DataFrame({\"test1\": df.test1.cat.codes,\"test2\": df.test2.cat.codes, \"test3\": df.test3})\n",
    "df_num"
   ]
  },
  {
   "cell_type": "markdown",
   "metadata": {},
   "source": [
    "### 8. As you learned in lecture, you absolutely must rescale your data to fall on a similar scale. There are different approaches to doing so. A standardized zscore is among the most common, but not necessarily always the best approach, especially when you are dealing with numeric representations of true categorical data. Rescaling your data to all fall between 0 and 1 is also a common approach, particularly when you have categorical data.\n",
    "\n",
    "### Let's first try to rescale our data to all fall between the values of 0 and 1. Use the MinMaxScaler in sklearn.preprocessing to rescale all variables to fall between 0 and 1. Store the transformed data as a pandas data frame called df_num_zeroone,. Your result should look as follows:"
   ]
  },
  {
   "cell_type": "code",
   "execution_count": 9,
   "metadata": {},
   "outputs": [
    {
     "name": "stderr",
     "output_type": "stream",
     "text": [
      "/Users/Dylan/anaconda3/envs/csci349_2019sp/lib/python3.6/site-packages/sklearn/preprocessing/data.py:323: DataConversionWarning: Data with input dtype int8 were all converted to float64 by MinMaxScaler.\n",
      "  return self.partial_fit(X, y)\n",
      "/Users/Dylan/anaconda3/envs/csci349_2019sp/lib/python3.6/site-packages/sklearn/preprocessing/data.py:323: DataConversionWarning: Data with input dtype int8 were all converted to float64 by MinMaxScaler.\n",
      "  return self.partial_fit(X, y)\n",
      "/Users/Dylan/anaconda3/envs/csci349_2019sp/lib/python3.6/site-packages/sklearn/preprocessing/data.py:323: DataConversionWarning: Data with input dtype int64 were all converted to float64 by MinMaxScaler.\n",
      "  return self.partial_fit(X, y)\n"
     ]
    },
    {
     "data": {
      "text/html": [
       "<div>\n",
       "<style scoped>\n",
       "    .dataframe tbody tr th:only-of-type {\n",
       "        vertical-align: middle;\n",
       "    }\n",
       "\n",
       "    .dataframe tbody tr th {\n",
       "        vertical-align: top;\n",
       "    }\n",
       "\n",
       "    .dataframe thead th {\n",
       "        text-align: right;\n",
       "    }\n",
       "</style>\n",
       "<table border=\"1\" class=\"dataframe\">\n",
       "  <thead>\n",
       "    <tr style=\"text-align: right;\">\n",
       "      <th></th>\n",
       "      <th>test1</th>\n",
       "      <th>test2</th>\n",
       "      <th>test3</th>\n",
       "    </tr>\n",
       "  </thead>\n",
       "  <tbody>\n",
       "    <tr>\n",
       "      <th>A1</th>\n",
       "      <td>0.0</td>\n",
       "      <td>1.000000</td>\n",
       "      <td>0.054054</td>\n",
       "    </tr>\n",
       "    <tr>\n",
       "      <th>A2</th>\n",
       "      <td>1.0</td>\n",
       "      <td>0.333333</td>\n",
       "      <td>0.243243</td>\n",
       "    </tr>\n",
       "    <tr>\n",
       "      <th>A3</th>\n",
       "      <td>1.0</td>\n",
       "      <td>0.666667</td>\n",
       "      <td>1.000000</td>\n",
       "    </tr>\n",
       "    <tr>\n",
       "      <th>A4</th>\n",
       "      <td>0.5</td>\n",
       "      <td>0.333333</td>\n",
       "      <td>0.810811</td>\n",
       "    </tr>\n",
       "    <tr>\n",
       "      <th>A5</th>\n",
       "      <td>0.0</td>\n",
       "      <td>0.000000</td>\n",
       "      <td>0.000000</td>\n",
       "    </tr>\n",
       "    <tr>\n",
       "      <th>A6</th>\n",
       "      <td>0.5</td>\n",
       "      <td>1.000000</td>\n",
       "      <td>0.378378</td>\n",
       "    </tr>\n",
       "    <tr>\n",
       "      <th>A7</th>\n",
       "      <td>1.0</td>\n",
       "      <td>0.666667</td>\n",
       "      <td>0.594595</td>\n",
       "    </tr>\n",
       "    <tr>\n",
       "      <th>A8</th>\n",
       "      <td>0.5</td>\n",
       "      <td>0.666667</td>\n",
       "      <td>0.702703</td>\n",
       "    </tr>\n",
       "  </tbody>\n",
       "</table>\n",
       "</div>"
      ],
      "text/plain": [
       "    test1     test2     test3\n",
       "A1    0.0  1.000000  0.054054\n",
       "A2    1.0  0.333333  0.243243\n",
       "A3    1.0  0.666667  1.000000\n",
       "A4    0.5  0.333333  0.810811\n",
       "A5    0.0  0.000000  0.000000\n",
       "A6    0.5  1.000000  0.378378\n",
       "A7    1.0  0.666667  0.594595\n",
       "A8    0.5  0.666667  0.702703"
      ]
     },
     "execution_count": 9,
     "metadata": {},
     "output_type": "execute_result"
    }
   ],
   "source": [
    "scale = MinMaxScaler()\n",
    "#df_num_zeroone = pd.DataFrame({\"test1\":scale.fit_transform(df_num[[\"test1\"]]), \\\n",
    "#                               \"test2\": scale.fit_transform(df_num[[\"test2\"]]),\\\n",
    "#                               \"test3\": scale.fit_transform(df_num[[\"test3\"]])})\n",
    "df_num_zeroone = df_num\n",
    "df_num_zeroone[\"test1\"] = scale.fit_transform(df_num[[\"test1\"]])\n",
    "df_num_zeroone[\"test2\"] = scale.fit_transform(df_num[[\"test2\"]])\n",
    "df_num_zeroone[\"test3\"] = scale.fit_transform(df_num[[\"test3\"]])\n",
    "df_num_zeroone"
   ]
  },
  {
   "cell_type": "markdown",
   "metadata": {},
   "source": [
    "### 9. Notice the value of test3. Quite often, when we have solid knowledge of what we expect our range to be, then we can rescale our data using that knowledge. In the case of test3, you learned that the data must fall between 0 and 100. Therefore, reassign test3 so that the min and max before rescaling are assuming to be between 0 and 100, respectively. (i.e. simply divide the original variable by 100!)"
   ]
  },
  {
   "cell_type": "code",
   "execution_count": 10,
   "metadata": {},
   "outputs": [
    {
     "data": {
      "text/html": [
       "<div>\n",
       "<style scoped>\n",
       "    .dataframe tbody tr th:only-of-type {\n",
       "        vertical-align: middle;\n",
       "    }\n",
       "\n",
       "    .dataframe tbody tr th {\n",
       "        vertical-align: top;\n",
       "    }\n",
       "\n",
       "    .dataframe thead th {\n",
       "        text-align: right;\n",
       "    }\n",
       "</style>\n",
       "<table border=\"1\" class=\"dataframe\">\n",
       "  <thead>\n",
       "    <tr style=\"text-align: right;\">\n",
       "      <th></th>\n",
       "      <th>test1</th>\n",
       "      <th>test2</th>\n",
       "      <th>test3</th>\n",
       "    </tr>\n",
       "  </thead>\n",
       "  <tbody>\n",
       "    <tr>\n",
       "      <th>A1</th>\n",
       "      <td>0.0</td>\n",
       "      <td>1.000000</td>\n",
       "      <td>0.25</td>\n",
       "    </tr>\n",
       "    <tr>\n",
       "      <th>A2</th>\n",
       "      <td>1.0</td>\n",
       "      <td>0.333333</td>\n",
       "      <td>0.32</td>\n",
       "    </tr>\n",
       "    <tr>\n",
       "      <th>A3</th>\n",
       "      <td>1.0</td>\n",
       "      <td>0.666667</td>\n",
       "      <td>0.60</td>\n",
       "    </tr>\n",
       "    <tr>\n",
       "      <th>A4</th>\n",
       "      <td>0.5</td>\n",
       "      <td>0.333333</td>\n",
       "      <td>0.53</td>\n",
       "    </tr>\n",
       "    <tr>\n",
       "      <th>A5</th>\n",
       "      <td>0.0</td>\n",
       "      <td>0.000000</td>\n",
       "      <td>0.23</td>\n",
       "    </tr>\n",
       "    <tr>\n",
       "      <th>A6</th>\n",
       "      <td>0.5</td>\n",
       "      <td>1.000000</td>\n",
       "      <td>0.37</td>\n",
       "    </tr>\n",
       "    <tr>\n",
       "      <th>A7</th>\n",
       "      <td>1.0</td>\n",
       "      <td>0.666667</td>\n",
       "      <td>0.45</td>\n",
       "    </tr>\n",
       "    <tr>\n",
       "      <th>A8</th>\n",
       "      <td>0.5</td>\n",
       "      <td>0.666667</td>\n",
       "      <td>0.49</td>\n",
       "    </tr>\n",
       "  </tbody>\n",
       "</table>\n",
       "</div>"
      ],
      "text/plain": [
       "    test1     test2  test3\n",
       "A1    0.0  1.000000   0.25\n",
       "A2    1.0  0.333333   0.32\n",
       "A3    1.0  0.666667   0.60\n",
       "A4    0.5  0.333333   0.53\n",
       "A5    0.0  0.000000   0.23\n",
       "A6    0.5  1.000000   0.37\n",
       "A7    1.0  0.666667   0.45\n",
       "A8    0.5  0.666667   0.49"
      ]
     },
     "execution_count": 10,
     "metadata": {},
     "output_type": "execute_result"
    }
   ],
   "source": [
    "df_num_zeroone[\"test3\"] = df[\"test3\"]/100\n",
    "df_num_zeroone"
   ]
  },
  {
   "cell_type": "markdown",
   "metadata": {},
   "source": [
    "### 10. Compute a single distance matrix called distmat_zeroone. Use a standard Euclidean distance measure. Your reported result should be an 8x8 matrix with appropriately labeled rows and columns. (HINT – study the output of the distance matrix functions! They do not output a square matrix. Look at the squareform function. The pdist and squareform functions are in scipy.spatial.distance)."
   ]
  },
  {
   "cell_type": "code",
   "execution_count": 11,
   "metadata": {},
   "outputs": [
    {
     "data": {
      "text/html": [
       "<div>\n",
       "<style scoped>\n",
       "    .dataframe tbody tr th:only-of-type {\n",
       "        vertical-align: middle;\n",
       "    }\n",
       "\n",
       "    .dataframe tbody tr th {\n",
       "        vertical-align: top;\n",
       "    }\n",
       "\n",
       "    .dataframe thead th {\n",
       "        text-align: right;\n",
       "    }\n",
       "</style>\n",
       "<table border=\"1\" class=\"dataframe\">\n",
       "  <thead>\n",
       "    <tr style=\"text-align: right;\">\n",
       "      <th></th>\n",
       "      <th>A1</th>\n",
       "      <th>A2</th>\n",
       "      <th>A3</th>\n",
       "      <th>A4</th>\n",
       "      <th>A5</th>\n",
       "      <th>A6</th>\n",
       "      <th>A7</th>\n",
       "      <th>A8</th>\n",
       "    </tr>\n",
       "  </thead>\n",
       "  <tbody>\n",
       "    <tr>\n",
       "      <th>A1</th>\n",
       "      <td>0.000000</td>\n",
       "      <td>1.203887</td>\n",
       "      <td>1.110680</td>\n",
       "      <td>0.879116</td>\n",
       "      <td>1.000200</td>\n",
       "      <td>0.514198</td>\n",
       "      <td>1.072898</td>\n",
       "      <td>0.647079</td>\n",
       "    </tr>\n",
       "    <tr>\n",
       "      <th>A2</th>\n",
       "      <td>1.203887</td>\n",
       "      <td>0.000000</td>\n",
       "      <td>0.435329</td>\n",
       "      <td>0.542310</td>\n",
       "      <td>1.057928</td>\n",
       "      <td>0.834832</td>\n",
       "      <td>0.357786</td>\n",
       "      <td>0.624509</td>\n",
       "    </tr>\n",
       "    <tr>\n",
       "      <th>A3</th>\n",
       "      <td>1.110680</td>\n",
       "      <td>0.435329</td>\n",
       "      <td>0.000000</td>\n",
       "      <td>0.604989</td>\n",
       "      <td>1.257515</td>\n",
       "      <td>0.643437</td>\n",
       "      <td>0.150000</td>\n",
       "      <td>0.511957</td>\n",
       "    </tr>\n",
       "    <tr>\n",
       "      <th>A4</th>\n",
       "      <td>0.879116</td>\n",
       "      <td>0.542310</td>\n",
       "      <td>0.604989</td>\n",
       "      <td>0.000000</td>\n",
       "      <td>0.671648</td>\n",
       "      <td>0.685598</td>\n",
       "      <td>0.606227</td>\n",
       "      <td>0.335725</td>\n",
       "    </tr>\n",
       "    <tr>\n",
       "      <th>A5</th>\n",
       "      <td>1.000200</td>\n",
       "      <td>1.057928</td>\n",
       "      <td>1.257515</td>\n",
       "      <td>0.671648</td>\n",
       "      <td>0.000000</td>\n",
       "      <td>1.126765</td>\n",
       "      <td>1.221820</td>\n",
       "      <td>0.872952</td>\n",
       "    </tr>\n",
       "    <tr>\n",
       "      <th>A6</th>\n",
       "      <td>0.514198</td>\n",
       "      <td>0.834832</td>\n",
       "      <td>0.643437</td>\n",
       "      <td>0.685598</td>\n",
       "      <td>1.126765</td>\n",
       "      <td>0.000000</td>\n",
       "      <td>0.606227</td>\n",
       "      <td>0.354275</td>\n",
       "    </tr>\n",
       "    <tr>\n",
       "      <th>A7</th>\n",
       "      <td>1.072898</td>\n",
       "      <td>0.357786</td>\n",
       "      <td>0.150000</td>\n",
       "      <td>0.606227</td>\n",
       "      <td>1.221820</td>\n",
       "      <td>0.606227</td>\n",
       "      <td>0.000000</td>\n",
       "      <td>0.501597</td>\n",
       "    </tr>\n",
       "    <tr>\n",
       "      <th>A8</th>\n",
       "      <td>0.647079</td>\n",
       "      <td>0.624509</td>\n",
       "      <td>0.511957</td>\n",
       "      <td>0.335725</td>\n",
       "      <td>0.872952</td>\n",
       "      <td>0.354275</td>\n",
       "      <td>0.501597</td>\n",
       "      <td>0.000000</td>\n",
       "    </tr>\n",
       "  </tbody>\n",
       "</table>\n",
       "</div>"
      ],
      "text/plain": [
       "          A1        A2        A3        A4        A5        A6        A7  \\\n",
       "A1  0.000000  1.203887  1.110680  0.879116  1.000200  0.514198  1.072898   \n",
       "A2  1.203887  0.000000  0.435329  0.542310  1.057928  0.834832  0.357786   \n",
       "A3  1.110680  0.435329  0.000000  0.604989  1.257515  0.643437  0.150000   \n",
       "A4  0.879116  0.542310  0.604989  0.000000  0.671648  0.685598  0.606227   \n",
       "A5  1.000200  1.057928  1.257515  0.671648  0.000000  1.126765  1.221820   \n",
       "A6  0.514198  0.834832  0.643437  0.685598  1.126765  0.000000  0.606227   \n",
       "A7  1.072898  0.357786  0.150000  0.606227  1.221820  0.606227  0.000000   \n",
       "A8  0.647079  0.624509  0.511957  0.335725  0.872952  0.354275  0.501597   \n",
       "\n",
       "          A8  \n",
       "A1  0.647079  \n",
       "A2  0.624509  \n",
       "A3  0.511957  \n",
       "A4  0.335725  \n",
       "A5  0.872952  \n",
       "A6  0.354275  \n",
       "A7  0.501597  \n",
       "A8  0.000000  "
      ]
     },
     "execution_count": 11,
     "metadata": {},
     "output_type": "execute_result"
    }
   ],
   "source": [
    "distmat_zeroone = distance.pdist(df_num_zeroone, \"euclidean\")\n",
    "distmat_zeroone = distance.squareform(distmat_zeroone)\n",
    "distmat_zeroone = pd.DataFrame(distmat_zeroone, index = df.index, columns=df.index)\n",
    "distmat_zeroone"
   ]
  },
  {
   "cell_type": "markdown",
   "metadata": {},
   "source": [
    "### 11. Output the top three closest pairs of observations. You MUST write Python code to report these results! Do not simply print out your distance matrix and tell me your answers! Consider that this may have been thousands of observations! Always generate reported answers in code! For each pair, output the pair of observations from the original dataframe, and the distance between them.\n"
   ]
  },
  {
   "cell_type": "code",
   "execution_count": 12,
   "metadata": {},
   "outputs": [
    {
     "name": "stdout",
     "output_type": "stream",
     "text": [
      "Closest # 0: ('A7', 'A3') dist = 0.14999999999999997\n",
      "   test1 test2 test3\n",
      "A7     C  good    45\n",
      "   test1 test2 test3\n",
      "A3     C  good    60\n",
      "Closest # 1: ('A8', 'A4') dist = 0.33572475498704457\n",
      "   test1 test2 test3\n",
      "A8     B  good    49\n",
      "   test1 test2 test3\n",
      "A4     B  fair    53\n",
      "Closest # 2: ('A8', 'A6') dist = 0.35427547348230465\n",
      "   test1 test2 test3\n",
      "A8     B  good    49\n",
      "   test1      test2 test3\n",
      "A6     B  excellent    37\n"
     ]
    }
   ],
   "source": [
    "def find_n_smallest(dist, df, n):\n",
    "    n_smallest = []\n",
    "    rows_cols = []\n",
    "    for i in range(n):\n",
    "        n_smallest.append(dist.min().min())\n",
    "        col = dist.min().idxmin()\n",
    "        row = dist[col].idxmin()\n",
    "        dist[col][row] = np.nan\n",
    "        dist[row][col] = np.nan\n",
    "        rows_cols.append((row,col))\n",
    "    for i in range(len(n_smallest)):\n",
    "        print(\"Closest # \" + str(i) + \": \" + str(rows_cols[i]) + \" dist = \" + str(n_smallest[i]))\n",
    "        print(pd.DataFrame(df.loc[rows_cols[i][0]]).T)\n",
    "        print(pd.DataFrame(df.loc[rows_cols[i][1]]).T)\n",
    "\n",
    "copy = distmat_zeroone[distmat_zeroone>0]\n",
    "find_n_smallest(copy, df, 3)"
   ]
  },
  {
   "cell_type": "markdown",
   "metadata": {},
   "source": [
    "### 12. Output the top three observations that are least similar, with the two most distant observations output first. Again, for each pair, output the two observations, and the distance between them"
   ]
  },
  {
   "cell_type": "code",
   "execution_count": 13,
   "metadata": {},
   "outputs": [
    {
     "name": "stdout",
     "output_type": "stream",
     "text": [
      "Furthest # 0: ('A3', 'A5') dist = 1.2575151865661283\n",
      "   test1 test2 test3\n",
      "A3     C  good    60\n",
      "   test1 test2 test3\n",
      "A5     A  poor    23\n",
      "Furthest # 1: ('A7', 'A5') dist = 1.2218201358810732\n",
      "   test1 test2 test3\n",
      "A7     C  good    45\n",
      "   test1 test2 test3\n",
      "A5     A  poor    23\n",
      "Furthest # 2: ('A6', 'A5') dist = 1.2038872224774397\n",
      "   test1      test2 test3\n",
      "A6     B  excellent    37\n",
      "   test1 test2 test3\n",
      "A5     A  poor    23\n"
     ]
    }
   ],
   "source": [
    "def find_n_largest(dist, df, n):\n",
    "    n_biggest = []\n",
    "    rows_cols = []\n",
    "    for i in range(n):\n",
    "        n_biggest.append(dist.max().max())\n",
    "        col = dist.min().idxmax()\n",
    "        row = dist[col].idxmax()\n",
    "        dist[col][row] = np.nan\n",
    "        dist[row][col] = np.nan\n",
    "        rows_cols.append((row,col))\n",
    "    for i in range(len(n_biggest)):\n",
    "        print(\"Furthest # \" + str(i) + \": \" + str(rows_cols[i]) + \" dist = \" + str(n_biggest[i]))\n",
    "        print(pd.DataFrame(df.loc[rows_cols[i][0]]).T)\n",
    "        print(pd.DataFrame(df.loc[rows_cols[i][1]]).T)\n",
    "\n",
    "copy = distmat_zeroone[distmat_zeroone>0]\n",
    "find_n_largest(copy, df, 3)"
   ]
  },
  {
   "cell_type": "markdown",
   "metadata": {},
   "source": [
    "### 13. Repeat that exercise, however, now follow a strict binarization approach. Recall what binarization is! For each categorical variable, create a new set of variables that will store the occurrence of a distinct value in that variable.\n",
    "\n",
    "### For example, test1 has three distinct values, \"A\", \"B\", and \"C\". Therefore, you should end up with three new variables that replace the one categorical variable. Best practice is to name your variables accordingly, with the variable name prefix, and the value as a suffix, usually with an _ in between. Thus, your result for the first variable should look like:\n",
    "\n",
    "### Do this for BOTH categorical variables test1, and test2. However, test3 is already numeric, and we scaled it between zero-one already. Thus just copy the result of test3 from the previous data frame from the zero-one scaling.\n",
    "\n",
    "### HINT - HOW? One approach is to use OneHotEncoder from sklearn.preprocessing. For this purpose, you can set the parameter sparse=False so that you can easily view the data, and set your dtype=int.\n",
    "\n",
    "### Your result should look something like the following:\n",
    "\n",
    "### Another approach is to use the pandas function get_dummies()."
   ]
  },
  {
   "cell_type": "code",
   "execution_count": 14,
   "metadata": {
    "scrolled": true
   },
   "outputs": [
    {
     "data": {
      "text/html": [
       "<div>\n",
       "<style scoped>\n",
       "    .dataframe tbody tr th:only-of-type {\n",
       "        vertical-align: middle;\n",
       "    }\n",
       "\n",
       "    .dataframe tbody tr th {\n",
       "        vertical-align: top;\n",
       "    }\n",
       "\n",
       "    .dataframe thead th {\n",
       "        text-align: right;\n",
       "    }\n",
       "</style>\n",
       "<table border=\"1\" class=\"dataframe\">\n",
       "  <thead>\n",
       "    <tr style=\"text-align: right;\">\n",
       "      <th></th>\n",
       "      <th>test1_A</th>\n",
       "      <th>test1_B</th>\n",
       "      <th>test1_C</th>\n",
       "      <th>test2_poor</th>\n",
       "      <th>test2_fair</th>\n",
       "      <th>test2_good</th>\n",
       "      <th>test2_excellent</th>\n",
       "      <th>test3</th>\n",
       "    </tr>\n",
       "  </thead>\n",
       "  <tbody>\n",
       "    <tr>\n",
       "      <th>A1</th>\n",
       "      <td>1</td>\n",
       "      <td>0</td>\n",
       "      <td>0</td>\n",
       "      <td>0</td>\n",
       "      <td>0</td>\n",
       "      <td>0</td>\n",
       "      <td>1</td>\n",
       "      <td>0.25</td>\n",
       "    </tr>\n",
       "    <tr>\n",
       "      <th>A2</th>\n",
       "      <td>0</td>\n",
       "      <td>0</td>\n",
       "      <td>1</td>\n",
       "      <td>0</td>\n",
       "      <td>1</td>\n",
       "      <td>0</td>\n",
       "      <td>0</td>\n",
       "      <td>0.32</td>\n",
       "    </tr>\n",
       "    <tr>\n",
       "      <th>A3</th>\n",
       "      <td>0</td>\n",
       "      <td>0</td>\n",
       "      <td>1</td>\n",
       "      <td>0</td>\n",
       "      <td>0</td>\n",
       "      <td>1</td>\n",
       "      <td>0</td>\n",
       "      <td>0.60</td>\n",
       "    </tr>\n",
       "    <tr>\n",
       "      <th>A4</th>\n",
       "      <td>0</td>\n",
       "      <td>1</td>\n",
       "      <td>0</td>\n",
       "      <td>0</td>\n",
       "      <td>1</td>\n",
       "      <td>0</td>\n",
       "      <td>0</td>\n",
       "      <td>0.53</td>\n",
       "    </tr>\n",
       "    <tr>\n",
       "      <th>A5</th>\n",
       "      <td>1</td>\n",
       "      <td>0</td>\n",
       "      <td>0</td>\n",
       "      <td>1</td>\n",
       "      <td>0</td>\n",
       "      <td>0</td>\n",
       "      <td>0</td>\n",
       "      <td>0.23</td>\n",
       "    </tr>\n",
       "    <tr>\n",
       "      <th>A6</th>\n",
       "      <td>0</td>\n",
       "      <td>1</td>\n",
       "      <td>0</td>\n",
       "      <td>0</td>\n",
       "      <td>0</td>\n",
       "      <td>0</td>\n",
       "      <td>1</td>\n",
       "      <td>0.37</td>\n",
       "    </tr>\n",
       "    <tr>\n",
       "      <th>A7</th>\n",
       "      <td>0</td>\n",
       "      <td>0</td>\n",
       "      <td>1</td>\n",
       "      <td>0</td>\n",
       "      <td>0</td>\n",
       "      <td>1</td>\n",
       "      <td>0</td>\n",
       "      <td>0.45</td>\n",
       "    </tr>\n",
       "    <tr>\n",
       "      <th>A8</th>\n",
       "      <td>0</td>\n",
       "      <td>1</td>\n",
       "      <td>0</td>\n",
       "      <td>0</td>\n",
       "      <td>0</td>\n",
       "      <td>1</td>\n",
       "      <td>0</td>\n",
       "      <td>0.49</td>\n",
       "    </tr>\n",
       "  </tbody>\n",
       "</table>\n",
       "</div>"
      ],
      "text/plain": [
       "    test1_A  test1_B  test1_C  test2_poor  test2_fair  test2_good  \\\n",
       "A1        1        0        0           0           0           0   \n",
       "A2        0        0        1           0           1           0   \n",
       "A3        0        0        1           0           0           1   \n",
       "A4        0        1        0           0           1           0   \n",
       "A5        1        0        0           1           0           0   \n",
       "A6        0        1        0           0           0           0   \n",
       "A7        0        0        1           0           0           1   \n",
       "A8        0        1        0           0           0           1   \n",
       "\n",
       "    test2_excellent  test3  \n",
       "A1                1   0.25  \n",
       "A2                0   0.32  \n",
       "A3                0   0.60  \n",
       "A4                0   0.53  \n",
       "A5                0   0.23  \n",
       "A6                1   0.37  \n",
       "A7                0   0.45  \n",
       "A8                0   0.49  "
      ]
     },
     "execution_count": 14,
     "metadata": {},
     "output_type": "execute_result"
    }
   ],
   "source": [
    "test1_bin = pd.get_dummies(df.test1)\n",
    "test2_bin = pd.get_dummies(df.test2)\n",
    "test1_bin.columns = [\"test1_\"+x for x in test1_bin.columns] \n",
    "test2_bin.columns = [\"test2_\"+x for x in test2_bin.columns]\n",
    "df_binarized = pd.concat([test1_bin, test2_bin, df_num_zeroone.test3], axis=1)\n",
    "df_binarized\n",
    "    "
   ]
  },
  {
   "cell_type": "code",
   "execution_count": null,
   "metadata": {},
   "outputs": [],
   "source": []
  },
  {
   "cell_type": "markdown",
   "metadata": {},
   "source": [
    "### 14. Now, rerun your same exact results as with your zero-one scaled data. Report the three closest pairs, and the three most distant pairs."
   ]
  },
  {
   "cell_type": "code",
   "execution_count": 15,
   "metadata": {},
   "outputs": [
    {
     "name": "stdout",
     "output_type": "stream",
     "text": [
      "Closest # 0: ('A7', 'A3') dist = 0.14999999999999997\n",
      "   test1 test2 test3\n",
      "A7     C  good    45\n",
      "   test1 test2 test3\n",
      "A3     C  good    60\n",
      "Closest # 1: ('A5', 'A1') dist = 1.4143549766589716\n",
      "   test1 test2 test3\n",
      "A5     A  poor    23\n",
      "   test1      test2 test3\n",
      "A1     A  excellent    25\n",
      "Closest # 2: ('A8', 'A4') dist = 1.4147791347061915\n",
      "   test1 test2 test3\n",
      "A8     B  good    49\n",
      "   test1 test2 test3\n",
      "A4     B  fair    53\n",
      "Furthest # 0: ('A3', 'A5') dist = 2.033937068839643\n",
      "   test1 test2 test3\n",
      "A3     C  good    60\n",
      "   test1 test2 test3\n",
      "A5     A  poor    23\n",
      "Furthest # 1: ('A4', 'A5') dist = 2.0303940504246953\n",
      "   test1 test2 test3\n",
      "A4     B  fair    53\n",
      "   test1 test2 test3\n",
      "A5     A  poor    23\n",
      "Furthest # 2: ('A8', 'A5') dist = 2.0303940504246953\n",
      "   test1 test2 test3\n",
      "A8     B  good    49\n",
      "   test1 test2 test3\n",
      "A5     A  poor    23\n"
     ]
    }
   ],
   "source": [
    "n_smallest = []\n",
    "n_biggest = []\n",
    "rows_cols = []\n",
    "distmat_bin = pd.DataFrame(distance.squareform(distance.pdist(df_binarized, \"euclidean\")), index = df_binarized.index, columns=df_binarized.index)\n",
    "copy = distmat_bin[distmat_bin>0]\n",
    "find_n_smallest(copy, df, 3)\n",
    "find_n_largest(copy, df, 3)"
   ]
  },
  {
   "cell_type": "markdown",
   "metadata": {},
   "source": [
    "### 15. Take a moment and compare and contrast your results. Which method do you think have the better results? Why?\n",
    "\n",
    "The binarized one is better, because the test3 top far values are further than the original case."
   ]
  },
  {
   "cell_type": "markdown",
   "metadata": {},
   "source": [
    "### 16. Which variable do you think was the distinguishing player in affecting the different outcomes between both of the above approaches to transforming your data to numeric results? Why?\n",
    "\n",
    "test3 became more important in the binarized version, because it wasn't binarized it was it's normal value."
   ]
  },
  {
   "cell_type": "markdown",
   "metadata": {},
   "source": [
    "#### For this next exercise, you are going to use the dataset built into the seaborn library, called 'car_crashes'.\n",
    "\n",
    "### 17. Load in your next dataset using the following:"
   ]
  },
  {
   "cell_type": "code",
   "execution_count": 16,
   "metadata": {},
   "outputs": [
    {
     "data": {
      "text/html": [
       "<div>\n",
       "<style scoped>\n",
       "    .dataframe tbody tr th:only-of-type {\n",
       "        vertical-align: middle;\n",
       "    }\n",
       "\n",
       "    .dataframe tbody tr th {\n",
       "        vertical-align: top;\n",
       "    }\n",
       "\n",
       "    .dataframe thead th {\n",
       "        text-align: right;\n",
       "    }\n",
       "</style>\n",
       "<table border=\"1\" class=\"dataframe\">\n",
       "  <thead>\n",
       "    <tr style=\"text-align: right;\">\n",
       "      <th></th>\n",
       "      <th>total</th>\n",
       "      <th>speeding</th>\n",
       "      <th>alcohol</th>\n",
       "      <th>not_distracted</th>\n",
       "      <th>no_previous</th>\n",
       "      <th>ins_premium</th>\n",
       "      <th>ins_losses</th>\n",
       "      <th>abbrev</th>\n",
       "    </tr>\n",
       "  </thead>\n",
       "  <tbody>\n",
       "    <tr>\n",
       "      <th>0</th>\n",
       "      <td>18.8</td>\n",
       "      <td>7.332</td>\n",
       "      <td>5.640</td>\n",
       "      <td>18.048</td>\n",
       "      <td>15.040</td>\n",
       "      <td>784.55</td>\n",
       "      <td>145.08</td>\n",
       "      <td>AL</td>\n",
       "    </tr>\n",
       "    <tr>\n",
       "      <th>1</th>\n",
       "      <td>18.1</td>\n",
       "      <td>7.421</td>\n",
       "      <td>4.525</td>\n",
       "      <td>16.290</td>\n",
       "      <td>17.014</td>\n",
       "      <td>1053.48</td>\n",
       "      <td>133.93</td>\n",
       "      <td>AK</td>\n",
       "    </tr>\n",
       "    <tr>\n",
       "      <th>2</th>\n",
       "      <td>18.6</td>\n",
       "      <td>6.510</td>\n",
       "      <td>5.208</td>\n",
       "      <td>15.624</td>\n",
       "      <td>17.856</td>\n",
       "      <td>899.47</td>\n",
       "      <td>110.35</td>\n",
       "      <td>AZ</td>\n",
       "    </tr>\n",
       "  </tbody>\n",
       "</table>\n",
       "</div>"
      ],
      "text/plain": [
       "   total  speeding  alcohol  not_distracted  no_previous  ins_premium  \\\n",
       "0   18.8     7.332    5.640          18.048       15.040       784.55   \n",
       "1   18.1     7.421    4.525          16.290       17.014      1053.48   \n",
       "2   18.6     6.510    5.208          15.624       17.856       899.47   \n",
       "\n",
       "   ins_losses abbrev  \n",
       "0      145.08     AL  \n",
       "1      133.93     AK  \n",
       "2      110.35     AZ  "
      ]
     },
     "execution_count": 16,
     "metadata": {},
     "output_type": "execute_result"
    }
   ],
   "source": [
    "df_car_crashes = sns.load_dataset('../data/car_crashes')\n",
    "df_car_crashes.head(3)"
   ]
  },
  {
   "cell_type": "markdown",
   "metadata": {},
   "source": [
    "### 18. Preprocess your data. Minimally, you should move the state code to become the index for the dataframe, and then drop that column from your data."
   ]
  },
  {
   "cell_type": "code",
   "execution_count": 17,
   "metadata": {},
   "outputs": [
    {
     "data": {
      "text/html": [
       "<div>\n",
       "<style scoped>\n",
       "    .dataframe tbody tr th:only-of-type {\n",
       "        vertical-align: middle;\n",
       "    }\n",
       "\n",
       "    .dataframe tbody tr th {\n",
       "        vertical-align: top;\n",
       "    }\n",
       "\n",
       "    .dataframe thead th {\n",
       "        text-align: right;\n",
       "    }\n",
       "</style>\n",
       "<table border=\"1\" class=\"dataframe\">\n",
       "  <thead>\n",
       "    <tr style=\"text-align: right;\">\n",
       "      <th></th>\n",
       "      <th>total</th>\n",
       "      <th>speeding</th>\n",
       "      <th>alcohol</th>\n",
       "      <th>not_distracted</th>\n",
       "      <th>no_previous</th>\n",
       "      <th>ins_premium</th>\n",
       "      <th>ins_losses</th>\n",
       "    </tr>\n",
       "    <tr>\n",
       "      <th>abbrev</th>\n",
       "      <th></th>\n",
       "      <th></th>\n",
       "      <th></th>\n",
       "      <th></th>\n",
       "      <th></th>\n",
       "      <th></th>\n",
       "      <th></th>\n",
       "    </tr>\n",
       "  </thead>\n",
       "  <tbody>\n",
       "    <tr>\n",
       "      <th>AL</th>\n",
       "      <td>18.8</td>\n",
       "      <td>7.332</td>\n",
       "      <td>5.640</td>\n",
       "      <td>18.048</td>\n",
       "      <td>15.040</td>\n",
       "      <td>784.55</td>\n",
       "      <td>145.08</td>\n",
       "    </tr>\n",
       "    <tr>\n",
       "      <th>AK</th>\n",
       "      <td>18.1</td>\n",
       "      <td>7.421</td>\n",
       "      <td>4.525</td>\n",
       "      <td>16.290</td>\n",
       "      <td>17.014</td>\n",
       "      <td>1053.48</td>\n",
       "      <td>133.93</td>\n",
       "    </tr>\n",
       "    <tr>\n",
       "      <th>AZ</th>\n",
       "      <td>18.6</td>\n",
       "      <td>6.510</td>\n",
       "      <td>5.208</td>\n",
       "      <td>15.624</td>\n",
       "      <td>17.856</td>\n",
       "      <td>899.47</td>\n",
       "      <td>110.35</td>\n",
       "    </tr>\n",
       "    <tr>\n",
       "      <th>AR</th>\n",
       "      <td>22.4</td>\n",
       "      <td>4.032</td>\n",
       "      <td>5.824</td>\n",
       "      <td>21.056</td>\n",
       "      <td>21.280</td>\n",
       "      <td>827.34</td>\n",
       "      <td>142.39</td>\n",
       "    </tr>\n",
       "    <tr>\n",
       "      <th>CA</th>\n",
       "      <td>12.0</td>\n",
       "      <td>4.200</td>\n",
       "      <td>3.360</td>\n",
       "      <td>10.920</td>\n",
       "      <td>10.680</td>\n",
       "      <td>878.41</td>\n",
       "      <td>165.63</td>\n",
       "    </tr>\n",
       "  </tbody>\n",
       "</table>\n",
       "</div>"
      ],
      "text/plain": [
       "        total  speeding  alcohol  not_distracted  no_previous  ins_premium  \\\n",
       "abbrev                                                                       \n",
       "AL       18.8     7.332    5.640          18.048       15.040       784.55   \n",
       "AK       18.1     7.421    4.525          16.290       17.014      1053.48   \n",
       "AZ       18.6     6.510    5.208          15.624       17.856       899.47   \n",
       "AR       22.4     4.032    5.824          21.056       21.280       827.34   \n",
       "CA       12.0     4.200    3.360          10.920       10.680       878.41   \n",
       "\n",
       "        ins_losses  \n",
       "abbrev              \n",
       "AL          145.08  \n",
       "AK          133.93  \n",
       "AZ          110.35  \n",
       "AR          142.39  \n",
       "CA          165.63  "
      ]
     },
     "execution_count": 17,
     "metadata": {},
     "output_type": "execute_result"
    }
   ],
   "source": [
    "df_car_crashes.set_index([\"abbrev\"], inplace = True)\n",
    "#df_car_crashes = df_car_crashes.drop(\"abbrev\")\n",
    "df_car_crashes.head(5)"
   ]
  },
  {
   "cell_type": "markdown",
   "metadata": {},
   "source": [
    "### 19. Create a scatter plot of insurance premiums vs. insurance losses, with total number of accidents as the size of the point. and create a label next to every point representing the two letter state code. (NOTE: You'll likely have to rescale your point sice when you pass"
   ]
  },
  {
   "cell_type": "code",
   "execution_count": 18,
   "metadata": {},
   "outputs": [
    {
     "data": {
      "image/png": "[encoded data removed]",
      "text/plain": [
       "<Figure size 1440x720 with 1 Axes>"
      ]
     },
     "metadata": {
      "needs_background": "light"
     },
     "output_type": "display_data"
    }
   ],
   "source": [
    "fig = plt.figure(figsize=(20, 10))\n",
    "ax1 = sns.scatterplot(x=\"ins_losses\", y=\"ins_premium\", size=\"total\", sizes = (20,400), data = df_car_crashes )\n",
    "types = np.array(df_car_crashes.index)\n",
    "\n",
    "for row in range(df_car_crashes.shape[0]):\n",
    "    ax1.text(df_car_crashes.ins_losses[row]+2, df_car_crashes.ins_premium[row], df_car_crashes.index[row], horizontalalignment=\"left\", size=\"medium\", weight=\"semibold\", color=\"black\")\n",
    "ax1.set_title(\"Insurance premiums vs Insurance losses\")\n",
    "plt.show()"
   ]
  },
  {
   "cell_type": "markdown",
   "metadata": {},
   "source": [
    "### 20. Generate two interesting scatterplots that show some relationships between variables in the data. Try to use as many variables as you can without creating chaos! Your aim is to derive meaning from your data. Good visualizations tell a story. Strive to use at least one additional variable as size, color, or shape in your data, so you can show more than just 2 variables on a single plot. Remember, sometimes this can just confuse, so do not go overboard unless it really adds something. Be sure to add legends and colorbors and axis labels and titles, and etc!\n",
    "\n",
    "### Then, write a single sentence in markdown that draws a conclusion from your plot."
   ]
  },
  {
   "cell_type": "code",
   "execution_count": 19,
   "metadata": {},
   "outputs": [
    {
     "data": {
      "image/png": "[encoded data removed]",
      "text/plain": [
       "<Figure size 1440x720 with 1 Axes>"
      ]
     },
     "metadata": {
      "needs_background": "light"
     },
     "output_type": "display_data"
    }
   ],
   "source": [
    "fig = plt.figure(figsize=(20, 10))\n",
    "ax1 = sns.scatterplot(x = \"alcohol\", y = \"speeding\", size=\"total\", sizes = (20,500), data = df_car_crashes )\n",
    "ax1.set_title(\"Speeding vs Alcohol\")\n",
    "plt.show()"
   ]
  },
  {
   "cell_type": "markdown",
   "metadata": {},
   "source": [
    "It seems that as speeding and alcohol increase, so does the total number of accidents."
   ]
  },
  {
   "cell_type": "code",
   "execution_count": 20,
   "metadata": {},
   "outputs": [
    {
     "data": {
      "image/png": "[encoded data removed]",
      "text/plain": [
       "<Figure size 1440x720 with 1 Axes>"
      ]
     },
     "metadata": {
      "needs_background": "light"
     },
     "output_type": "display_data"
    }
   ],
   "source": [
    "fig = plt.figure(figsize=(20, 10))\n",
    "ax1 = sns.scatterplot(x = \"not_distracted\", y = \"speeding\", size=\"total\", sizes = (20,500), data = df_car_crashes )\n",
    "ax1.set_title(\"Speeding vs Not Distracted\")\n",
    "plt.show()"
   ]
  },
  {
   "cell_type": "markdown",
   "metadata": {},
   "source": [
    "It seems that speeding is a bigger cause for accidents, than being distracted, because when drivers are not distracted and speeding there are more accidents than when drivers are distracted and not speeding."
   ]
  },
  {
   "cell_type": "markdown",
   "metadata": {},
   "source": [
    "### 21. Since all of the data are numeric, create a zscore transformation, storing the new dataframe as df_car_crashes_zscore. Report summary statistics on the transformed data."
   ]
  },
  {
   "cell_type": "code",
   "execution_count": 21,
   "metadata": {},
   "outputs": [
    {
     "data": {
      "text/html": [
       "<div>\n",
       "<style scoped>\n",
       "    .dataframe tbody tr th:only-of-type {\n",
       "        vertical-align: middle;\n",
       "    }\n",
       "\n",
       "    .dataframe tbody tr th {\n",
       "        vertical-align: top;\n",
       "    }\n",
       "\n",
       "    .dataframe thead th {\n",
       "        text-align: right;\n",
       "    }\n",
       "</style>\n",
       "<table border=\"1\" class=\"dataframe\">\n",
       "  <thead>\n",
       "    <tr style=\"text-align: right;\">\n",
       "      <th></th>\n",
       "      <th>0</th>\n",
       "      <th>1</th>\n",
       "      <th>2</th>\n",
       "      <th>3</th>\n",
       "      <th>4</th>\n",
       "      <th>5</th>\n",
       "      <th>6</th>\n",
       "    </tr>\n",
       "  </thead>\n",
       "  <tbody>\n",
       "    <tr>\n",
       "      <th>count</th>\n",
       "      <td>5.100000e+01</td>\n",
       "      <td>5.100000e+01</td>\n",
       "      <td>5.100000e+01</td>\n",
       "      <td>5.100000e+01</td>\n",
       "      <td>5.100000e+01</td>\n",
       "      <td>5.100000e+01</td>\n",
       "      <td>5.100000e+01</td>\n",
       "    </tr>\n",
       "    <tr>\n",
       "      <th>mean</th>\n",
       "      <td>6.291264e-16</td>\n",
       "      <td>-2.612289e-17</td>\n",
       "      <td>-1.839487e-16</td>\n",
       "      <td>-3.782377e-16</td>\n",
       "      <td>3.287131e-16</td>\n",
       "      <td>3.635436e-16</td>\n",
       "      <td>-2.068062e-16</td>\n",
       "    </tr>\n",
       "    <tr>\n",
       "      <th>std</th>\n",
       "      <td>1.009950e+00</td>\n",
       "      <td>1.009950e+00</td>\n",
       "      <td>1.009950e+00</td>\n",
       "      <td>1.009950e+00</td>\n",
       "      <td>1.009950e+00</td>\n",
       "      <td>1.009950e+00</td>\n",
       "      <td>1.009950e+00</td>\n",
       "    </tr>\n",
       "    <tr>\n",
       "      <th>min</th>\n",
       "      <td>-2.423242e+00</td>\n",
       "      <td>-1.604809e+00</td>\n",
       "      <td>-1.923831e+00</td>\n",
       "      <td>-2.645993e+00</td>\n",
       "      <td>-2.174301e+00</td>\n",
       "      <td>-1.387777e+00</td>\n",
       "      <td>-2.104130e+00</td>\n",
       "    </tr>\n",
       "    <tr>\n",
       "      <th>25%</th>\n",
       "      <td>-7.448923e-01</td>\n",
       "      <td>-6.165054e-01</td>\n",
       "      <td>-5.798646e-01</td>\n",
       "      <td>-6.932781e-01</td>\n",
       "      <td>-7.127632e-01</td>\n",
       "      <td>-6.713940e-01</td>\n",
       "      <td>-8.071227e-01</td>\n",
       "    </tr>\n",
       "    <tr>\n",
       "      <th>50%</th>\n",
       "      <td>-4.660081e-02</td>\n",
       "      <td>-1.953063e-01</td>\n",
       "      <td>-1.943724e-01</td>\n",
       "      <td>6.357267e-02</td>\n",
       "      <td>-6.167066e-02</td>\n",
       "      <td>-1.585346e-01</td>\n",
       "      <td>6.330968e-02</td>\n",
       "    </tr>\n",
       "    <tr>\n",
       "      <th>75%</th>\n",
       "      <td>6.639414e-01</td>\n",
       "      <td>7.211710e-01</td>\n",
       "      <td>4.189107e-01</td>\n",
       "      <td>5.749341e-01</td>\n",
       "      <td>7.377755e-01</td>\n",
       "      <td>6.853269e-01</td>\n",
       "      <td>7.066285e-01</td>\n",
       "    </tr>\n",
       "    <tr>\n",
       "      <th>max</th>\n",
       "      <td>1.987020e+00</td>\n",
       "      <td>2.228278e+00</td>\n",
       "      <td>3.008718e+00</td>\n",
       "      <td>2.259537e+00</td>\n",
       "      <td>1.951700e+00</td>\n",
       "      <td>2.348268e+00</td>\n",
       "      <td>2.451560e+00</td>\n",
       "    </tr>\n",
       "  </tbody>\n",
       "</table>\n",
       "</div>"
      ],
      "text/plain": [
       "                  0             1             2             3             4  \\\n",
       "count  5.100000e+01  5.100000e+01  5.100000e+01  5.100000e+01  5.100000e+01   \n",
       "mean   6.291264e-16 -2.612289e-17 -1.839487e-16 -3.782377e-16  3.287131e-16   \n",
       "std    1.009950e+00  1.009950e+00  1.009950e+00  1.009950e+00  1.009950e+00   \n",
       "min   -2.423242e+00 -1.604809e+00 -1.923831e+00 -2.645993e+00 -2.174301e+00   \n",
       "25%   -7.448923e-01 -6.165054e-01 -5.798646e-01 -6.932781e-01 -7.127632e-01   \n",
       "50%   -4.660081e-02 -1.953063e-01 -1.943724e-01  6.357267e-02 -6.167066e-02   \n",
       "75%    6.639414e-01  7.211710e-01  4.189107e-01  5.749341e-01  7.377755e-01   \n",
       "max    1.987020e+00  2.228278e+00  3.008718e+00  2.259537e+00  1.951700e+00   \n",
       "\n",
       "                  5             6  \n",
       "count  5.100000e+01  5.100000e+01  \n",
       "mean   3.635436e-16 -2.068062e-16  \n",
       "std    1.009950e+00  1.009950e+00  \n",
       "min   -1.387777e+00 -2.104130e+00  \n",
       "25%   -6.713940e-01 -8.071227e-01  \n",
       "50%   -1.585346e-01  6.330968e-02  \n",
       "75%    6.853269e-01  7.066285e-01  \n",
       "max    2.348268e+00  2.451560e+00  "
      ]
     },
     "execution_count": 21,
     "metadata": {},
     "output_type": "execute_result"
    }
   ],
   "source": [
    "df_car_crashes_zscore = pd.DataFrame(stats.zscore(df_car_crashes))\n",
    "df_car_crashes_zscore.describe()"
   ]
  },
  {
   "cell_type": "markdown",
   "metadata": {},
   "source": [
    "### 22. Now, run a full PCA on the transformed data. Set n_components to be the same number of components as the original data. Be sure to fit the data to your PCA model, and then output the components, explained variance, and the explained variance ratio."
   ]
  },
  {
   "cell_type": "code",
   "execution_count": 22,
   "metadata": {},
   "outputs": [
    {
     "data": {
      "text/html": [
       "<div>\n",
       "<style scoped>\n",
       "    .dataframe tbody tr th:only-of-type {\n",
       "        vertical-align: middle;\n",
       "    }\n",
       "\n",
       "    .dataframe tbody tr th {\n",
       "        vertical-align: top;\n",
       "    }\n",
       "\n",
       "    .dataframe thead th {\n",
       "        text-align: right;\n",
       "    }\n",
       "</style>\n",
       "<table border=\"1\" class=\"dataframe\">\n",
       "  <thead>\n",
       "    <tr style=\"text-align: right;\">\n",
       "      <th></th>\n",
       "      <th>principal_comp_0</th>\n",
       "      <th>principal_comp_1</th>\n",
       "      <th>principal_comp_2</th>\n",
       "      <th>principal_comp_3</th>\n",
       "      <th>principal_comp_4</th>\n",
       "      <th>principal_comp_5</th>\n",
       "      <th>principal_comp_6</th>\n",
       "    </tr>\n",
       "  </thead>\n",
       "  <tbody>\n",
       "    <tr>\n",
       "      <th>0</th>\n",
       "      <td>1.603671</td>\n",
       "      <td>0.133449</td>\n",
       "      <td>0.317881</td>\n",
       "      <td>-0.795293</td>\n",
       "      <td>-0.579719</td>\n",
       "      <td>0.046223</td>\n",
       "      <td>0.210185</td>\n",
       "    </tr>\n",
       "    <tr>\n",
       "      <th>1</th>\n",
       "      <td>1.144212</td>\n",
       "      <td>0.858234</td>\n",
       "      <td>0.736626</td>\n",
       "      <td>0.318988</td>\n",
       "      <td>-0.228701</td>\n",
       "      <td>-1.002625</td>\n",
       "      <td>0.008966</td>\n",
       "    </tr>\n",
       "    <tr>\n",
       "      <th>2</th>\n",
       "      <td>1.432172</td>\n",
       "      <td>-0.420506</td>\n",
       "      <td>0.338136</td>\n",
       "      <td>0.552513</td>\n",
       "      <td>0.168718</td>\n",
       "      <td>-0.804523</td>\n",
       "      <td>-0.076107</td>\n",
       "    </tr>\n",
       "    <tr>\n",
       "      <th>3</th>\n",
       "      <td>2.491584</td>\n",
       "      <td>0.348968</td>\n",
       "      <td>-1.788747</td>\n",
       "      <td>0.264064</td>\n",
       "      <td>-0.372382</td>\n",
       "      <td>-0.481849</td>\n",
       "      <td>-0.147636</td>\n",
       "    </tr>\n",
       "    <tr>\n",
       "      <th>4</th>\n",
       "      <td>-1.750638</td>\n",
       "      <td>0.633625</td>\n",
       "      <td>-0.136176</td>\n",
       "      <td>-0.974916</td>\n",
       "      <td>-0.315811</td>\n",
       "      <td>0.178510</td>\n",
       "      <td>-0.068958</td>\n",
       "    </tr>\n",
       "    <tr>\n",
       "      <th>5</th>\n",
       "      <td>-0.925120</td>\n",
       "      <td>-0.154388</td>\n",
       "      <td>0.146177</td>\n",
       "      <td>-0.568096</td>\n",
       "      <td>0.116420</td>\n",
       "      <td>-0.240859</td>\n",
       "      <td>-0.098428</td>\n",
       "    </tr>\n",
       "    <tr>\n",
       "      <th>6</th>\n",
       "      <td>-2.125359</td>\n",
       "      <td>1.370600</td>\n",
       "      <td>0.743078</td>\n",
       "      <td>-0.485553</td>\n",
       "      <td>-0.088337</td>\n",
       "      <td>0.486531</td>\n",
       "      <td>0.020256</td>\n",
       "    </tr>\n",
       "    <tr>\n",
       "      <th>7</th>\n",
       "      <td>0.324658</td>\n",
       "      <td>1.574245</td>\n",
       "      <td>0.440982</td>\n",
       "      <td>0.338057</td>\n",
       "      <td>0.095481</td>\n",
       "      <td>-0.466100</td>\n",
       "      <td>-0.188961</td>\n",
       "    </tr>\n",
       "    <tr>\n",
       "      <th>8</th>\n",
       "      <td>-4.635926</td>\n",
       "      <td>0.918997</td>\n",
       "      <td>0.720078</td>\n",
       "      <td>1.184313</td>\n",
       "      <td>-0.172554</td>\n",
       "      <td>-0.052800</td>\n",
       "      <td>-0.124806</td>\n",
       "    </tr>\n",
       "    <tr>\n",
       "      <th>9</th>\n",
       "      <td>0.495689</td>\n",
       "      <td>1.435282</td>\n",
       "      <td>-0.661126</td>\n",
       "      <td>1.185136</td>\n",
       "      <td>-0.108007</td>\n",
       "      <td>-0.244305</td>\n",
       "      <td>-0.086714</td>\n",
       "    </tr>\n",
       "  </tbody>\n",
       "</table>\n",
       "</div>"
      ],
      "text/plain": [
       "   principal_comp_0  principal_comp_1  principal_comp_2  principal_comp_3  \\\n",
       "0          1.603671          0.133449          0.317881         -0.795293   \n",
       "1          1.144212          0.858234          0.736626          0.318988   \n",
       "2          1.432172         -0.420506          0.338136          0.552513   \n",
       "3          2.491584          0.348968         -1.788747          0.264064   \n",
       "4         -1.750638          0.633625         -0.136176         -0.974916   \n",
       "5         -0.925120         -0.154388          0.146177         -0.568096   \n",
       "6         -2.125359          1.370600          0.743078         -0.485553   \n",
       "7          0.324658          1.574245          0.440982          0.338057   \n",
       "8         -4.635926          0.918997          0.720078          1.184313   \n",
       "9          0.495689          1.435282         -0.661126          1.185136   \n",
       "\n",
       "   principal_comp_4  principal_comp_5  principal_comp_6  \n",
       "0         -0.579719          0.046223          0.210185  \n",
       "1         -0.228701         -1.002625          0.008966  \n",
       "2          0.168718         -0.804523         -0.076107  \n",
       "3         -0.372382         -0.481849         -0.147636  \n",
       "4         -0.315811          0.178510         -0.068958  \n",
       "5          0.116420         -0.240859         -0.098428  \n",
       "6         -0.088337          0.486531          0.020256  \n",
       "7          0.095481         -0.466100         -0.188961  \n",
       "8         -0.172554         -0.052800         -0.124806  \n",
       "9         -0.108007         -0.244305         -0.086714  "
      ]
     },
     "execution_count": 22,
     "metadata": {},
     "output_type": "execute_result"
    }
   ],
   "source": [
    "# SOURCE\n",
    "# Tutorial found at https://towardsdatascience.com/pca-using-python-scikit-learn-e653f8989e60\n",
    "pca = PCA(n_components = df_car_crashes.shape[1])\n",
    "principal_components = pca.fit_transform(df_car_crashes_zscore)\n",
    "df_principal = pd.DataFrame(principal_components, columns = [\"principal_comp_\"+str(i) for i in range(df_car_crashes.shape[1])])\n",
    "df_principal.head(10) # MORE BELLOW"
   ]
  },
  {
   "cell_type": "code",
   "execution_count": 23,
   "metadata": {},
   "outputs": [
    {
     "data": {
      "text/plain": [
       "array([4.0942308 , 1.6095732 , 0.56161403, 0.35753958, 0.2863854 ,\n",
       "       0.20263316, 0.02802383])"
      ]
     },
     "execution_count": 23,
     "metadata": {},
     "output_type": "execute_result"
    }
   ],
   "source": [
    "pca.explained_variance_"
   ]
  },
  {
   "cell_type": "code",
   "execution_count": 24,
   "metadata": {},
   "outputs": [
    {
     "data": {
      "text/plain": [
       "array([0.57342168, 0.22543042, 0.07865743, 0.05007557, 0.04011   ,\n",
       "       0.02837999, 0.00392491])"
      ]
     },
     "execution_count": 24,
     "metadata": {},
     "output_type": "execute_result"
    }
   ],
   "source": [
    "pca.explained_variance_ratio_"
   ]
  },
  {
   "cell_type": "markdown",
   "metadata": {},
   "source": [
    "### 23. Use your intuition – what do the weights of the first couple of components suggest explains most of the variance in the data?\n",
    "\n",
    "The first component contains 57.3% of the variance. The second contains 22.54% of the variance. So the variance is explained mostly from those two components.  "
   ]
  },
  {
   "cell_type": "markdown",
   "metadata": {},
   "source": [
    "### 24. Create a plot of the cumulative sum of the explained variance. How many components will get you to 90% of the explained variance?\n",
    "\n",
    "It will take 4 components to get 90%"
   ]
  },
  {
   "cell_type": "code",
   "execution_count": 25,
   "metadata": {},
   "outputs": [
    {
     "data": {
      "image/png": "[encoded data removed]",
      "text/plain": [
       "<Figure size 432x288 with 1 Axes>"
      ]
     },
     "metadata": {
      "needs_background": "light"
     },
     "output_type": "display_data"
    }
   ],
   "source": [
    "sns.lineplot(data=np.cumsum(pca.explained_variance_ratio_))\n",
    "plt.show()"
   ]
  },
  {
   "cell_type": "markdown",
   "metadata": {},
   "source": [
    "### 25. Transform the original data using your PCA model (i.e. using the transform function of the pca object.)\n",
    "\n",
    "### (NOTE: I often just store the transformed data temporarily as some arbitrary variable to make it easier to manipulate the data for plotting.)"
   ]
  },
  {
   "cell_type": "code",
   "execution_count": 26,
   "metadata": {},
   "outputs": [],
   "source": [
    "transformed = pd.DataFrame(pca.transform(df_car_crashes), columns=[\"principal_comp_\"+str(i) for i in range(df_car_crashes.shape[1])])"
   ]
  },
  {
   "cell_type": "markdown",
   "metadata": {},
   "source": [
    "### 26. Generate a 2D plot using the first two principal components as your x and y coordinates. Be sure to label each point, and label your axes as component 1 and component 2, respectively."
   ]
  },
  {
   "cell_type": "code",
   "execution_count": 27,
   "metadata": {},
   "outputs": [
    {
     "data": {
      "image/png": "[encoded data removed]",
      "text/plain": [
       "<Figure size 432x288 with 1 Axes>"
      ]
     },
     "metadata": {
      "needs_background": "light"
     },
     "output_type": "display_data"
    }
   ],
   "source": [
    "ax1 = sns.scatterplot(x = \"principal_comp_0\", y = \"principal_comp_1\", data = transformed)\n",
    "ax1.xlabel = \"Component 1\"\n",
    "ax1.set_xlabel(\"Component 1\")\n",
    "ax1.set_ylabel(\"Component 2\")\n",
    "ax1.set_title(\"Principal Component 1 vs Principal Component 2\")\n",
    "plt.show()"
   ]
  },
  {
   "cell_type": "markdown",
   "metadata": {},
   "source": [
    "### 27. Observe your plot, and report three \"interesting\" states from your data that represent some extreme values or outliers from the trends.\n",
    "\n",
    "There are points all the way past -160 and and past -60 on the xaxis. There are also points past 1000 and 500 on the yaxis."
   ]
  },
  {
   "cell_type": "markdown",
   "metadata": {},
   "source": [
    "### 28. Read how to generate a 3D scatterplot, and use it to generate a scatterplot of the first 3 components."
   ]
  },
  {
   "cell_type": "code",
   "execution_count": 29,
   "metadata": {},
   "outputs": [
    {
     "data": {
      "image/png": "[encoded data removed]",
      "text/plain": [
       "<Figure size 432x288 with 1 Axes>"
      ]
     },
     "metadata": {
      "needs_background": "light"
     },
     "output_type": "display_data"
    }
   ],
   "source": [
    "fig = plt.figure()\n",
    "ax = Axes3D(fig)\n",
    "ax.scatter(transformed[\"principal_comp_0\"], transformed[\"principal_comp_1\"], transformed[\"principal_comp_2\"])\n",
    "ax.set_xlabel(\"Component 1\")\n",
    "ax.set_ylabel(\"Component 2\")\n",
    "ax.set_zlabel(\"Component 3\")\n",
    "plt.show()"
   ]
  },
  {
   "cell_type": "markdown",
   "metadata": {},
   "source": [
    "### 29. Do the same outliers still stand out?\n",
    "\n",
    "Yes."
   ]
  }
 ],
 "metadata": {
  "kernelspec": {
   "display_name": "Python 3",
   "language": "python",
   "name": "python3"
  },
  "language_info": {
   "codemirror_mode": {
    "name": "ipython",
    "version": 3
   },
   "file_extension": ".py",
   "mimetype": "text/x-python",
   "name": "python",
   "nbconvert_exporter": "python",
   "pygments_lexer": "ipython3",
   "version": "3.6.8"
  }
 },
 "nbformat": 4,
 "nbformat_minor": 2
}
