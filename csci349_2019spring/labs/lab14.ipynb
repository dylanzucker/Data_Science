{
 "cells": [
  {
   "cell_type": "markdown",
   "metadata": {},
   "source": [
    "# Lab014 - Clustering II: Hierarchical Agglomerative Clustering\n",
    "\n",
    "Name: Dylan Zucker \n",
    "\n",
    "Class: CSCI 349 - Intro to Data Mining\n",
    "\n",
    "Semester: 2019SP\n",
    "\n",
    "Instructor: Brian King"
   ]
  },
  {
   "cell_type": "code",
   "execution_count": 3,
   "metadata": {},
   "outputs": [],
   "source": [
    "import numpy as np\n",
    "import pandas as pd\n",
    "import matplotlib as mpl\n",
    "import matplotlib.pyplot as plt\n",
    "import seaborn as sns; sns.set() # for plot styling\n",
    "from scipy.spatial.distance import pdist, squareform\n",
    "from scipy.cluster.hierarchy import linkage, fcluster, dendrogram, cophenet\n",
    "from sklearn.cluster import AgglomerativeClustering\n",
    "from sklearn.metrics.cluster import adjusted_rand_score, homogeneity_completeness_v_measure, contingency_matrix\n",
    "from sklearn.datasets.samples_generator import make_blobs"
   ]
  },
  {
   "cell_type": "markdown",
   "metadata": {},
   "source": [
    "### 1. As with the previous lab, copy the following code to build a very basic set of clustered data using the make_blobs function in sklearn.datasets.samples_generator"
   ]
  },
  {
   "cell_type": "code",
   "execution_count": 4,
   "metadata": {},
   "outputs": [],
   "source": [
    "X, y_true = make_blobs(n_samples=60, centers=5,\n",
    "cluster_std=(0.3,0.4,0.5,0.7,0.7),\n",
    "center_box=(0, 8), random_state=1234)"
   ]
  },
  {
   "cell_type": "markdown",
   "metadata": {},
   "source": [
    "### 2. Convert your data into a single pandas data frame with three variables, \"x\", \"y\", and \"target\". The variable \"target\" will represent our ground truth, i.e. the correct cluster class. Be sure it is a true categorical variable. Then, be sure to show a scatterplot such that each target label is a different color."
   ]
  },
  {
   "cell_type": "code",
   "execution_count": 5,
   "metadata": {},
   "outputs": [],
   "source": [
    "df_data = pd.DataFrame({\"x\":pd.DataFrame(X)[0], \"y\":pd.DataFrame(X)[1], \"target\":y_true})\n",
    "df_data[\"target\"] = df_data[\"target\"].astype(\"category\")"
   ]
  },
  {
   "cell_type": "markdown",
   "metadata": {},
   "source": [
    "### 3. Compute a distance matrix using the pdist function. Store the result as d. Use \"euclidean\" distance. Store the matrix as d."
   ]
  },
  {
   "cell_type": "code",
   "execution_count": 12,
   "metadata": {},
   "outputs": [
    {
     "name": "stdout",
     "output_type": "stream",
     "text": [
      "(1770,)\n"
     ]
    },
    {
     "data": {
      "text/plain": [
       "array([3.52790455, 1.50933175, 3.11301827, ..., 3.9155729 , 0.534052  ,\n",
       "       3.87728874])"
      ]
     },
     "execution_count": 12,
     "metadata": {},
     "output_type": "execute_result"
    }
   ],
   "source": [
    "d = pdist(X, 'euclidean')\n",
    "print(d.shape)\n",
    "d"
   ]
  },
  {
   "cell_type": "markdown",
   "metadata": {},
   "source": [
    "### 4. Examine the resulting matrix d. What is its shape? What format is it in?\n",
    "The shape is (1770,)\n",
    "\n",
    "It is a 1D numpy array."
   ]
  },
  {
   "cell_type": "markdown",
   "metadata": {},
   "source": [
    "### 5. Convert the distance matrix from pdist to a pandas dataframe called df_dist. (HINT: You'll need to use squareform.)"
   ]
  },
  {
   "cell_type": "code",
   "execution_count": 30,
   "metadata": {},
   "outputs": [
    {
     "data": {
      "text/html": [
       "<div>\n",
       "<style scoped>\n",
       "    .dataframe tbody tr th:only-of-type {\n",
       "        vertical-align: middle;\n",
       "    }\n",
       "\n",
       "    .dataframe tbody tr th {\n",
       "        vertical-align: top;\n",
       "    }\n",
       "\n",
       "    .dataframe thead th {\n",
       "        text-align: right;\n",
       "    }\n",
       "</style>\n",
       "<table border=\"1\" class=\"dataframe\">\n",
       "  <thead>\n",
       "    <tr style=\"text-align: right;\">\n",
       "      <th></th>\n",
       "      <th>0</th>\n",
       "      <th>1</th>\n",
       "      <th>2</th>\n",
       "      <th>3</th>\n",
       "      <th>4</th>\n",
       "      <th>5</th>\n",
       "      <th>6</th>\n",
       "      <th>7</th>\n",
       "      <th>8</th>\n",
       "      <th>9</th>\n",
       "      <th>...</th>\n",
       "      <th>50</th>\n",
       "      <th>51</th>\n",
       "      <th>52</th>\n",
       "      <th>53</th>\n",
       "      <th>54</th>\n",
       "      <th>55</th>\n",
       "      <th>56</th>\n",
       "      <th>57</th>\n",
       "      <th>58</th>\n",
       "      <th>59</th>\n",
       "    </tr>\n",
       "  </thead>\n",
       "  <tbody>\n",
       "    <tr>\n",
       "      <th>0</th>\n",
       "      <td>0.000000</td>\n",
       "      <td>3.527905</td>\n",
       "      <td>1.509332</td>\n",
       "      <td>3.113018</td>\n",
       "      <td>3.106137</td>\n",
       "      <td>5.647516</td>\n",
       "      <td>0.752953</td>\n",
       "      <td>5.027081</td>\n",
       "      <td>4.562295</td>\n",
       "      <td>2.819590</td>\n",
       "      <td>...</td>\n",
       "      <td>2.526279</td>\n",
       "      <td>3.197559</td>\n",
       "      <td>4.447320</td>\n",
       "      <td>4.639205</td>\n",
       "      <td>3.151076</td>\n",
       "      <td>3.605939</td>\n",
       "      <td>4.273440</td>\n",
       "      <td>3.410112</td>\n",
       "      <td>0.627223</td>\n",
       "      <td>3.323010</td>\n",
       "    </tr>\n",
       "    <tr>\n",
       "      <th>1</th>\n",
       "      <td>3.527905</td>\n",
       "      <td>0.000000</td>\n",
       "      <td>4.986325</td>\n",
       "      <td>6.490441</td>\n",
       "      <td>6.017049</td>\n",
       "      <td>6.010610</td>\n",
       "      <td>4.092549</td>\n",
       "      <td>5.145468</td>\n",
       "      <td>4.652381</td>\n",
       "      <td>6.284118</td>\n",
       "      <td>...</td>\n",
       "      <td>6.052930</td>\n",
       "      <td>0.882848</td>\n",
       "      <td>1.956236</td>\n",
       "      <td>1.842579</td>\n",
       "      <td>6.413751</td>\n",
       "      <td>0.674445</td>\n",
       "      <td>0.783159</td>\n",
       "      <td>0.733998</td>\n",
       "      <td>4.095255</td>\n",
       "      <td>0.272721</td>\n",
       "    </tr>\n",
       "    <tr>\n",
       "      <th>2</th>\n",
       "      <td>1.509332</td>\n",
       "      <td>4.986325</td>\n",
       "      <td>0.000000</td>\n",
       "      <td>2.240175</td>\n",
       "      <td>2.893576</td>\n",
       "      <td>6.528401</td>\n",
       "      <td>1.348160</td>\n",
       "      <td>6.044060</td>\n",
       "      <td>5.634930</td>\n",
       "      <td>1.783741</td>\n",
       "      <td>...</td>\n",
       "      <td>1.225558</td>\n",
       "      <td>4.704627</td>\n",
       "      <td>5.947335</td>\n",
       "      <td>6.146846</td>\n",
       "      <td>2.475237</td>\n",
       "      <td>5.107262</td>\n",
       "      <td>5.705724</td>\n",
       "      <td>4.914049</td>\n",
       "      <td>1.155816</td>\n",
       "      <td>4.797798</td>\n",
       "    </tr>\n",
       "    <tr>\n",
       "      <th>3</th>\n",
       "      <td>3.113018</td>\n",
       "      <td>6.490441</td>\n",
       "      <td>2.240175</td>\n",
       "      <td>0.000000</td>\n",
       "      <td>1.368935</td>\n",
       "      <td>5.823922</td>\n",
       "      <td>2.424085</td>\n",
       "      <td>5.628892</td>\n",
       "      <td>5.371397</td>\n",
       "      <td>0.514515</td>\n",
       "      <td>...</td>\n",
       "      <td>1.225773</td>\n",
       "      <td>5.957978</td>\n",
       "      <td>6.884059</td>\n",
       "      <td>7.175408</td>\n",
       "      <td>0.436734</td>\n",
       "      <td>6.404999</td>\n",
       "      <td>7.266420</td>\n",
       "      <td>6.196081</td>\n",
       "      <td>2.486760</td>\n",
       "      <td>6.251760</td>\n",
       "    </tr>\n",
       "    <tr>\n",
       "      <th>4</th>\n",
       "      <td>3.106137</td>\n",
       "      <td>6.017049</td>\n",
       "      <td>2.893576</td>\n",
       "      <td>1.368935</td>\n",
       "      <td>0.000000</td>\n",
       "      <td>4.464303</td>\n",
       "      <td>2.356391</td>\n",
       "      <td>4.316091</td>\n",
       "      <td>4.101497</td>\n",
       "      <td>1.735131</td>\n",
       "      <td>...</td>\n",
       "      <td>2.332169</td>\n",
       "      <td>5.348321</td>\n",
       "      <td>6.044080</td>\n",
       "      <td>6.373648</td>\n",
       "      <td>0.951064</td>\n",
       "      <td>5.797769</td>\n",
       "      <td>6.798856</td>\n",
       "      <td>5.590322</td>\n",
       "      <td>2.538504</td>\n",
       "      <td>5.756147</td>\n",
       "    </tr>\n",
       "  </tbody>\n",
       "</table>\n",
       "<p>5 rows × 60 columns</p>\n",
       "</div>"
      ],
      "text/plain": [
       "         0         1         2         3         4         5         6   \\\n",
       "0  0.000000  3.527905  1.509332  3.113018  3.106137  5.647516  0.752953   \n",
       "1  3.527905  0.000000  4.986325  6.490441  6.017049  6.010610  4.092549   \n",
       "2  1.509332  4.986325  0.000000  2.240175  2.893576  6.528401  1.348160   \n",
       "3  3.113018  6.490441  2.240175  0.000000  1.368935  5.823922  2.424085   \n",
       "4  3.106137  6.017049  2.893576  1.368935  0.000000  4.464303  2.356391   \n",
       "\n",
       "         7         8         9     ...           50        51        52  \\\n",
       "0  5.027081  4.562295  2.819590    ...     2.526279  3.197559  4.447320   \n",
       "1  5.145468  4.652381  6.284118    ...     6.052930  0.882848  1.956236   \n",
       "2  6.044060  5.634930  1.783741    ...     1.225558  4.704627  5.947335   \n",
       "3  5.628892  5.371397  0.514515    ...     1.225773  5.957978  6.884059   \n",
       "4  4.316091  4.101497  1.735131    ...     2.332169  5.348321  6.044080   \n",
       "\n",
       "         53        54        55        56        57        58        59  \n",
       "0  4.639205  3.151076  3.605939  4.273440  3.410112  0.627223  3.323010  \n",
       "1  1.842579  6.413751  0.674445  0.783159  0.733998  4.095255  0.272721  \n",
       "2  6.146846  2.475237  5.107262  5.705724  4.914049  1.155816  4.797798  \n",
       "3  7.175408  0.436734  6.404999  7.266420  6.196081  2.486760  6.251760  \n",
       "4  6.373648  0.951064  5.797769  6.798856  5.590322  2.538504  5.756147  \n",
       "\n",
       "[5 rows x 60 columns]"
      ]
     },
     "execution_count": 30,
     "metadata": {},
     "output_type": "execute_result"
    }
   ],
   "source": [
    "df_dist = squareform(d)\n",
    "df_dist = pd.DataFrame(df_dist)\n",
    "df_dist.head()"
   ]
  },
  {
   "cell_type": "markdown",
   "metadata": {},
   "source": [
    "### 6. What is the smallest value in d? Store it as dmin. (This represents the distance of pair that are the closest.) Show the index of the smallest value in d, and the value itself"
   ]
  },
  {
   "cell_type": "code",
   "execution_count": 25,
   "metadata": {},
   "outputs": [
    {
     "name": "stdout",
     "output_type": "stream",
     "text": [
      "Min:  0.05855602656850508\n",
      "Index:  1409\n"
     ]
    }
   ],
   "source": [
    "dmin = d.min()\n",
    "print(\"Min: \", dmin)\n",
    "print(\"Index: \", d.argmin())"
   ]
  },
  {
   "cell_type": "markdown",
   "metadata": {},
   "source": [
    "### 7.  Use the value to show the indices of the pair of observations that are the closest. Finally, show the two actual observations in X that are the closest. They should be extremely close in value, but not identical."
   ]
  },
  {
   "cell_type": "code",
   "execution_count": 31,
   "metadata": {},
   "outputs": [
    {
     "data": {
      "text/html": [
       "<div>\n",
       "<style scoped>\n",
       "    .dataframe tbody tr th:only-of-type {\n",
       "        vertical-align: middle;\n",
       "    }\n",
       "\n",
       "    .dataframe tbody tr th {\n",
       "        vertical-align: top;\n",
       "    }\n",
       "\n",
       "    .dataframe thead th {\n",
       "        text-align: right;\n",
       "    }\n",
       "</style>\n",
       "<table border=\"1\" class=\"dataframe\">\n",
       "  <thead>\n",
       "    <tr style=\"text-align: right;\">\n",
       "      <th></th>\n",
       "      <th>0</th>\n",
       "      <th>1</th>\n",
       "      <th>2</th>\n",
       "      <th>3</th>\n",
       "      <th>4</th>\n",
       "      <th>5</th>\n",
       "      <th>6</th>\n",
       "      <th>7</th>\n",
       "      <th>8</th>\n",
       "      <th>9</th>\n",
       "      <th>...</th>\n",
       "      <th>50</th>\n",
       "      <th>51</th>\n",
       "      <th>52</th>\n",
       "      <th>53</th>\n",
       "      <th>54</th>\n",
       "      <th>55</th>\n",
       "      <th>56</th>\n",
       "      <th>57</th>\n",
       "      <th>58</th>\n",
       "      <th>59</th>\n",
       "    </tr>\n",
       "  </thead>\n",
       "  <tbody>\n",
       "    <tr>\n",
       "      <th>0</th>\n",
       "      <td>0.0</td>\n",
       "      <td>3.527905</td>\n",
       "      <td>1.509332</td>\n",
       "      <td>3.113018</td>\n",
       "      <td>3.106137</td>\n",
       "      <td>5.647516</td>\n",
       "      <td>0.752953</td>\n",
       "      <td>5.027081</td>\n",
       "      <td>4.562295</td>\n",
       "      <td>2.81959</td>\n",
       "      <td>...</td>\n",
       "      <td>2.526279</td>\n",
       "      <td>3.197559</td>\n",
       "      <td>4.44732</td>\n",
       "      <td>4.639205</td>\n",
       "      <td>3.151076</td>\n",
       "      <td>3.605939</td>\n",
       "      <td>4.27344</td>\n",
       "      <td>3.410112</td>\n",
       "      <td>0.627223</td>\n",
       "      <td>3.32301</td>\n",
       "    </tr>\n",
       "  </tbody>\n",
       "</table>\n",
       "<p>1 rows × 60 columns</p>\n",
       "</div>"
      ],
      "text/plain": [
       "    0         1         2         3         4         5         6         7   \\\n",
       "0  0.0  3.527905  1.509332  3.113018  3.106137  5.647516  0.752953  5.027081   \n",
       "\n",
       "         8        9    ...           50        51       52        53  \\\n",
       "0  4.562295  2.81959   ...     2.526279  3.197559  4.44732  4.639205   \n",
       "\n",
       "         54        55       56        57        58       59  \n",
       "0  3.151076  3.605939  4.27344  3.410112  0.627223  3.32301  \n",
       "\n",
       "[1 rows x 60 columns]"
      ]
     },
     "execution_count": 31,
     "metadata": {},
     "output_type": "execute_result"
    }
   ],
   "source": [
    "df_dist.iloc[[dmin]]"
   ]
  },
  {
   "cell_type": "markdown",
   "metadata": {},
   "source": [
    "### 8. It is useful to be able to grab the indices of the n closest pairs in a distance matrix. Use your code above to create a function called get_closest_pairs to return a list of the n pairs of indices of observations that are the closest, from a supplied distance matrix. Your function should have two parameters: d – a distance matrix, and n – the number of pairs to return. \n",
    "### Use your function to show the indicies of the 5 closest pairs"
   ]
  },
  {
   "cell_type": "code",
   "execution_count": null,
   "metadata": {},
   "outputs": [],
   "source": []
  },
  {
   "cell_type": "markdown",
   "metadata": {},
   "source": []
  },
  {
   "cell_type": "code",
   "execution_count": null,
   "metadata": {},
   "outputs": [],
   "source": []
  },
  {
   "cell_type": "markdown",
   "metadata": {},
   "source": []
  },
  {
   "cell_type": "code",
   "execution_count": null,
   "metadata": {},
   "outputs": [],
   "source": []
  },
  {
   "cell_type": "markdown",
   "metadata": {},
   "source": []
  },
  {
   "cell_type": "code",
   "execution_count": null,
   "metadata": {},
   "outputs": [],
   "source": []
  },
  {
   "cell_type": "markdown",
   "metadata": {},
   "source": []
  },
  {
   "cell_type": "code",
   "execution_count": null,
   "metadata": {},
   "outputs": [],
   "source": []
  },
  {
   "cell_type": "markdown",
   "metadata": {},
   "source": []
  },
  {
   "cell_type": "code",
   "execution_count": null,
   "metadata": {},
   "outputs": [],
   "source": []
  },
  {
   "cell_type": "markdown",
   "metadata": {},
   "source": []
  }
 ],
 "metadata": {
  "kernelspec": {
   "display_name": "Python 3",
   "language": "python",
   "name": "python3"
  },
  "language_info": {
   "codemirror_mode": {
    "name": "ipython",
    "version": 3
   },
   "file_extension": ".py",
   "mimetype": "text/x-python",
   "name": "python",
   "nbconvert_exporter": "python",
   "pygments_lexer": "ipython3",
   "version": "3.6.8"
  }
 },
 "nbformat": 4,
 "nbformat_minor": 2
}
