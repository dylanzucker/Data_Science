{
 "cells": [
  {
   "cell_type": "markdown",
   "metadata": {},
   "source": [
    "# Lab 06 - Data Preprocessig I\n",
    "\n",
    "Name: Dylan Zucker \n",
    "\n",
    "Class: CSCI 349 - Intro to Data Mining\n",
    "\n",
    "Semester: 2019SP\n",
    "\n",
    "Instructor: Brian King"
   ]
  },
  {
   "cell_type": "code",
   "execution_count": 60,
   "metadata": {
    "collapsed": true
   },
   "outputs": [],
   "source": [
    "import numpy as np\n",
    "import pandas as pd\n",
    "import matplotlib.pyplot as plt\n",
    "import seaborn as sns"
   ]
  },
  {
   "cell_type": "markdown",
   "metadata": {},
   "source": [
    "### 1. Before you begin, print out your current working directory to understand where in your file system Python thinks your script is running from"
   ]
  },
  {
   "cell_type": "code",
   "execution_count": 61,
   "metadata": {},
   "outputs": [
    {
     "data": {
      "text/plain": [
       "'/Users/Dylan/Desktop/csci349_2019sp/csci349_2019sp/labs'"
      ]
     },
     "execution_count": 61,
     "metadata": {},
     "output_type": "execute_result"
    }
   ],
   "source": [
    "import os\n",
    "os.getcwd()"
   ]
  },
  {
   "cell_type": "markdown",
   "metadata": {},
   "source": [
    "### 2. Now, use pandas to read in your data file you downloaded above, which you should have placed in your data directory. Call the data frame df_temps. Read in the entire dataset."
   ]
  },
  {
   "cell_type": "code",
   "execution_count": 62,
   "metadata": {
    "collapsed": true
   },
   "outputs": [],
   "source": [
    "df_temps = pd.read_csv(\"../data/faa_hourly-KIPT_20180101-20181231.csv\", skiprows=16)\n",
    "del df_temps[\"Unnamed: 13\"]\n",
    "df_temps.set_index([\"Date/Time (GMT)\"], inplace = True)\n",
    "df_temps = df_temps.drop(\"Date/Time (GMT)\")\n",
    "df_temps.reset_index(level=0, inplace=True)"
   ]
  },
  {
   "cell_type": "markdown",
   "metadata": {},
   "source": [
    "### 3. Show the shape of your dataframe. it should be:\n",
    "`df_temps.shape(8693, 13)`"
   ]
  },
  {
   "cell_type": "code",
   "execution_count": 63,
   "metadata": {},
   "outputs": [
    {
     "data": {
      "text/plain": [
       "(8693, 13)"
      ]
     },
     "execution_count": 63,
     "metadata": {},
     "output_type": "execute_result"
    }
   ],
   "source": [
    "df_temps.shape"
   ]
  },
  {
   "cell_type": "markdown",
   "metadata": {},
   "source": [
    "### 4. Show the result of info()"
   ]
  },
  {
   "cell_type": "code",
   "execution_count": 64,
   "metadata": {},
   "outputs": [
    {
     "name": "stdout",
     "output_type": "stream",
     "text": [
      "<class 'pandas.core.frame.DataFrame'>\n",
      "RangeIndex: 8693 entries, 0 to 8692\n",
      "Data columns (total 13 columns):\n",
      "Date/Time (GMT)                  8693 non-null object\n",
      "Number of Observations (n/a)     8693 non-null object\n",
      "Average Temp (F)                 8687 non-null object\n",
      "Max Temp (F)                     8687 non-null object\n",
      "Min Temp (F)                     8687 non-null object\n",
      "Average Dewpoint Temp (F)        8687 non-null object\n",
      "1 Hour Precip (in)               1730 non-null object\n",
      "Max Wind Gust (mph)              1044 non-null object\n",
      "Average Relative Humidity (%)    8425 non-null object\n",
      "Average Wind Speed (mph)         8680 non-null object\n",
      "Average Station Pressure (mb)    8675 non-null object\n",
      "Average Wind Direction (deg)     8279 non-null object\n",
      "Max Wind Speed (mph)             8680 non-null object\n",
      "dtypes: object(13)\n",
      "memory usage: 883.0+ KB\n"
     ]
    }
   ],
   "source": [
    "df_temps.info()"
   ]
  },
  {
   "cell_type": "markdown",
   "metadata": {},
   "source": [
    "### 5. This is a small dataset compared to many that data scientists work with in the field. However, it does give you a chance to understand how important it is to select the smallest, yet most accurate data type for every variable. This is particularly true with respect to your memory footprint. With enormous data involving millions of records, you often need to perform various paging exercises to load in chunks of data into memory, substantially slowing down the machine learning methods. In other words, the more data you can fit in memory, the better!\n",
    "### Read about the memory_usage() method of pandas data frames. Then, report the total memory in bytes for each variable of df_temps. Also, report the total memory required for the data frame. Set the parameter drop=True, to get the most accurate assessment of your total memory usage."
   ]
  },
  {
   "cell_type": "code",
   "execution_count": 65,
   "metadata": {},
   "outputs": [
    {
     "name": "stdout",
     "output_type": "stream",
     "text": [
      "Index                                80\n",
      "Date/Time (GMT)                  660668\n",
      "Number of Observations (n/a)     573738\n",
      "Average Temp (F)                 538707\n",
      "Max Temp (F)                     538707\n",
      "Min Temp (F)                     538707\n",
      "Average Dewpoint Temp (F)        538420\n",
      "1 Hour Precip (in)               328346\n",
      "Max Wind Gust (mph)              309496\n",
      "Average Relative Humidity (%)    531060\n",
      "Average Wind Speed (mph)         531781\n",
      "Average Station Pressure (mb)    547026\n",
      "Average Wind Direction (deg)     529319\n",
      "Max Wind Speed (mph)             531947\n",
      "dtype: int64\n",
      "Total 6698002 bytes\n"
     ]
    }
   ],
   "source": [
    "sizes = df_temps.memory_usage(deep = True)\n",
    "print(sizes)\n",
    "print(\"Total \" + str(sizes.sum()) + \" bytes\")"
   ]
  },
  {
   "cell_type": "markdown",
   "metadata": {},
   "source": [
    "### 6. Report the current index. You have 8693 observations, but the index still goes from 0 to 9126. Why?"
   ]
  },
  {
   "cell_type": "code",
   "execution_count": 66,
   "metadata": {},
   "outputs": [
    {
     "data": {
      "text/plain": [
       "RangeIndex(start=0, stop=8693, step=1)"
      ]
     },
     "execution_count": 66,
     "metadata": {},
     "output_type": "execute_result"
    }
   ],
   "source": [
    "df_temps.index # Mine doesn't go from 0 to 9126, because I reset index"
   ]
  },
  {
   "cell_type": "markdown",
   "metadata": {},
   "source": [
    "### 7. Reindex your data, and show that the new index is indeed reset. (There are many ways to do this. I suggest using reset_index(). There is no need to retain the original index, so drop=True is fine.)"
   ]
  },
  {
   "cell_type": "code",
   "execution_count": 67,
   "metadata": {
    "collapsed": true
   },
   "outputs": [],
   "source": [
    "# This was already accomplished"
   ]
  },
  {
   "cell_type": "markdown",
   "metadata": {},
   "source": [
    "### 8. I cannot emphasize this enough – you will get the most out of your data when you take the time to set up the most accurate type for each variable. Currently, the type of every variable is object. However, notice that in your raw data file, EVERY variable is a number except the first variable, which is a date. Dates are COMMON in data, and it is important that you represent dates as actual date types! We'll deal with that shortly.\n",
    "\n",
    "### Convert all numeric data to actual numeric data types. You'll need to look up how to do this. (HINT: pd.to_numeric() is your friend.) Leave the NaN fields alone! The fact that they are missing is IMPORTANT! And, leave the date/time variable in the first column alone. \n",
    "\n",
    "### You should output the shape of your data, and show info() to show every variable is a floating point number"
   ]
  },
  {
   "cell_type": "code",
   "execution_count": 68,
   "metadata": {},
   "outputs": [
    {
     "name": "stdout",
     "output_type": "stream",
     "text": [
      "<class 'pandas.core.frame.DataFrame'>\n",
      "RangeIndex: 8693 entries, 0 to 8692\n",
      "Data columns (total 13 columns):\n",
      "Date/Time (GMT)                  8693 non-null object\n",
      "Number of Observations (n/a)     8693 non-null int64\n",
      "Average Temp (F)                 8687 non-null float64\n",
      "Max Temp (F)                     8687 non-null float64\n",
      "Min Temp (F)                     8687 non-null float64\n",
      "Average Dewpoint Temp (F)        8687 non-null float64\n",
      "1 Hour Precip (in)               1730 non-null float64\n",
      "Max Wind Gust (mph)              1044 non-null float64\n",
      "Average Relative Humidity (%)    8425 non-null float64\n",
      "Average Wind Speed (mph)         8680 non-null float64\n",
      "Average Station Pressure (mb)    8675 non-null float64\n",
      "Average Wind Direction (deg)     8279 non-null float64\n",
      "Max Wind Speed (mph)             8680 non-null float64\n",
      "dtypes: float64(11), int64(1), object(1)\n",
      "memory usage: 883.0+ KB\n"
     ]
    }
   ],
   "source": [
    "cols = df_temps.columns.drop(\"Date/Time (GMT)\")\n",
    "df_temps[cols] = df_temps[cols].apply(pd.to_numeric, errors=\"coerce\")\n",
    "df_temps.info()"
   ]
  },
  {
   "cell_type": "markdown",
   "metadata": {},
   "source": [
    "### 9. Show the current total memory usage after converting your data types? There should be a substantial drop in your memory footprint! Report the percentage that your memory was reduced."
   ]
  },
  {
   "cell_type": "code",
   "execution_count": 69,
   "metadata": {},
   "outputs": [
    {
     "name": "stdout",
     "output_type": "stream",
     "text": [
      "Memory Reduced 77.67579048199747 %\n"
     ]
    }
   ],
   "source": [
    "mem1 = df_temps.memory_usage(deep=True)\n",
    "sizes1 = mem1.sum()\n",
    "print(\"Memory Reduced \" + str(100*(sizes.sum()-sizes1)/sizes.sum()) + \" %\")"
   ]
  },
  {
   "cell_type": "markdown",
   "metadata": {},
   "source": [
    "### 10) Did you notice that to_numeric() has a parameter called downcast? Go back and read about this parameter. By default, most of the time your integer types will be converted to a 64-bit integer, and floating point types will use double precision numbers. You can do even better. Read about this parameter, and downcast your types accordingly. Report the percentage that your memory was reduced from the previous step, as well as from your first"
   ]
  },
  {
   "cell_type": "code",
   "execution_count": 70,
   "metadata": {},
   "outputs": [
    {
     "name": "stdout",
     "output_type": "stream",
     "text": [
      "Memory Reduced from float64 27.90548366990442 %\n",
      "Memory Reduced from object 83.90546912347891 %\n"
     ]
    }
   ],
   "source": [
    "df_temps[cols] = df_temps[cols].apply(pd.to_numeric, errors=\"coerce\", downcast=\"float\")\n",
    "mem2 = df_temps.memory_usage(deep=True)\n",
    "sizes2 = mem2.sum()\n",
    "print(\"Memory Reduced from float64 \" + str(100*(sizes1-sizes2)/sizes1) + \" %\")\n",
    "print(\"Memory Reduced from object \" + str(100*(sizes.sum()-sizes2)/sizes.sum()) + \" %\")"
   ]
  },
  {
   "cell_type": "markdown",
   "metadata": {},
   "source": [
    "### 11. At this point, you should have good data to start working with (with the exception of the date column. Verify it by outputting the results of describe(). Every variable should have its basic stats reported."
   ]
  },
  {
   "cell_type": "code",
   "execution_count": 71,
   "metadata": {},
   "outputs": [
    {
     "data": {
      "text/html": [
       "<div>\n",
       "<style scoped>\n",
       "    .dataframe tbody tr th:only-of-type {\n",
       "        vertical-align: middle;\n",
       "    }\n",
       "\n",
       "    .dataframe tbody tr th {\n",
       "        vertical-align: top;\n",
       "    }\n",
       "\n",
       "    .dataframe thead th {\n",
       "        text-align: right;\n",
       "    }\n",
       "</style>\n",
       "<table border=\"1\" class=\"dataframe\">\n",
       "  <thead>\n",
       "    <tr style=\"text-align: right;\">\n",
       "      <th></th>\n",
       "      <th>Number of Observations (n/a)</th>\n",
       "      <th>Average Temp (F)</th>\n",
       "      <th>Max Temp (F)</th>\n",
       "      <th>Min Temp (F)</th>\n",
       "      <th>Average Dewpoint Temp (F)</th>\n",
       "      <th>1 Hour Precip (in)</th>\n",
       "      <th>Max Wind Gust (mph)</th>\n",
       "      <th>Average Relative Humidity (%)</th>\n",
       "      <th>Average Wind Speed (mph)</th>\n",
       "      <th>Average Station Pressure (mb)</th>\n",
       "      <th>Average Wind Direction (deg)</th>\n",
       "      <th>Max Wind Speed (mph)</th>\n",
       "    </tr>\n",
       "  </thead>\n",
       "  <tbody>\n",
       "    <tr>\n",
       "      <th>count</th>\n",
       "      <td>8693.000000</td>\n",
       "      <td>8687.000000</td>\n",
       "      <td>8687.000000</td>\n",
       "      <td>8687.000000</td>\n",
       "      <td>8687.000000</td>\n",
       "      <td>1730.000000</td>\n",
       "      <td>1044.000000</td>\n",
       "      <td>8425.000000</td>\n",
       "      <td>8680.000000</td>\n",
       "      <td>8675.000000</td>\n",
       "      <td>8279.000000</td>\n",
       "      <td>8680.000000</td>\n",
       "    </tr>\n",
       "    <tr>\n",
       "      <th>mean</th>\n",
       "      <td>1.399747</td>\n",
       "      <td>51.752987</td>\n",
       "      <td>51.847435</td>\n",
       "      <td>51.662914</td>\n",
       "      <td>41.679428</td>\n",
       "      <td>0.040006</td>\n",
       "      <td>23.856617</td>\n",
       "      <td>71.532364</td>\n",
       "      <td>6.033965</td>\n",
       "      <td>1017.902222</td>\n",
       "      <td>153.428192</td>\n",
       "      <td>6.325367</td>\n",
       "    </tr>\n",
       "    <tr>\n",
       "      <th>std</th>\n",
       "      <td>0.903275</td>\n",
       "      <td>19.336796</td>\n",
       "      <td>19.362728</td>\n",
       "      <td>19.315928</td>\n",
       "      <td>20.122921</td>\n",
       "      <td>0.088109</td>\n",
       "      <td>5.003509</td>\n",
       "      <td>19.806757</td>\n",
       "      <td>5.022885</td>\n",
       "      <td>7.417259</td>\n",
       "      <td>123.157219</td>\n",
       "      <td>5.109391</td>\n",
       "    </tr>\n",
       "    <tr>\n",
       "      <th>min</th>\n",
       "      <td>1.000000</td>\n",
       "      <td>-2.900000</td>\n",
       "      <td>-2.900000</td>\n",
       "      <td>-2.900000</td>\n",
       "      <td>-11.000000</td>\n",
       "      <td>0.000000</td>\n",
       "      <td>16.100000</td>\n",
       "      <td>9.000000</td>\n",
       "      <td>0.000000</td>\n",
       "      <td>986.000000</td>\n",
       "      <td>0.000000</td>\n",
       "      <td>0.000000</td>\n",
       "    </tr>\n",
       "    <tr>\n",
       "      <th>25%</th>\n",
       "      <td>1.000000</td>\n",
       "      <td>36.000000</td>\n",
       "      <td>36.000000</td>\n",
       "      <td>36.000000</td>\n",
       "      <td>25.000000</td>\n",
       "      <td>0.000000</td>\n",
       "      <td>20.700001</td>\n",
       "      <td>57.000000</td>\n",
       "      <td>1.750000</td>\n",
       "      <td>1013.200012</td>\n",
       "      <td>2.085000</td>\n",
       "      <td>3.500000</td>\n",
       "    </tr>\n",
       "    <tr>\n",
       "      <th>50%</th>\n",
       "      <td>1.000000</td>\n",
       "      <td>51.099998</td>\n",
       "      <td>51.099998</td>\n",
       "      <td>50.000000</td>\n",
       "      <td>42.099998</td>\n",
       "      <td>0.010000</td>\n",
       "      <td>23.000000</td>\n",
       "      <td>75.000000</td>\n",
       "      <td>5.800000</td>\n",
       "      <td>1017.900024</td>\n",
       "      <td>133.330002</td>\n",
       "      <td>5.800000</td>\n",
       "    </tr>\n",
       "    <tr>\n",
       "      <th>75%</th>\n",
       "      <td>1.000000</td>\n",
       "      <td>69.099998</td>\n",
       "      <td>69.099998</td>\n",
       "      <td>69.099998</td>\n",
       "      <td>60.099998</td>\n",
       "      <td>0.040000</td>\n",
       "      <td>26.500000</td>\n",
       "      <td>89.000000</td>\n",
       "      <td>9.200000</td>\n",
       "      <td>1022.400024</td>\n",
       "      <td>270.000000</td>\n",
       "      <td>9.200000</td>\n",
       "    </tr>\n",
       "    <tr>\n",
       "      <th>max</th>\n",
       "      <td>8.000000</td>\n",
       "      <td>96.099998</td>\n",
       "      <td>96.099998</td>\n",
       "      <td>96.099998</td>\n",
       "      <td>76.449997</td>\n",
       "      <td>1.480000</td>\n",
       "      <td>54.099998</td>\n",
       "      <td>100.000000</td>\n",
       "      <td>35.700001</td>\n",
       "      <td>1043.699951</td>\n",
       "      <td>360.000000</td>\n",
       "      <td>36.799999</td>\n",
       "    </tr>\n",
       "  </tbody>\n",
       "</table>\n",
       "</div>"
      ],
      "text/plain": [
       "       Number of Observations (n/a)  Average Temp (F)  Max Temp (F)  \\\n",
       "count                   8693.000000       8687.000000   8687.000000   \n",
       "mean                       1.399747         51.752987     51.847435   \n",
       "std                        0.903275         19.336796     19.362728   \n",
       "min                        1.000000         -2.900000     -2.900000   \n",
       "25%                        1.000000         36.000000     36.000000   \n",
       "50%                        1.000000         51.099998     51.099998   \n",
       "75%                        1.000000         69.099998     69.099998   \n",
       "max                        8.000000         96.099998     96.099998   \n",
       "\n",
       "       Min Temp (F)  Average Dewpoint Temp (F)  1 Hour Precip (in)  \\\n",
       "count   8687.000000                8687.000000         1730.000000   \n",
       "mean      51.662914                  41.679428            0.040006   \n",
       "std       19.315928                  20.122921            0.088109   \n",
       "min       -2.900000                 -11.000000            0.000000   \n",
       "25%       36.000000                  25.000000            0.000000   \n",
       "50%       50.000000                  42.099998            0.010000   \n",
       "75%       69.099998                  60.099998            0.040000   \n",
       "max       96.099998                  76.449997            1.480000   \n",
       "\n",
       "       Max Wind Gust (mph)  Average Relative Humidity (%)  \\\n",
       "count          1044.000000                    8425.000000   \n",
       "mean             23.856617                      71.532364   \n",
       "std               5.003509                      19.806757   \n",
       "min              16.100000                       9.000000   \n",
       "25%              20.700001                      57.000000   \n",
       "50%              23.000000                      75.000000   \n",
       "75%              26.500000                      89.000000   \n",
       "max              54.099998                     100.000000   \n",
       "\n",
       "       Average Wind Speed (mph)  Average Station Pressure (mb)  \\\n",
       "count               8680.000000                    8675.000000   \n",
       "mean                   6.033965                    1017.902222   \n",
       "std                    5.022885                       7.417259   \n",
       "min                    0.000000                     986.000000   \n",
       "25%                    1.750000                    1013.200012   \n",
       "50%                    5.800000                    1017.900024   \n",
       "75%                    9.200000                    1022.400024   \n",
       "max                   35.700001                    1043.699951   \n",
       "\n",
       "       Average Wind Direction (deg)  Max Wind Speed (mph)  \n",
       "count                   8279.000000           8680.000000  \n",
       "mean                     153.428192              6.325367  \n",
       "std                      123.157219              5.109391  \n",
       "min                        0.000000              0.000000  \n",
       "25%                        2.085000              3.500000  \n",
       "50%                      133.330002              5.800000  \n",
       "75%                      270.000000              9.200000  \n",
       "max                      360.000000             36.799999  "
      ]
     },
     "execution_count": 71,
     "metadata": {},
     "output_type": "execute_result"
    }
   ],
   "source": [
    "df_temps.describe()"
   ]
  },
  {
   "cell_type": "markdown",
   "metadata": {},
   "source": [
    "### 12. What are the four primary classes in pandas for working with dates and times? What is each used for?\n",
    "\n",
    "The four classes are: **Time stamps**, used for Date times (a particular moment in time), **Timedelta**, used for a duration of time, **Period**, used to measure a length of time between two times, and **DateOffset**, used to shift a date time by a specific time duration."
   ]
  },
  {
   "cell_type": "markdown",
   "metadata": {},
   "source": [
    "### 13 What is the name of the pandas function that is used to convert string objects or other types to a Timestamp object?\n",
    "\n",
    "pd.TimeStamp"
   ]
  },
  {
   "cell_type": "markdown",
   "metadata": {},
   "source": [
    "### 14. Create a Timestamp object from the string \"07/04/19\", which is a date representing July 4, 2019. Store the object as d1 and show it."
   ]
  },
  {
   "cell_type": "code",
   "execution_count": 72,
   "metadata": {},
   "outputs": [
    {
     "data": {
      "text/plain": [
       "Timestamp('2019-07-04 00:00:00')"
      ]
     },
     "execution_count": 72,
     "metadata": {},
     "output_type": "execute_result"
    }
   ],
   "source": [
    "d1 = pd.Timestamp(\"2019-07-04\")\n",
    "d1"
   ]
  },
  {
   "cell_type": "markdown",
   "metadata": {},
   "source": [
    "### 15. Using d1 and string formatting capabilities, print the string \"Today's date is Thursday, July 4, 2019\"."
   ]
  },
  {
   "cell_type": "code",
   "execution_count": 73,
   "metadata": {},
   "outputs": [
    {
     "name": "stdout",
     "output_type": "stream",
     "text": [
      "Today's date is Thursday, July 04, 2019\n"
     ]
    }
   ],
   "source": [
    "print(\"Today's date is \" + d1.strftime(\"%A, %B %d, %Y\"))"
   ]
  },
  {
   "cell_type": "markdown",
   "metadata": {},
   "source": [
    "### 16. Create another Timestamp object representing Sept 7, 2019 at 3pm, called d2. Report it"
   ]
  },
  {
   "cell_type": "code",
   "execution_count": 74,
   "metadata": {},
   "outputs": [
    {
     "data": {
      "text/plain": [
       "Timestamp('2019-09-07 15:00:00')"
      ]
     },
     "execution_count": 74,
     "metadata": {},
     "output_type": "execute_result"
    }
   ],
   "source": [
    "d2 = pd.Timestamp(\"9/07/2019\")\n",
    "d2 = d2 + pd.DateOffset(hours=15)\n",
    "d2"
   ]
  },
  {
   "cell_type": "markdown",
   "metadata": {},
   "source": [
    "### 17. Subtract d2 – d1, and report the difference as the number of days and seconds between these two. Also report the difference as total seconds. (NOTE: The difference should be 65 days, 54000 seconds. Or 5670000 total seconds.)"
   ]
  },
  {
   "cell_type": "code",
   "execution_count": 75,
   "metadata": {},
   "outputs": [
    {
     "name": "stdout",
     "output_type": "stream",
     "text": [
      "Days:  65\n",
      "seconds:  54000\n",
      "Total Seconds:  5670000\n"
     ]
    }
   ],
   "source": [
    "print(\"Days: \", pd.Timedelta(d2-d1).days)\n",
    "print(\"seconds: \", pd.Timedelta(d2-d1).seconds)\n",
    "print(\"Total Seconds: \", pd.Timedelta(d2-d1).days*3600*24 +  pd.Timedelta(d2-d1).seconds)"
   ]
  },
  {
   "cell_type": "markdown",
   "metadata": {},
   "source": [
    "### 18. Create a new Timestamp object from the string \"2019-07-01 08:30pm\", but, localize the time stamp to represent the time in the US Eastern Time Zone. Store the result as d3 and output it."
   ]
  },
  {
   "cell_type": "code",
   "execution_count": 76,
   "metadata": {},
   "outputs": [
    {
     "data": {
      "text/plain": [
       "Timestamp('2019-07-01 20:30:00-0400', tz='US/Eastern')"
      ]
     },
     "execution_count": 76,
     "metadata": {},
     "output_type": "execute_result"
    }
   ],
   "source": [
    "d3 = pd.Timestamp(\"2019-07-01 08:30pm\")\n",
    "d3 = d3.tz_localize(\"US/Eastern\")\n",
    "d3"
   ]
  },
  {
   "cell_type": "markdown",
   "metadata": {},
   "source": [
    "### 19. Show time represented by d3, but converted to the US / Pacific Time Zone. The time reported should be three hours earlier than EST shown in the previous question."
   ]
  },
  {
   "cell_type": "code",
   "execution_count": 77,
   "metadata": {},
   "outputs": [
    {
     "data": {
      "text/plain": [
       "Timestamp('2019-07-01 17:30:00-0700', tz='US/Pacific')"
      ]
     },
     "execution_count": 77,
     "metadata": {},
     "output_type": "execute_result"
    }
   ],
   "source": [
    "d3 = d3.tz_convert(\"US/Pacific\")\n",
    "d3"
   ]
  },
  {
   "cell_type": "markdown",
   "metadata": {},
   "source": [
    "### 20. Create a Timestamp object representing right now, stored as ts_now. Report the result."
   ]
  },
  {
   "cell_type": "code",
   "execution_count": 78,
   "metadata": {},
   "outputs": [
    {
     "data": {
      "text/plain": [
       "Timestamp('2019-02-06 10:31:31.267583')"
      ]
     },
     "execution_count": 78,
     "metadata": {},
     "output_type": "execute_result"
    }
   ],
   "source": [
    "ts_now = pd.Timestamp.now()\n",
    "ts_now"
   ]
  },
  {
   "cell_type": "markdown",
   "metadata": {},
   "source": [
    "### 21. Create a Timedelta object representing 1 hour, stored as td_hour. Report the result."
   ]
  },
  {
   "cell_type": "code",
   "execution_count": 79,
   "metadata": {},
   "outputs": [
    {
     "data": {
      "text/plain": [
       "Timedelta('0 days 01:00:00')"
      ]
     },
     "execution_count": 79,
     "metadata": {},
     "output_type": "execute_result"
    }
   ],
   "source": [
    "td_hour = pd.Timedelta(\"1 hour\")\n",
    "td_hour"
   ]
  },
  {
   "cell_type": "markdown",
   "metadata": {},
   "source": [
    "### 22. Demonstrate how you can do basic mathematical operations by adding 6 hours to ts_now using td_hour and basic math operations. (i.e. No loops or further calculations necessary!)"
   ]
  },
  {
   "cell_type": "code",
   "execution_count": 80,
   "metadata": {},
   "outputs": [
    {
     "data": {
      "text/plain": [
       "Timestamp('2019-02-06 16:31:31.267583')"
      ]
     },
     "execution_count": 80,
     "metadata": {},
     "output_type": "execute_result"
    }
   ],
   "source": [
    "ts_now + (6 * td_hour)"
   ]
  },
  {
   "cell_type": "markdown",
   "metadata": {},
   "source": [
    "### 23. Create a DatetimeIndex object that represents every hour during the month of January, 2019. The first index should be midnight, January 1, 2019, and the last index should be January 31, 2019 at 11pm. Store the object as dr. (HINT – use the pd.date_range() method!)"
   ]
  },
  {
   "cell_type": "code",
   "execution_count": 81,
   "metadata": {},
   "outputs": [
    {
     "data": {
      "text/plain": [
       "DatetimeIndex(['2019-01-01 00:00:00', '2019-01-01 01:00:00',\n",
       "               '2019-01-01 02:00:00', '2019-01-01 03:00:00',\n",
       "               '2019-01-01 04:00:00', '2019-01-01 05:00:00',\n",
       "               '2019-01-01 06:00:00', '2019-01-01 07:00:00',\n",
       "               '2019-01-01 08:00:00', '2019-01-01 09:00:00',\n",
       "               '2019-01-01 10:00:00', '2019-01-01 11:00:00',\n",
       "               '2019-01-01 12:00:00', '2019-01-01 13:00:00',\n",
       "               '2019-01-01 14:00:00', '2019-01-01 15:00:00',\n",
       "               '2019-01-01 16:00:00', '2019-01-01 17:00:00',\n",
       "               '2019-01-01 18:00:00', '2019-01-01 19:00:00',\n",
       "               '2019-01-01 20:00:00', '2019-01-01 21:00:00',\n",
       "               '2019-01-01 22:00:00', '2019-01-01 23:00:00'],\n",
       "              dtype='datetime64[ns]', freq='H')"
      ]
     },
     "execution_count": 81,
     "metadata": {},
     "output_type": "execute_result"
    }
   ],
   "source": [
    "s = \"2019-01-01 00:00am\"\n",
    "e = \"2019-01-01 11:00pm\"\n",
    "dr = pd.date_range(s, e, freq=\"h\")\n",
    "dr"
   ]
  },
  {
   "cell_type": "markdown",
   "metadata": {},
   "source": [
    "### 24. Now, deal with that first column of data. It's currently an object. Use it to form the index of df_temps to be a DatetimeIndex type. NOTE: You can NOT simply generate this column using your own date range object! You must generate it directly from the actual time/date stamp in the data! Why? This is very important. Do NOT ever be fooled into thinking any real-world dataset you are dealing with is 100% complete. If you simply try to use a date range between 1/1 – 12/31, with every hour, you are making an incorrect assumption that every observation is present! WRONG!"
   ]
  },
  {
   "cell_type": "code",
   "execution_count": 82,
   "metadata": {},
   "outputs": [],
   "source": [
    "#df_temps.set_index(\"Date/Time (GMT)\", inplace=True)\n",
    "df_temps.set_index(pd.to_datetime(df_temps[\"Date/Time (GMT)\"]).dt.tz_localize(\"GMT\"), inplace=True)"
   ]
  },
  {
   "cell_type": "markdown",
   "metadata": {},
   "source": [
    "### 25. Confirm that your index is indeed matching your first column of data, then use the drop method to eliminate the first column of time / date data. It is now your index, and thus there is no need to keep this information twice."
   ]
  },
  {
   "cell_type": "code",
   "execution_count": 84,
   "metadata": {},
   "outputs": [
    {
     "data": {
      "text/html": [
       "<div>\n",
       "<style scoped>\n",
       "    .dataframe tbody tr th:only-of-type {\n",
       "        vertical-align: middle;\n",
       "    }\n",
       "\n",
       "    .dataframe tbody tr th {\n",
       "        vertical-align: top;\n",
       "    }\n",
       "\n",
       "    .dataframe thead th {\n",
       "        text-align: right;\n",
       "    }\n",
       "</style>\n",
       "<table border=\"1\" class=\"dataframe\">\n",
       "  <thead>\n",
       "    <tr style=\"text-align: right;\">\n",
       "      <th></th>\n",
       "      <th>Number of Observations (n/a)</th>\n",
       "      <th>Average Temp (F)</th>\n",
       "      <th>Max Temp (F)</th>\n",
       "      <th>Min Temp (F)</th>\n",
       "      <th>Average Dewpoint Temp (F)</th>\n",
       "      <th>1 Hour Precip (in)</th>\n",
       "      <th>Max Wind Gust (mph)</th>\n",
       "      <th>Average Relative Humidity (%)</th>\n",
       "      <th>Average Wind Speed (mph)</th>\n",
       "      <th>Average Station Pressure (mb)</th>\n",
       "      <th>Average Wind Direction (deg)</th>\n",
       "      <th>Max Wind Speed (mph)</th>\n",
       "    </tr>\n",
       "    <tr>\n",
       "      <th>Date/Time (GMT)</th>\n",
       "      <th></th>\n",
       "      <th></th>\n",
       "      <th></th>\n",
       "      <th></th>\n",
       "      <th></th>\n",
       "      <th></th>\n",
       "      <th></th>\n",
       "      <th></th>\n",
       "      <th></th>\n",
       "      <th></th>\n",
       "      <th></th>\n",
       "      <th></th>\n",
       "    </tr>\n",
       "  </thead>\n",
       "  <tbody>\n",
       "    <tr>\n",
       "      <th>2018-01-01 00:00:00+00:00</th>\n",
       "      <td>1.0</td>\n",
       "      <td>10.0</td>\n",
       "      <td>10.0</td>\n",
       "      <td>10.0</td>\n",
       "      <td>-5.1</td>\n",
       "      <td>NaN</td>\n",
       "      <td>NaN</td>\n",
       "      <td>49.0</td>\n",
       "      <td>6.9</td>\n",
       "      <td>1028.099976</td>\n",
       "      <td>310.0</td>\n",
       "      <td>6.9</td>\n",
       "    </tr>\n",
       "    <tr>\n",
       "      <th>2018-01-01 01:00:00+00:00</th>\n",
       "      <td>1.0</td>\n",
       "      <td>8.1</td>\n",
       "      <td>8.1</td>\n",
       "      <td>8.1</td>\n",
       "      <td>-5.1</td>\n",
       "      <td>NaN</td>\n",
       "      <td>NaN</td>\n",
       "      <td>54.0</td>\n",
       "      <td>0.0</td>\n",
       "      <td>1028.400024</td>\n",
       "      <td>0.0</td>\n",
       "      <td>0.0</td>\n",
       "    </tr>\n",
       "    <tr>\n",
       "      <th>2018-01-01 02:00:00+00:00</th>\n",
       "      <td>1.0</td>\n",
       "      <td>7.0</td>\n",
       "      <td>7.0</td>\n",
       "      <td>7.0</td>\n",
       "      <td>-4.0</td>\n",
       "      <td>NaN</td>\n",
       "      <td>NaN</td>\n",
       "      <td>60.0</td>\n",
       "      <td>0.0</td>\n",
       "      <td>1028.800049</td>\n",
       "      <td>0.0</td>\n",
       "      <td>0.0</td>\n",
       "    </tr>\n",
       "    <tr>\n",
       "      <th>2018-01-01 03:00:00+00:00</th>\n",
       "      <td>1.0</td>\n",
       "      <td>3.9</td>\n",
       "      <td>3.9</td>\n",
       "      <td>3.9</td>\n",
       "      <td>-5.1</td>\n",
       "      <td>NaN</td>\n",
       "      <td>NaN</td>\n",
       "      <td>65.0</td>\n",
       "      <td>3.5</td>\n",
       "      <td>1029.099976</td>\n",
       "      <td>240.0</td>\n",
       "      <td>3.5</td>\n",
       "    </tr>\n",
       "    <tr>\n",
       "      <th>2018-01-01 04:00:00+00:00</th>\n",
       "      <td>1.0</td>\n",
       "      <td>9.0</td>\n",
       "      <td>9.0</td>\n",
       "      <td>9.0</td>\n",
       "      <td>-2.9</td>\n",
       "      <td>NaN</td>\n",
       "      <td>NaN</td>\n",
       "      <td>58.0</td>\n",
       "      <td>9.2</td>\n",
       "      <td>1029.099976</td>\n",
       "      <td>270.0</td>\n",
       "      <td>9.2</td>\n",
       "    </tr>\n",
       "  </tbody>\n",
       "</table>\n",
       "</div>"
      ],
      "text/plain": [
       "                           Number of Observations (n/a)  Average Temp (F)  \\\n",
       "Date/Time (GMT)                                                             \n",
       "2018-01-01 00:00:00+00:00                           1.0              10.0   \n",
       "2018-01-01 01:00:00+00:00                           1.0               8.1   \n",
       "2018-01-01 02:00:00+00:00                           1.0               7.0   \n",
       "2018-01-01 03:00:00+00:00                           1.0               3.9   \n",
       "2018-01-01 04:00:00+00:00                           1.0               9.0   \n",
       "\n",
       "                           Max Temp (F)  Min Temp (F)  \\\n",
       "Date/Time (GMT)                                         \n",
       "2018-01-01 00:00:00+00:00          10.0          10.0   \n",
       "2018-01-01 01:00:00+00:00           8.1           8.1   \n",
       "2018-01-01 02:00:00+00:00           7.0           7.0   \n",
       "2018-01-01 03:00:00+00:00           3.9           3.9   \n",
       "2018-01-01 04:00:00+00:00           9.0           9.0   \n",
       "\n",
       "                           Average Dewpoint Temp (F)  1 Hour Precip (in)  \\\n",
       "Date/Time (GMT)                                                            \n",
       "2018-01-01 00:00:00+00:00                       -5.1                 NaN   \n",
       "2018-01-01 01:00:00+00:00                       -5.1                 NaN   \n",
       "2018-01-01 02:00:00+00:00                       -4.0                 NaN   \n",
       "2018-01-01 03:00:00+00:00                       -5.1                 NaN   \n",
       "2018-01-01 04:00:00+00:00                       -2.9                 NaN   \n",
       "\n",
       "                           Max Wind Gust (mph)  Average Relative Humidity (%)  \\\n",
       "Date/Time (GMT)                                                                 \n",
       "2018-01-01 00:00:00+00:00                  NaN                           49.0   \n",
       "2018-01-01 01:00:00+00:00                  NaN                           54.0   \n",
       "2018-01-01 02:00:00+00:00                  NaN                           60.0   \n",
       "2018-01-01 03:00:00+00:00                  NaN                           65.0   \n",
       "2018-01-01 04:00:00+00:00                  NaN                           58.0   \n",
       "\n",
       "                           Average Wind Speed (mph)  \\\n",
       "Date/Time (GMT)                                       \n",
       "2018-01-01 00:00:00+00:00                       6.9   \n",
       "2018-01-01 01:00:00+00:00                       0.0   \n",
       "2018-01-01 02:00:00+00:00                       0.0   \n",
       "2018-01-01 03:00:00+00:00                       3.5   \n",
       "2018-01-01 04:00:00+00:00                       9.2   \n",
       "\n",
       "                           Average Station Pressure (mb)  \\\n",
       "Date/Time (GMT)                                            \n",
       "2018-01-01 00:00:00+00:00                    1028.099976   \n",
       "2018-01-01 01:00:00+00:00                    1028.400024   \n",
       "2018-01-01 02:00:00+00:00                    1028.800049   \n",
       "2018-01-01 03:00:00+00:00                    1029.099976   \n",
       "2018-01-01 04:00:00+00:00                    1029.099976   \n",
       "\n",
       "                           Average Wind Direction (deg)  Max Wind Speed (mph)  \n",
       "Date/Time (GMT)                                                                \n",
       "2018-01-01 00:00:00+00:00                         310.0                   6.9  \n",
       "2018-01-01 01:00:00+00:00                           0.0                   0.0  \n",
       "2018-01-01 02:00:00+00:00                           0.0                   0.0  \n",
       "2018-01-01 03:00:00+00:00                         240.0                   3.5  \n",
       "2018-01-01 04:00:00+00:00                         270.0                   9.2  "
      ]
     },
     "execution_count": 84,
     "metadata": {},
     "output_type": "execute_result"
    }
   ],
   "source": [
    "df_temps = df_temps.drop([\"Date/Time (GMT)\"], axis = 1)\n",
    "df_temps.head(5)\n"
   ]
  },
  {
   "cell_type": "markdown",
   "metadata": {},
   "source": [
    "### 26. Give one final report on the % memory reduction made now, compared to when you first loaded in the data. Again, please take this seriously. This is a substantial amount of memory saved! Why? Because you took the time to properly process every column to have it represent its most accurate type, using the smallest type necessary. HUGE savings!"
   ]
  },
  {
   "cell_type": "code",
   "execution_count": 85,
   "metadata": {},
   "outputs": [
    {
     "name": "stdout",
     "output_type": "stream",
     "text": [
      "Memory Reduced 92.73204158493832 %\n"
     ]
    }
   ],
   "source": [
    "mem3 = df_temps.memory_usage(deep=True)\n",
    "sizes3 = mem3.sum()\n",
    "print(\"Memory Reduced \" + str(100*(sizes.sum()-sizes3)/sizes.sum()) + \" %\")"
   ]
  },
  {
   "cell_type": "markdown",
   "metadata": {},
   "source": [
    "### 27. As the previous question suggested, this dataset has missing observations! How may records are missing? Compute this by reporting the number of observations you expect to see with 24 observations over 365 days, and then report the number of actual observations. What is the difference? This is the number of observations that are potentially missing!"
   ]
  },
  {
   "cell_type": "code",
   "execution_count": 86,
   "metadata": {},
   "outputs": [
    {
     "name": "stdout",
     "output_type": "stream",
     "text": [
      "Expected:  8760\n",
      "Actual:  8693\n",
      "Missing:  67\n"
     ]
    }
   ],
   "source": [
    "print(\"Expected: \", 365 * 24)\n",
    "print(\"Actual: \", df_temps.shape[0])\n",
    "print(\"Missing: \", str(365*24 - df_temps.shape[0]))"
   ]
  },
  {
   "cell_type": "markdown",
   "metadata": {},
   "source": [
    "### 28. Time to investigate. Write code to perform a sanity check on the occurrence of index entries for every hour of every day between Jan 1, 2018 at midnight, through December 31, 2018, at 23:00. Report the observations that are missing, and any observations that are duplicate. Report the total quantity of both."
   ]
  },
  {
   "cell_type": "code",
   "execution_count": 87,
   "metadata": {},
   "outputs": [
    {
     "name": "stdout",
     "output_type": "stream",
     "text": [
      "Observations missing:  67\n",
      "Observations Duplicated:  0\n",
      "Missing Observations: \n"
     ]
    },
    {
     "data": {
      "text/plain": [
       "DatetimeIndex(['2018-01-04 02:00:00', '2018-01-04 03:00:00',\n",
       "               '2018-01-04 04:00:00', '2018-01-04 05:00:00',\n",
       "               '2018-01-04 07:00:00', '2018-01-04 09:00:00',\n",
       "               '2018-01-04 11:00:00', '2018-01-04 12:00:00',\n",
       "               '2018-01-04 13:00:00', '2018-01-31 07:00:00',\n",
       "               '2018-03-02 19:00:00', '2018-03-26 07:00:00',\n",
       "               '2018-04-11 03:00:00', '2018-04-11 04:00:00',\n",
       "               '2018-04-30 23:00:00', '2018-05-09 04:00:00',\n",
       "               '2018-05-09 05:00:00', '2018-05-09 06:00:00',\n",
       "               '2018-05-10 04:00:00', '2018-05-10 05:00:00',\n",
       "               '2018-06-12 07:00:00', '2018-06-12 21:00:00',\n",
       "               '2018-07-31 21:00:00', '2018-08-16 04:00:00',\n",
       "               '2018-08-16 05:00:00', '2018-08-16 11:00:00',\n",
       "               '2018-08-16 19:00:00', '2018-08-16 21:00:00',\n",
       "               '2018-08-16 22:00:00', '2018-08-17 00:00:00',\n",
       "               '2018-08-17 03:00:00', '2018-08-17 04:00:00',\n",
       "               '2018-08-17 05:00:00', '2018-08-17 06:00:00',\n",
       "               '2018-08-17 07:00:00', '2018-08-17 08:00:00',\n",
       "               '2018-08-17 09:00:00', '2018-08-17 10:00:00',\n",
       "               '2018-08-17 11:00:00', '2018-08-17 12:00:00',\n",
       "               '2018-08-17 13:00:00', '2018-08-17 14:00:00',\n",
       "               '2018-08-17 15:00:00', '2018-08-17 16:00:00',\n",
       "               '2018-08-21 05:00:00', '2018-09-02 22:00:00',\n",
       "               '2018-09-06 22:00:00', '2018-09-22 23:00:00',\n",
       "               '2018-09-27 07:00:00', '2018-09-27 08:00:00',\n",
       "               '2018-09-27 09:00:00', '2018-09-27 10:00:00',\n",
       "               '2018-09-27 11:00:00', '2018-09-27 12:00:00',\n",
       "               '2018-10-17 04:00:00', '2018-10-25 00:00:00',\n",
       "               '2018-11-04 06:00:00', '2018-11-23 13:00:00',\n",
       "               '2018-11-23 14:00:00', '2018-11-23 15:00:00',\n",
       "               '2018-12-12 23:00:00', '2018-12-13 08:00:00',\n",
       "               '2018-12-13 09:00:00', '2018-12-13 10:00:00',\n",
       "               '2018-12-13 11:00:00', '2018-12-13 12:00:00',\n",
       "               '2018-12-13 14:00:00'],\n",
       "              dtype='datetime64[ns]', freq=None)"
      ]
     },
     "execution_count": 87,
     "metadata": {},
     "output_type": "execute_result"
    }
   ],
   "source": [
    "s = \"2018-01-01 00:00am\"\n",
    "e = \"2018-12-31 11:00pm\"\n",
    "dr2 = pd.date_range(s, e, freq=\"h\")\n",
    "missing = dr2[~dr2.isin(df_temps.index)]\n",
    "print(\"Observations missing: \", missing.shape[0])\n",
    "print(\"Observations Duplicated: \", df_temps.index.unique().shape[0] - df_temps.index.shape[0])\n",
    "print(\"Missing Observations: \")\n",
    "missing"
   ]
  },
  {
   "cell_type": "markdown",
   "metadata": {},
   "source": [
    "### 29. The next step is to assess missing data in each variable. Use the isna() method on df_temps to report the total number of entries in each variable that have missing values."
   ]
  },
  {
   "cell_type": "code",
   "execution_count": 88,
   "metadata": {},
   "outputs": [
    {
     "data": {
      "text/plain": [
       "Number of Observations (n/a)        0\n",
       "Average Temp (F)                    6\n",
       "Max Temp (F)                        6\n",
       "Min Temp (F)                        6\n",
       "Average Dewpoint Temp (F)           6\n",
       "1 Hour Precip (in)               6963\n",
       "Max Wind Gust (mph)              7649\n",
       "Average Relative Humidity (%)     268\n",
       "Average Wind Speed (mph)           13\n",
       "Average Station Pressure (mb)      18\n",
       "Average Wind Direction (deg)      414\n",
       "Max Wind Speed (mph)               13\n",
       "dtype: int64"
      ]
     },
     "execution_count": 88,
     "metadata": {},
     "output_type": "execute_result"
    }
   ],
   "source": [
    "df_temps.isna().sum()"
   ]
  },
  {
   "cell_type": "markdown",
   "metadata": {},
   "source": [
    "### 30. Which variables seem to have the most consistent, complete observations? Which are missing the most? Are they really \"missing\", or are they observations where an event did not occur? Discuss.\n",
    "\n",
    "The Number of Observations is most consistent. 1 hour precip and max wind gust appear to be the least consistent (they have the most missing) but there could have been no wind or rain. The Max and Min Temp should always have values so the 7 missing are troubling."
   ]
  },
  {
   "cell_type": "markdown",
   "metadata": {},
   "source": [
    "### 31. Report the time stamps that have missing temperatures. Do you see a pattern? Do they happen on a particular day of the week? Or time?"
   ]
  },
  {
   "cell_type": "code",
   "execution_count": 89,
   "metadata": {},
   "outputs": [
    {
     "data": {
      "text/plain": [
       "DatetimeIndex(['2018-03-15 14:00:00+00:00', '2018-03-15 15:00:00+00:00',\n",
       "               '2018-05-07 14:00:00+00:00', '2018-09-05 14:00:00+00:00',\n",
       "               '2018-11-29 13:00:00+00:00', '2018-11-29 14:00:00+00:00'],\n",
       "              dtype='datetime64[ns, GMT]', name='Date/Time (GMT)', freq=None)"
      ]
     },
     "execution_count": 89,
     "metadata": {},
     "output_type": "execute_result"
    }
   ],
   "source": [
    "df_temps[(df_temps[\"Average Temp (F)\"].isna()) | (df_temps[\"Max Temp (F)\"].isna()) | (df_temps[\"Min Temp (F)\"].isna())].index\n",
    "\n",
    "# They each occur from 1pm-3pm Three of them are on thursdays. \n",
    "# Two sets of two of them are on the same day."
   ]
  },
  {
   "cell_type": "markdown",
   "metadata": {},
   "source": [
    "### 32. Create a new categorical variable in df_temps called \"Quarter\", an ordinal, that is \"Q1\" if the month is 1-3, \"Q2\" if the month is 4-6, \"Q3\" if the month is 7-9, and \"Q4\" if the month is 10-12."
   ]
  },
  {
   "cell_type": "code",
   "execution_count": 93,
   "metadata": {},
   "outputs": [
    {
     "data": {
      "text/html": [
       "<div>\n",
       "<style scoped>\n",
       "    .dataframe tbody tr th:only-of-type {\n",
       "        vertical-align: middle;\n",
       "    }\n",
       "\n",
       "    .dataframe tbody tr th {\n",
       "        vertical-align: top;\n",
       "    }\n",
       "\n",
       "    .dataframe thead th {\n",
       "        text-align: right;\n",
       "    }\n",
       "</style>\n",
       "<table border=\"1\" class=\"dataframe\">\n",
       "  <thead>\n",
       "    <tr style=\"text-align: right;\">\n",
       "      <th></th>\n",
       "      <th>Number of Observations (n/a)</th>\n",
       "      <th>Average Temp (F)</th>\n",
       "      <th>Max Temp (F)</th>\n",
       "      <th>Min Temp (F)</th>\n",
       "      <th>Average Dewpoint Temp (F)</th>\n",
       "      <th>1 Hour Precip (in)</th>\n",
       "      <th>Max Wind Gust (mph)</th>\n",
       "      <th>Average Relative Humidity (%)</th>\n",
       "      <th>Average Wind Speed (mph)</th>\n",
       "      <th>Average Station Pressure (mb)</th>\n",
       "      <th>Average Wind Direction (deg)</th>\n",
       "      <th>Max Wind Speed (mph)</th>\n",
       "      <th>Quarter</th>\n",
       "    </tr>\n",
       "    <tr>\n",
       "      <th>Date/Time (GMT)</th>\n",
       "      <th></th>\n",
       "      <th></th>\n",
       "      <th></th>\n",
       "      <th></th>\n",
       "      <th></th>\n",
       "      <th></th>\n",
       "      <th></th>\n",
       "      <th></th>\n",
       "      <th></th>\n",
       "      <th></th>\n",
       "      <th></th>\n",
       "      <th></th>\n",
       "      <th></th>\n",
       "    </tr>\n",
       "  </thead>\n",
       "  <tbody>\n",
       "    <tr>\n",
       "      <th>2018-01-01 00:00:00+00:00</th>\n",
       "      <td>1.0</td>\n",
       "      <td>10.0</td>\n",
       "      <td>10.0</td>\n",
       "      <td>10.0</td>\n",
       "      <td>-5.1</td>\n",
       "      <td>NaN</td>\n",
       "      <td>NaN</td>\n",
       "      <td>49.0</td>\n",
       "      <td>6.9</td>\n",
       "      <td>1028.099976</td>\n",
       "      <td>310.0</td>\n",
       "      <td>6.9</td>\n",
       "      <td>Q1</td>\n",
       "    </tr>\n",
       "    <tr>\n",
       "      <th>2018-01-01 01:00:00+00:00</th>\n",
       "      <td>1.0</td>\n",
       "      <td>8.1</td>\n",
       "      <td>8.1</td>\n",
       "      <td>8.1</td>\n",
       "      <td>-5.1</td>\n",
       "      <td>NaN</td>\n",
       "      <td>NaN</td>\n",
       "      <td>54.0</td>\n",
       "      <td>0.0</td>\n",
       "      <td>1028.400024</td>\n",
       "      <td>0.0</td>\n",
       "      <td>0.0</td>\n",
       "      <td>Q1</td>\n",
       "    </tr>\n",
       "    <tr>\n",
       "      <th>2018-01-01 02:00:00+00:00</th>\n",
       "      <td>1.0</td>\n",
       "      <td>7.0</td>\n",
       "      <td>7.0</td>\n",
       "      <td>7.0</td>\n",
       "      <td>-4.0</td>\n",
       "      <td>NaN</td>\n",
       "      <td>NaN</td>\n",
       "      <td>60.0</td>\n",
       "      <td>0.0</td>\n",
       "      <td>1028.800049</td>\n",
       "      <td>0.0</td>\n",
       "      <td>0.0</td>\n",
       "      <td>Q1</td>\n",
       "    </tr>\n",
       "    <tr>\n",
       "      <th>2018-01-01 03:00:00+00:00</th>\n",
       "      <td>1.0</td>\n",
       "      <td>3.9</td>\n",
       "      <td>3.9</td>\n",
       "      <td>3.9</td>\n",
       "      <td>-5.1</td>\n",
       "      <td>NaN</td>\n",
       "      <td>NaN</td>\n",
       "      <td>65.0</td>\n",
       "      <td>3.5</td>\n",
       "      <td>1029.099976</td>\n",
       "      <td>240.0</td>\n",
       "      <td>3.5</td>\n",
       "      <td>Q1</td>\n",
       "    </tr>\n",
       "    <tr>\n",
       "      <th>2018-01-01 04:00:00+00:00</th>\n",
       "      <td>1.0</td>\n",
       "      <td>9.0</td>\n",
       "      <td>9.0</td>\n",
       "      <td>9.0</td>\n",
       "      <td>-2.9</td>\n",
       "      <td>NaN</td>\n",
       "      <td>NaN</td>\n",
       "      <td>58.0</td>\n",
       "      <td>9.2</td>\n",
       "      <td>1029.099976</td>\n",
       "      <td>270.0</td>\n",
       "      <td>9.2</td>\n",
       "      <td>Q1</td>\n",
       "    </tr>\n",
       "    <tr>\n",
       "      <th>2018-01-01 05:00:00+00:00</th>\n",
       "      <td>1.0</td>\n",
       "      <td>7.0</td>\n",
       "      <td>7.0</td>\n",
       "      <td>7.0</td>\n",
       "      <td>-4.0</td>\n",
       "      <td>NaN</td>\n",
       "      <td>NaN</td>\n",
       "      <td>60.0</td>\n",
       "      <td>6.9</td>\n",
       "      <td>1029.099976</td>\n",
       "      <td>290.0</td>\n",
       "      <td>6.9</td>\n",
       "      <td>Q1</td>\n",
       "    </tr>\n",
       "    <tr>\n",
       "      <th>2018-01-01 06:00:00+00:00</th>\n",
       "      <td>1.0</td>\n",
       "      <td>3.9</td>\n",
       "      <td>3.9</td>\n",
       "      <td>3.9</td>\n",
       "      <td>-4.0</td>\n",
       "      <td>NaN</td>\n",
       "      <td>NaN</td>\n",
       "      <td>69.0</td>\n",
       "      <td>3.5</td>\n",
       "      <td>1029.099976</td>\n",
       "      <td>330.0</td>\n",
       "      <td>3.5</td>\n",
       "      <td>Q1</td>\n",
       "    </tr>\n",
       "    <tr>\n",
       "      <th>2018-01-01 07:00:00+00:00</th>\n",
       "      <td>1.0</td>\n",
       "      <td>3.9</td>\n",
       "      <td>3.9</td>\n",
       "      <td>3.9</td>\n",
       "      <td>-4.0</td>\n",
       "      <td>NaN</td>\n",
       "      <td>NaN</td>\n",
       "      <td>69.0</td>\n",
       "      <td>5.8</td>\n",
       "      <td>1029.500000</td>\n",
       "      <td>300.0</td>\n",
       "      <td>5.8</td>\n",
       "      <td>Q1</td>\n",
       "    </tr>\n",
       "    <tr>\n",
       "      <th>2018-01-01 08:00:00+00:00</th>\n",
       "      <td>1.0</td>\n",
       "      <td>5.0</td>\n",
       "      <td>5.0</td>\n",
       "      <td>5.0</td>\n",
       "      <td>-2.9</td>\n",
       "      <td>NaN</td>\n",
       "      <td>NaN</td>\n",
       "      <td>69.0</td>\n",
       "      <td>10.4</td>\n",
       "      <td>1029.099976</td>\n",
       "      <td>270.0</td>\n",
       "      <td>10.4</td>\n",
       "      <td>Q1</td>\n",
       "    </tr>\n",
       "    <tr>\n",
       "      <th>2018-01-01 09:00:00+00:00</th>\n",
       "      <td>1.0</td>\n",
       "      <td>5.0</td>\n",
       "      <td>5.0</td>\n",
       "      <td>5.0</td>\n",
       "      <td>-4.0</td>\n",
       "      <td>NaN</td>\n",
       "      <td>NaN</td>\n",
       "      <td>66.0</td>\n",
       "      <td>9.2</td>\n",
       "      <td>1029.500000</td>\n",
       "      <td>280.0</td>\n",
       "      <td>9.2</td>\n",
       "      <td>Q1</td>\n",
       "    </tr>\n",
       "  </tbody>\n",
       "</table>\n",
       "</div>"
      ],
      "text/plain": [
       "                           Number of Observations (n/a)  Average Temp (F)  \\\n",
       "Date/Time (GMT)                                                             \n",
       "2018-01-01 00:00:00+00:00                           1.0              10.0   \n",
       "2018-01-01 01:00:00+00:00                           1.0               8.1   \n",
       "2018-01-01 02:00:00+00:00                           1.0               7.0   \n",
       "2018-01-01 03:00:00+00:00                           1.0               3.9   \n",
       "2018-01-01 04:00:00+00:00                           1.0               9.0   \n",
       "2018-01-01 05:00:00+00:00                           1.0               7.0   \n",
       "2018-01-01 06:00:00+00:00                           1.0               3.9   \n",
       "2018-01-01 07:00:00+00:00                           1.0               3.9   \n",
       "2018-01-01 08:00:00+00:00                           1.0               5.0   \n",
       "2018-01-01 09:00:00+00:00                           1.0               5.0   \n",
       "\n",
       "                           Max Temp (F)  Min Temp (F)  \\\n",
       "Date/Time (GMT)                                         \n",
       "2018-01-01 00:00:00+00:00          10.0          10.0   \n",
       "2018-01-01 01:00:00+00:00           8.1           8.1   \n",
       "2018-01-01 02:00:00+00:00           7.0           7.0   \n",
       "2018-01-01 03:00:00+00:00           3.9           3.9   \n",
       "2018-01-01 04:00:00+00:00           9.0           9.0   \n",
       "2018-01-01 05:00:00+00:00           7.0           7.0   \n",
       "2018-01-01 06:00:00+00:00           3.9           3.9   \n",
       "2018-01-01 07:00:00+00:00           3.9           3.9   \n",
       "2018-01-01 08:00:00+00:00           5.0           5.0   \n",
       "2018-01-01 09:00:00+00:00           5.0           5.0   \n",
       "\n",
       "                           Average Dewpoint Temp (F)  1 Hour Precip (in)  \\\n",
       "Date/Time (GMT)                                                            \n",
       "2018-01-01 00:00:00+00:00                       -5.1                 NaN   \n",
       "2018-01-01 01:00:00+00:00                       -5.1                 NaN   \n",
       "2018-01-01 02:00:00+00:00                       -4.0                 NaN   \n",
       "2018-01-01 03:00:00+00:00                       -5.1                 NaN   \n",
       "2018-01-01 04:00:00+00:00                       -2.9                 NaN   \n",
       "2018-01-01 05:00:00+00:00                       -4.0                 NaN   \n",
       "2018-01-01 06:00:00+00:00                       -4.0                 NaN   \n",
       "2018-01-01 07:00:00+00:00                       -4.0                 NaN   \n",
       "2018-01-01 08:00:00+00:00                       -2.9                 NaN   \n",
       "2018-01-01 09:00:00+00:00                       -4.0                 NaN   \n",
       "\n",
       "                           Max Wind Gust (mph)  Average Relative Humidity (%)  \\\n",
       "Date/Time (GMT)                                                                 \n",
       "2018-01-01 00:00:00+00:00                  NaN                           49.0   \n",
       "2018-01-01 01:00:00+00:00                  NaN                           54.0   \n",
       "2018-01-01 02:00:00+00:00                  NaN                           60.0   \n",
       "2018-01-01 03:00:00+00:00                  NaN                           65.0   \n",
       "2018-01-01 04:00:00+00:00                  NaN                           58.0   \n",
       "2018-01-01 05:00:00+00:00                  NaN                           60.0   \n",
       "2018-01-01 06:00:00+00:00                  NaN                           69.0   \n",
       "2018-01-01 07:00:00+00:00                  NaN                           69.0   \n",
       "2018-01-01 08:00:00+00:00                  NaN                           69.0   \n",
       "2018-01-01 09:00:00+00:00                  NaN                           66.0   \n",
       "\n",
       "                           Average Wind Speed (mph)  \\\n",
       "Date/Time (GMT)                                       \n",
       "2018-01-01 00:00:00+00:00                       6.9   \n",
       "2018-01-01 01:00:00+00:00                       0.0   \n",
       "2018-01-01 02:00:00+00:00                       0.0   \n",
       "2018-01-01 03:00:00+00:00                       3.5   \n",
       "2018-01-01 04:00:00+00:00                       9.2   \n",
       "2018-01-01 05:00:00+00:00                       6.9   \n",
       "2018-01-01 06:00:00+00:00                       3.5   \n",
       "2018-01-01 07:00:00+00:00                       5.8   \n",
       "2018-01-01 08:00:00+00:00                      10.4   \n",
       "2018-01-01 09:00:00+00:00                       9.2   \n",
       "\n",
       "                           Average Station Pressure (mb)  \\\n",
       "Date/Time (GMT)                                            \n",
       "2018-01-01 00:00:00+00:00                    1028.099976   \n",
       "2018-01-01 01:00:00+00:00                    1028.400024   \n",
       "2018-01-01 02:00:00+00:00                    1028.800049   \n",
       "2018-01-01 03:00:00+00:00                    1029.099976   \n",
       "2018-01-01 04:00:00+00:00                    1029.099976   \n",
       "2018-01-01 05:00:00+00:00                    1029.099976   \n",
       "2018-01-01 06:00:00+00:00                    1029.099976   \n",
       "2018-01-01 07:00:00+00:00                    1029.500000   \n",
       "2018-01-01 08:00:00+00:00                    1029.099976   \n",
       "2018-01-01 09:00:00+00:00                    1029.500000   \n",
       "\n",
       "                           Average Wind Direction (deg)  Max Wind Speed (mph)  \\\n",
       "Date/Time (GMT)                                                                 \n",
       "2018-01-01 00:00:00+00:00                         310.0                   6.9   \n",
       "2018-01-01 01:00:00+00:00                           0.0                   0.0   \n",
       "2018-01-01 02:00:00+00:00                           0.0                   0.0   \n",
       "2018-01-01 03:00:00+00:00                         240.0                   3.5   \n",
       "2018-01-01 04:00:00+00:00                         270.0                   9.2   \n",
       "2018-01-01 05:00:00+00:00                         290.0                   6.9   \n",
       "2018-01-01 06:00:00+00:00                         330.0                   3.5   \n",
       "2018-01-01 07:00:00+00:00                         300.0                   5.8   \n",
       "2018-01-01 08:00:00+00:00                         270.0                  10.4   \n",
       "2018-01-01 09:00:00+00:00                         280.0                   9.2   \n",
       "\n",
       "                          Quarter  \n",
       "Date/Time (GMT)                    \n",
       "2018-01-01 00:00:00+00:00      Q1  \n",
       "2018-01-01 01:00:00+00:00      Q1  \n",
       "2018-01-01 02:00:00+00:00      Q1  \n",
       "2018-01-01 03:00:00+00:00      Q1  \n",
       "2018-01-01 04:00:00+00:00      Q1  \n",
       "2018-01-01 05:00:00+00:00      Q1  \n",
       "2018-01-01 06:00:00+00:00      Q1  \n",
       "2018-01-01 07:00:00+00:00      Q1  \n",
       "2018-01-01 08:00:00+00:00      Q1  \n",
       "2018-01-01 09:00:00+00:00      Q1  "
      ]
     },
     "execution_count": 93,
     "metadata": {},
     "output_type": "execute_result"
    }
   ],
   "source": [
    "def split_q(x):\n",
    "    if x.month <= 3:\n",
    "        return \"Q1\"\n",
    "    elif x.month <= 6:\n",
    "        return \"Q2\"\n",
    "    elif x.month <= 9:\n",
    "        return \"Q3\"\n",
    "    return \"Q4\"\n",
    "\n",
    "df_temps[\"Quarter\"] = df_temps.index.to_series().apply(lambda x: split_q(x))\n",
    "df_temps.head(10) # All Q1\n",
    "df_temps.tail(10) # All Q4"
   ]
  },
  {
   "cell_type": "markdown",
   "metadata": {},
   "source": [
    "### 33. Draw a boxplot showing the distribution of the average temperature over the entire year."
   ]
  },
  {
   "cell_type": "code",
   "execution_count": 31,
   "metadata": {},
   "outputs": [
    {
     "data": {
      "image/png": "[encoded data removed]",
      "text/plain": [
       "<Figure size 432x288 with 1 Axes>"
      ]
     },
     "metadata": {
      "needs_background": "light"
     },
     "output_type": "display_data"
    }
   ],
   "source": [
    "df_temps.boxplot(column=[\"Average Temp (F)\"])\n",
    "plt.show()"
   ]
  },
  {
   "cell_type": "markdown",
   "metadata": {},
   "source": [
    "### 34. Draw a boxplot showing the distribution of the average temperature for each quarter."
   ]
  },
  {
   "cell_type": "code",
   "execution_count": 32,
   "metadata": {},
   "outputs": [
    {
     "data": {
      "image/png": "[encoded data removed]",
      "text/plain": [
       "<Figure size 720x720 with 4 Axes>"
      ]
     },
     "metadata": {
      "needs_background": "light"
     },
     "output_type": "display_data"
    }
   ],
   "source": [
    "df_temps.groupby(\"Quarter\").boxplot(column=[\"Average Temp (F)\"], figsize = (10,10))\n",
    "plt.show()"
   ]
  },
  {
   "cell_type": "markdown",
   "metadata": {},
   "source": [
    "### 35. Plot the average temperature for the entire year. (NOTE: Some plots are very simply completed using matplotlib. You can still obtain the look and feel of seaborn by using sns.set_style() first, then plt.plot())"
   ]
  },
  {
   "cell_type": "code",
   "execution_count": 34,
   "metadata": {},
   "outputs": [
    {
     "data": {
      "image/png": "[encoded data removed]",
      "text/plain": [
       "<Figure size 432x288 with 1 Axes>"
      ]
     },
     "metadata": {},
     "output_type": "display_data"
    }
   ],
   "source": [
    "sns.set_style(\"darkgrid\", {\"axes.facecolor\": \".9\"})\n",
    "plt.plot(df_temps[\"Average Temp (F)\"])\n",
    "plt.show()"
   ]
  }
 ],
 "metadata": {
  "kernelspec": {
   "display_name": "Python 3",
   "language": "python",
   "name": "python3"
  },
  "language_info": {
   "codemirror_mode": {
    "name": "ipython",
    "version": 3
   },
   "file_extension": ".py",
   "mimetype": "text/x-python",
   "name": "python",
   "nbconvert_exporter": "python",
   "pygments_lexer": "ipython3",
   "version": "3.6.3"
  }
 },
 "nbformat": 4,
 "nbformat_minor": 2
}
