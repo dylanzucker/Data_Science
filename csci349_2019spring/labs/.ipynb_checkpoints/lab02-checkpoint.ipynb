{
 "cells": [
  {
   "cell_type": "markdown",
   "metadata": {},
   "source": [
    "# Lab 02 - numpy\n",
    "\n",
    "Name: Dylan Zucker \n",
    "\n",
    "Class: CSCI 349 - Intro to Data Mining\n",
    "\n",
    "Semester: 2019SP\n",
    "\n",
    "Instructor: Brian King\n",
    "\n"
   ]
  },
  {
   "cell_type": "markdown",
   "metadata": {},
   "source": [
    "### 1. Create an 52500 x 75 matrix of zeros, stored as X. Then print out the shape of the matrix, the base data type, the total size of the array in bytes (as an integer), and the total size in megabytes with 3 places of significance."
   ]
  },
  {
   "cell_type": "code",
   "execution_count": 21,
   "metadata": {},
   "outputs": [
    {
     "name": "stdout",
     "output_type": "stream",
     "text": [
      "(52500, 75)\n",
      "Num bytes:  31500000\n",
      "Num megabytes: 31.500\n"
     ]
    }
   ],
   "source": [
    "import numpy as np\n",
    "X = np.zeros((52500, 75))\n",
    "print(X.shape)\n",
    "print(\"Num bytes: \", X.nbytes)\n",
    "print(\"Num megabytes: {:.3f}\".format(X.nbytes * 0.000001))\n"
   ]
  },
  {
   "cell_type": "markdown",
   "metadata": {},
   "source": [
    "### 2. Resize X to have the same number of elements, but with 100 rows. Show the shape. Show the number of bytes (it should be the same as the previous answer)"
   ]
  },
  {
   "cell_type": "code",
   "execution_count": 27,
   "metadata": {},
   "outputs": [
    {
     "name": "stdout",
     "output_type": "stream",
     "text": [
      "(100, 39375)\n",
      "Num bytes:  31500000\n"
     ]
    }
   ],
   "source": [
    "X = np.reshape(X, (100,-1))\n",
    "print(X.shape)\n",
    "print(\"Num bytes: \", X.nbytes)"
   ]
  },
  {
   "cell_type": "markdown",
   "metadata": {},
   "source": [
    "### 3. Redo #1, but use a base datatype of 16-bit integers."
   ]
  },
  {
   "cell_type": "code",
   "execution_count": 28,
   "metadata": {},
   "outputs": [
    {
     "name": "stdout",
     "output_type": "stream",
     "text": [
      "(52500, 75)\n",
      "Num bytes:  7875000\n",
      "Num megabytes: 7.875\n"
     ]
    }
   ],
   "source": [
    "X = np.zeros((52500, 75), dtype=\"int16\")\n",
    "print(X.shape)\n",
    "print(\"Num bytes: \", X.nbytes)\n",
    "print(\"Num megabytes: {:.3f}\".format(X.nbytes * 0.000001))\n",
    "\n"
   ]
  },
  {
   "cell_type": "markdown",
   "metadata": {},
   "source": [
    "### 4 How many dimensions does X have? Answer using the appropriate property of np.ndarray objects."
   ]
  },
  {
   "cell_type": "code",
   "execution_count": 29,
   "metadata": {},
   "outputs": [
    {
     "name": "stdout",
     "output_type": "stream",
     "text": [
      "Num dimensions:  2\n"
     ]
    }
   ],
   "source": [
    "print(\"Num dimensions: \", X.ndim)"
   ]
  },
  {
   "cell_type": "markdown",
   "metadata": {},
   "source": [
    "### 5. Enter the following list in your cell:\n",
    "`str_nums = ['2.14', '-9.3', '42']`\n",
    "### Convert this to a numpy array named X. What is the base type? Then, convert X to an array of single precision floating point numbers. (HINT: use astype)"
   ]
  },
  {
   "cell_type": "code",
   "execution_count": 30,
   "metadata": {},
   "outputs": [
    {
     "name": "stdout",
     "output_type": "stream",
     "text": [
      "Base type =  <class 'numpy.str_'>\n",
      "[ 2.14 -9.3  42.  ]\n"
     ]
    }
   ],
   "source": [
    "str_nums = ['2.14', '-9.3', '42']\n",
    "X = np.array(str_nums)\n",
    "print(\"Base type = \", X.dtype.type)\n",
    "\n",
    "X = X.astype(float)\n",
    "print(X)"
   ]
  },
  {
   "cell_type": "markdown",
   "metadata": {},
   "source": [
    "### 6. Create a numpy array called scores, that has scores_1 as the first row and scores_2 as the second row, using np.concatenate. Then, change days into a np.array from the list days. Verify the shape of scores and days."
   ]
  },
  {
   "cell_type": "code",
   "execution_count": 40,
   "metadata": {},
   "outputs": [
    {
     "name": "stdout",
     "output_type": "stream",
     "text": [
      "[[ 9.5   8.75  8.   10.    7.75]\n",
      " [ 9.    8.   10.    8.75  7.25]]\n"
     ]
    }
   ],
   "source": [
    "days = [\"Mon\",\"Tue\",\"Wed\",\"Thu\",\"Fri\"] # Given in Problem\n",
    "scores_1 = [9.5, 8.75, 8, 10, 7.75] # Given in Problem\n",
    "scores_2 = [9, 8, 10, 8.75, 7.25] # Given in Problem\n",
    "\n",
    "scores = np.concatenate( (np.array([scores_1]), np.array([scores_2])), axis=0)\n",
    "print(scores)"
   ]
  },
  {
   "cell_type": "markdown",
   "metadata": {},
   "source": [
    "### 7. Repeat the previous problem, but repeat it with np.vstack. The array should be identical."
   ]
  },
  {
   "cell_type": "code",
   "execution_count": 67,
   "metadata": {},
   "outputs": [
    {
     "data": {
      "text/plain": [
       "array([[ 9.5 ,  8.75,  8.  , 10.  ,  7.75],\n",
       "       [ 9.  ,  8.  , 10.  ,  8.75,  7.25]])"
      ]
     },
     "execution_count": 67,
     "metadata": {},
     "output_type": "execute_result"
    }
   ],
   "source": [
    "scores = np.vstack( (np.array(scores_1), np.array(scores_2)))\n",
    "scores"
   ]
  },
  {
   "cell_type": "markdown",
   "metadata": {},
   "source": [
    "### 8. Compare the result of the expression days == \"Fri\" if the variable days was a Python list, vs. days being a numpy array. What is the difference? In general, how does numpy deal with standard comparison operators?\n",
    "\n",
    "For the python list, it just returns False, because a list can not equal a string, in basic python. For a numpy array, it returns a numpy array, of the same shape as days, of boolean values where it is False where the original numpy array element was not \"Fri\", and True where it is. numpy compares each element in its array when dealing with comparison operators, where the python list just compares the objects on each side of the operator. "
   ]
  },
  {
   "cell_type": "markdown",
   "metadata": {},
   "source": [
    "### 9. Select the scores that fell on Monday"
   ]
  },
  {
   "cell_type": "code",
   "execution_count": 52,
   "metadata": {},
   "outputs": [
    {
     "data": {
      "text/plain": [
       "array([[9.5],\n",
       "       [9. ]])"
      ]
     },
     "execution_count": 52,
     "metadata": {},
     "output_type": "execute_result"
    }
   ],
   "source": [
    "scores[..., np.array(days)==\"Mon\"]"
   ]
  },
  {
   "cell_type": "markdown",
   "metadata": {},
   "source": [
    "### 10. Select all of the scores that are NOT on Monday (Hint – look up the ~ operator)"
   ]
  },
  {
   "cell_type": "code",
   "execution_count": 136,
   "metadata": {},
   "outputs": [
    {
     "data": {
      "text/plain": [
       "array([[ 8.75,  8.  , 10.  ,  7.75],\n",
       "       [ 8.  , 10.  ,  8.75,  7.25]])"
      ]
     },
     "execution_count": 136,
     "metadata": {},
     "output_type": "execute_result"
    }
   ],
   "source": [
    "scores[..., ~(np.array(days)==\"Mon\")]"
   ]
  },
  {
   "cell_type": "markdown",
   "metadata": {},
   "source": [
    "### 11. Select the scores that were on Tuesday or Thursday"
   ]
  },
  {
   "cell_type": "code",
   "execution_count": 60,
   "metadata": {},
   "outputs": [
    {
     "data": {
      "text/plain": [
       "array([[ 8.75, 10.  ],\n",
       "       [ 8.  ,  8.75]])"
      ]
     },
     "execution_count": 60,
     "metadata": {},
     "output_type": "execute_result"
    }
   ],
   "source": [
    "scores[..., (np.array(days)==\"Tue\") | (np.array(days)==\"Thu\")]"
   ]
  },
  {
   "cell_type": "markdown",
   "metadata": {},
   "source": [
    "### 12. Show the minimum and maximum scores for the entire array of scores"
   ]
  },
  {
   "cell_type": "code",
   "execution_count": 75,
   "metadata": {},
   "outputs": [
    {
     "name": "stdout",
     "output_type": "stream",
     "text": [
      "Min:  7.25\n",
      "Max:  10.0\n"
     ]
    }
   ],
   "source": [
    "print(\"Min: \", scores.min())\n",
    "print(\"Max: \", scores.max())"
   ]
  },
  {
   "cell_type": "markdown",
   "metadata": {},
   "source": [
    "### 13. Show the minimum scores for each week as a new array with the same dimensions (hint – use thekeepdims parameter). Your result should be something like:\n",
    "`array([[7.75],  \n",
    "        [7.25]])`"
   ]
  },
  {
   "cell_type": "code",
   "execution_count": 98,
   "metadata": {},
   "outputs": [
    {
     "data": {
      "text/plain": [
       "array([[7.75],\n",
       "       [7.25]])"
      ]
     },
     "execution_count": 98,
     "metadata": {},
     "output_type": "execute_result"
    }
   ],
   "source": [
    "scores.min(1, keepdims=True)"
   ]
  },
  {
   "cell_type": "markdown",
   "metadata": {},
   "source": [
    "### 14. Report the day that the maximum score occurred each week. (HINT: use argmax and use that result to index days.)"
   ]
  },
  {
   "cell_type": "code",
   "execution_count": 110,
   "metadata": {},
   "outputs": [
    {
     "data": {
      "text/plain": [
       "array(['Thu', 'Wed'], dtype='<U3')"
      ]
     },
     "execution_count": 110,
     "metadata": {},
     "output_type": "execute_result"
    }
   ],
   "source": [
    "t = scores.argmax(axis=1)\n",
    "x = np.array(days)\n",
    "x[t]"
   ]
  },
  {
   "cell_type": "markdown",
   "metadata": {},
   "source": [
    "### 15. Report the mean of the scores of each week"
   ]
  },
  {
   "cell_type": "code",
   "execution_count": 125,
   "metadata": {},
   "outputs": [
    {
     "data": {
      "text/plain": [
       "array([8.8, 8.6])"
      ]
     },
     "execution_count": 125,
     "metadata": {},
     "output_type": "execute_result"
    }
   ],
   "source": [
    "means = scores.mean(axis=1)\n",
    "means"
   ]
  },
  {
   "cell_type": "markdown",
   "metadata": {},
   "source": [
    "### 16. Suppose the lowest score was dropped from each week. Report the mean of each week, but without the minimum score for that week."
   ]
  },
  {
   "cell_type": "code",
   "execution_count": 132,
   "metadata": {},
   "outputs": [
    {
     "data": {
      "text/plain": [
       "array([9.0625, 8.9375])"
      ]
     },
     "execution_count": 132,
     "metadata": {},
     "output_type": "execute_result"
    }
   ],
   "source": [
    "days = np.array(days)\n",
    "(means*days.size - scores.min(1, keepdims=False))/(days.size-1)"
   ]
  },
  {
   "cell_type": "markdown",
   "metadata": {},
   "source": [
    "### 17. Convert the scores to fall on a scale from 0-100 instead of 0-10.\n",
    "#### Copy and paste this code into a cell:\n",
    "`\n",
    "np.random.seed(1234)\n",
    "X = np.random.randint(1,100,50).reshape((10,5))\n",
    "X`"
   ]
  },
  {
   "cell_type": "code",
   "execution_count": 140,
   "metadata": {},
   "outputs": [
    {
     "data": {
      "text/plain": [
       "array([[ 950.,  875.,  800., 1000.,  775.],\n",
       "       [ 900.,  800., 1000.,  875.,  725.]])"
      ]
     },
     "execution_count": 140,
     "metadata": {},
     "output_type": "execute_result"
    }
   ],
   "source": [
    "np.random.seed(1234)\n",
    "X = np.random.randint(1,100,50).reshape((10,5))\n",
    "X\n",
    "scores = scores * 10\n",
    "scores"
   ]
  },
  {
   "cell_type": "markdown",
   "metadata": {},
   "source": [
    "### You may use standard selection techniques with integers and slicing for the following exercises"
   ]
  },
  {
   "cell_type": "markdown",
   "metadata": {},
   "source": [
    "### 18. Select the first row of X"
   ]
  },
  {
   "cell_type": "code",
   "execution_count": 143,
   "metadata": {},
   "outputs": [
    {
     "data": {
      "text/plain": [
       "array([48, 84, 39, 54, 77])"
      ]
     },
     "execution_count": 143,
     "metadata": {},
     "output_type": "execute_result"
    }
   ],
   "source": [
    "X[0]"
   ]
  },
  {
   "cell_type": "markdown",
   "metadata": {},
   "source": [
    "### 19. Select the last column of X"
   ]
  },
  {
   "cell_type": "code",
   "execution_count": 151,
   "metadata": {},
   "outputs": [
    {
     "data": {
      "text/plain": [
       "array([77, 27, 59, 48, 39, 81, 66, 61, 14, 32])"
      ]
     },
     "execution_count": 151,
     "metadata": {},
     "output_type": "execute_result"
    }
   ],
   "source": [
    "X[:,-1]"
   ]
  },
  {
   "cell_type": "markdown",
   "metadata": {},
   "source": [
    "### 20. Select the first AND last column of X"
   ]
  },
  {
   "cell_type": "code",
   "execution_count": 146,
   "metadata": {},
   "outputs": [
    {
     "data": {
      "text/plain": [
       "array([[48, 77],\n",
       "       [25, 27],\n",
       "       [31, 59],\n",
       "       [93, 48],\n",
       "       [51, 39],\n",
       "       [68, 81],\n",
       "       [ 4, 66],\n",
       "       [76, 61],\n",
       "       [47, 14],\n",
       "       [97, 32]])"
      ]
     },
     "execution_count": 146,
     "metadata": {},
     "output_type": "execute_result"
    }
   ],
   "source": [
    "X[:,[0,-1]]"
   ]
  },
  {
   "cell_type": "markdown",
   "metadata": {},
   "source": [
    "### 21. Select every other row of X"
   ]
  },
  {
   "cell_type": "code",
   "execution_count": 147,
   "metadata": {},
   "outputs": [
    {
     "data": {
      "text/plain": [
       "array([[48, 84, 39, 54, 77],\n",
       "       [31, 44, 31, 27, 59],\n",
       "       [51, 77, 38, 35, 39],\n",
       "       [ 4,  3, 20, 13, 66],\n",
       "       [47, 29, 82, 88, 14]])"
      ]
     },
     "execution_count": 147,
     "metadata": {},
     "output_type": "execute_result"
    }
   ],
   "source": [
    "X[::2]"
   ]
  },
  {
   "cell_type": "markdown",
   "metadata": {},
   "source": [
    "### 22. Show the transpose of X, but don't change X itself"
   ]
  },
  {
   "cell_type": "code",
   "execution_count": 150,
   "metadata": {},
   "outputs": [
    {
     "data": {
      "text/plain": [
       "array([[48, 25, 31, 93, 51, 68,  4, 76, 47, 97],\n",
       "       [84, 16, 44, 70, 77, 12,  3, 82, 29, 13],\n",
       "       [39, 50, 31, 81, 38,  1, 20, 15, 82, 70],\n",
       "       [54, 24, 27, 74, 35, 76, 13, 72, 88, 96],\n",
       "       [77, 27, 59, 48, 39, 81, 66, 61, 14, 32]])"
      ]
     },
     "execution_count": 150,
     "metadata": {},
     "output_type": "execute_result"
    }
   ],
   "source": [
    "X.T"
   ]
  },
  {
   "cell_type": "markdown",
   "metadata": {},
   "source": [
    "### 23. Select the first column of X and set the result to Y"
   ]
  },
  {
   "cell_type": "code",
   "execution_count": 153,
   "metadata": {},
   "outputs": [
    {
     "data": {
      "text/plain": [
       "array([48, 25, 31, 93, 51, 68,  4, 76, 47, 97])"
      ]
     },
     "execution_count": 153,
     "metadata": {},
     "output_type": "execute_result"
    }
   ],
   "source": [
    "Y = np.copy(X[:,0])\n",
    "Y"
   ]
  },
  {
   "cell_type": "markdown",
   "metadata": {},
   "source": [
    "### 24. Increment the first value of Y, then show the corresponding value of X. Did both values in X and Y change?"
   ]
  },
  {
   "cell_type": "code",
   "execution_count": 157,
   "metadata": {},
   "outputs": [
    {
     "name": "stdout",
     "output_type": "stream",
     "text": [
      "Before:  [[48 84 39 54 77]\n",
      " [25 16 50 24 27]\n",
      " [31 44 31 27 59]\n",
      " [93 70 81 74 48]\n",
      " [51 77 38 35 39]\n",
      " [68 12  1 76 81]\n",
      " [ 4  3 20 13 66]\n",
      " [76 82 15 72 61]\n",
      " [47 29 82 88 14]\n",
      " [97 13 70 96 32]]\n",
      "After:  [[48 84 39 54 77]\n",
      " [25 16 50 24 27]\n",
      " [31 44 31 27 59]\n",
      " [93 70 81 74 48]\n",
      " [51 77 38 35 39]\n",
      " [68 12  1 76 81]\n",
      " [ 4  3 20 13 66]\n",
      " [76 82 15 72 61]\n",
      " [47 29 82 88 14]\n",
      " [97 13 70 96 32]]\n"
     ]
    }
   ],
   "source": [
    "print(\"Before: \", X)\n",
    "Y[0] += 1\n",
    "print(\"After: \", X)"
   ]
  },
  {
   "cell_type": "markdown",
   "metadata": {},
   "source": [
    "### 25. Repeat exercise 23, but ensure that Y is assigned a copy of the selected data. Increment the first value of Y and ensure that the corresponding value of X did not change."
   ]
  },
  {
   "cell_type": "code",
   "execution_count": 158,
   "metadata": {},
   "outputs": [
    {
     "name": "stdout",
     "output_type": "stream",
     "text": [
      "Already Achieved\n"
     ]
    }
   ],
   "source": [
    "print(\"Already Achieved\")"
   ]
  },
  {
   "cell_type": "markdown",
   "metadata": {},
   "source": [
    "### 26. Create an array that contains the sequence of numbers 0, 0.1, 0.2, ... 9.8, 9.9 using arange, as a 10x10 matrix, stored as X."
   ]
  },
  {
   "cell_type": "code",
   "execution_count": 160,
   "metadata": {},
   "outputs": [
    {
     "data": {
      "text/plain": [
       "array([[0. , 0.1, 0.2, 0.3, 0.4, 0.5, 0.6, 0.7, 0.8, 0.9],\n",
       "       [1. , 1.1, 1.2, 1.3, 1.4, 1.5, 1.6, 1.7, 1.8, 1.9],\n",
       "       [2. , 2.1, 2.2, 2.3, 2.4, 2.5, 2.6, 2.7, 2.8, 2.9],\n",
       "       [3. , 3.1, 3.2, 3.3, 3.4, 3.5, 3.6, 3.7, 3.8, 3.9],\n",
       "       [4. , 4.1, 4.2, 4.3, 4.4, 4.5, 4.6, 4.7, 4.8, 4.9],\n",
       "       [5. , 5.1, 5.2, 5.3, 5.4, 5.5, 5.6, 5.7, 5.8, 5.9],\n",
       "       [6. , 6.1, 6.2, 6.3, 6.4, 6.5, 6.6, 6.7, 6.8, 6.9],\n",
       "       [7. , 7.1, 7.2, 7.3, 7.4, 7.5, 7.6, 7.7, 7.8, 7.9],\n",
       "       [8. , 8.1, 8.2, 8.3, 8.4, 8.5, 8.6, 8.7, 8.8, 8.9],\n",
       "       [9. , 9.1, 9.2, 9.3, 9.4, 9.5, 9.6, 9.7, 9.8, 9.9]])"
      ]
     },
     "execution_count": 160,
     "metadata": {},
     "output_type": "execute_result"
    }
   ],
   "source": [
    "X = np.arange(0.0, 10, .1).reshape(10,10)\n",
    "X"
   ]
  },
  {
   "cell_type": "markdown",
   "metadata": {},
   "source": [
    "### 27. Set the RNG seed to 1234. Then create an array X of uniformly distributed data, with all values between 1.0 and 10.0. Then, show the mean, the median, the minimum and maximum values of X."
   ]
  },
  {
   "cell_type": "code",
   "execution_count": 169,
   "metadata": {},
   "outputs": [
    {
     "name": "stdout",
     "output_type": "stream",
     "text": [
      "Mean =  5.579242053448736\n",
      "Median =  5.691266848351731\n",
      "Min =  1.0138938631405856\n",
      "Max =  9.999673514007755\n"
     ]
    }
   ],
   "source": [
    "np.random.seed(1234)\n",
    "X = np.random.uniform(1.0, 10.0, 1000) # Using N = 1000\n",
    "print(\"Mean = \", X.mean())\n",
    "print(\"Median = \", np.median(X))\n",
    "print(\"Min = \", X.min())\n",
    "print(\"Max = \", X.max())\n"
   ]
  },
  {
   "cell_type": "markdown",
   "metadata": {},
   "source": [
    "### 28. Define what is meant by a normal distribution. What are the parameters of a normal distribution?\n",
    "\n",
    "A normal distribution is a bell curve (more in the middle and less on the outside, of the distribution, shaped like a bell) that can show probabilities and outliers. The parameters are mean and standard deviation. "
   ]
  },
  {
   "cell_type": "markdown",
   "metadata": {},
   "source": [
    "### 29. In simple terms, using a normal distribution, what does the Law of Large Numbers tell us?\n",
    "\n",
    "The law of large number dictates that if you run an experiment a large number of times the result should be close to the actual answer that you are modeling."
   ]
  },
  {
   "cell_type": "markdown",
   "metadata": {},
   "source": [
    "### 30. Write a function called test_normal_dist. The purpose of this function is to evaluate the law of large numbers. It should have four parameters:\n",
    "\n",
    "#### mu = mean of distribution\n",
    "#### sd = standard deviation\n",
    "#### vec_length = length of the vector to generate randomly from a normal distribution, with mu and sd as parameters\n",
    "#### num_trials = number of times to repeat the experiment\n",
    "\n",
    "### The function should behave as follows. First, initialize the seed value to 1234, before your loop. Then, loop for num_trials, generating vec_length numbers from a normal distribution. Compute the mean of that vector, then compute its deviation (absolute value of the observed mean - expected mean). This should be repeated for all trials, and then return the average deviation over all trials."
   ]
  },
  {
   "cell_type": "code",
   "execution_count": 174,
   "metadata": {},
   "outputs": [],
   "source": [
    "def test_normal_dist(mu, sd, vec_length, num_trials):\n",
    "    np.random.seed(1234)\n",
    "    devs = 0\n",
    "    for i in range(num_trials):\n",
    "        X = np.random.normal(mu, sd, vec_length) \n",
    "        mean = X.mean()\n",
    "        deviation = abs(mean - mu)\n",
    "        devs += deviation\n",
    "        \n",
    "    return devs / num_trials\n",
    "        "
   ]
  },
  {
   "cell_type": "markdown",
   "metadata": {},
   "source": [
    "### 31. Use test_normal_dist to obtain the deviation for vector lengths of 10, 100, 1000, 10000, and 100000. Use a fixed number of trials of 100 for each experiment. Report the results as a numpy array with two dimensions. the first being the vector length, and the second being the average deviation resulting from your test_normal_dist function. Your resulting array should look like: \n",
    "\n",
    "`[[   10.    0.4772]  \n",
    "  [  100.    0.1619]  \n",
    "  [ 1000.    0.0446]  \n",
    "  [10000.    0.0049]]`\n",
    "#### In other words, your results should confirm the Law of Large Numbers."
   ]
  },
  {
   "cell_type": "code",
   "execution_count": 179,
   "metadata": {},
   "outputs": [
    {
     "data": {
      "text/plain": [
       "[[10, 0.05726890042663688],\n",
       " [100, 0.01943100783117086],\n",
       " [1000, 0.005349600163915045],\n",
       " [10000, 0.0019066066187146192],\n",
       " [100000, 0.000586441463663343]]"
      ]
     },
     "execution_count": 179,
     "metadata": {},
     "output_type": "execute_result"
    }
   ],
   "source": [
    "vec_lengths = [10, 100, 1000, 10000, 100000]\n",
    "out = []\n",
    "for n in vec_lengths:\n",
    "    d = test_normal_dist(3, .24, n, 100)\n",
    "    out.append([n, d])\n",
    "out"
   ]
  },
  {
   "cell_type": "code",
   "execution_count": null,
   "metadata": {},
   "outputs": [],
   "source": []
  }
 ],
 "metadata": {
  "kernelspec": {
   "display_name": "Python 3",
   "language": "python",
   "name": "python3"
  },
  "language_info": {
   "codemirror_mode": {
    "name": "ipython",
    "version": 3
   },
   "file_extension": ".py",
   "mimetype": "text/x-python",
   "name": "python",
   "nbconvert_exporter": "python",
   "pygments_lexer": "ipython3",
   "version": "3.6.8"
  }
 },
 "nbformat": 4,
 "nbformat_minor": 2
}
