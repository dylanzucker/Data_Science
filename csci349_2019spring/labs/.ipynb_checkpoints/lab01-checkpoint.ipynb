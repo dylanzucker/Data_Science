{
 "cells": [
  {
   "cell_type": "markdown",
   "metadata": {
    "collapsed": true
   },
   "source": [
    "# lab01 Lab01 - Getting Started\n",
    "\n",
    "Name: Dylan Zucker \n",
    "\n",
    "Class: CSCI 349 - Intro to Data Mining\n",
    "\n",
    "Semester: 2019SP\n",
    "\n",
    "Instructor: Brian King\n"
   ]
  },
  {
   "cell_type": "code",
   "execution_count": 2,
   "metadata": {},
   "outputs": [
    {
     "name": "stdout",
     "output_type": "stream",
     "text": [
      "3.6.8 |Anaconda, Inc.| (default, Dec 29 2018, 19:04:46) \n",
      "[GCC 4.2.1 Compatible Clang 4.0.1 (tags/RELEASE_401/final)]\n"
     ]
    }
   ],
   "source": [
    "import sys\n",
    "print(sys.version)"
   ]
  },
  {
   "cell_type": "markdown",
   "metadata": {},
   "source": [
    "### 1 Did you read the syllabus? All of it? Do you agree to abide by the cheating rules? Write a sentence clearly indicating your commitment to not cheating.\n",
    "\n",
    "I read the syllabus. I agree to abide by the cheating rules, and will uphold the academic responsibility section of the\n",
    "syllabus. I will not cheat or plagiarize on any assignment for this course."
   ]
  },
  {
   "cell_type": "markdown",
   "metadata": {},
   "source": [
    "### 2 What are you hoping to get out of this course?\n",
    "\n",
    "I hope to reinforce an develop new skills through this course that will make me a better data scientist. I also hope to gainthe skills to start doing research using data science.\n"
   ]
  },
  {
   "cell_type": "markdown",
   "metadata": {},
   "source": [
    "### 3 Print the Python version (available in sys package)"
   ]
  },
  {
   "cell_type": "code",
   "execution_count": 3,
   "metadata": {},
   "outputs": [
    {
     "name": "stdout",
     "output_type": "stream",
     "text": [
      "3.6.8 |Anaconda, Inc.| (default, Dec 29 2018, 19:04:46) \n",
      "[GCC 4.2.1 Compatible Clang 4.0.1 (tags/RELEASE_401/final)]\n"
     ]
    }
   ],
   "source": [
    "print(sys.version)"
   ]
  },
  {
   "cell_type": "markdown",
   "metadata": {},
   "source": [
    "### 4 Create a Python list of 10000 random integers in the range 1 to 100, using the random package. Name the list x_list."
   ]
  },
  {
   "cell_type": "code",
   "execution_count": 17,
   "metadata": {},
   "outputs": [],
   "source": [
    "from random import *\n",
    "\n",
    "x_list = [randint(1,100) for i in range(1000)]"
   ]
  },
  {
   "cell_type": "markdown",
   "metadata": {},
   "source": [
    "### 5 What is the minimum value of x_list? What is the max value? What is the mode?"
   ]
  },
  {
   "cell_type": "code",
   "execution_count": 3,
   "metadata": {},
   "outputs": [
    {
     "name": "stdout",
     "output_type": "stream",
     "text": [
      "Min: 1\n",
      "Max: 100\n",
      "Mode: 70\n"
     ]
    }
   ],
   "source": [
    "print(\"Min: \", end=\"\")\n",
    "print(min(x_list))\n",
    "\n",
    "print(\"Max: \", end = \"\")\n",
    "print(max(x_list))\n",
    "\n",
    "counts = [(x_list.count(x), x) for x in set(x_list)]\n",
    "mode_t = max(counts)\n",
    "print(\"Mode: \", end = \"\")\n",
    "print(mode_t[1])"
   ]
  },
  {
   "cell_type": "markdown",
   "metadata": {},
   "source": [
    "### 6 Write a function to take a list of numbers as a parameter, and return the average of the list. Then, use your function to report the average value of x_list, printed as a float with 2 places of precision."
   ]
  },
  {
   "cell_type": "code",
   "execution_count": 5,
   "metadata": {},
   "outputs": [
    {
     "name": "stdout",
     "output_type": "stream",
     "text": [
      "Average: 49.04\n"
     ]
    }
   ],
   "source": [
    "def find_avg(a_list):\n",
    "    sum = 0\n",
    "    for x in a_list:\n",
    "        sum += x\n",
    "        \n",
    "    return sum/len(a_list)\n",
    "\n",
    "print(\"Average: {0:0.2f}\".format(find_avg(x_list)))"
   ]
  },
  {
   "cell_type": "markdown",
   "metadata": {},
   "source": [
    "### 7 Create a list called x_hist that represents a histogram, i.e. a distribution of the numerical data, of x_list. Each entry in x_hist should contain the range of data in widths of 10. So, x_hist[0] represents the frequency of numbers between 1-10, x_hist[1] is the frequency of numbers between 11-20, and so on. Be sure to print x_hist at the end."
   ]
  },
  {
   "cell_type": "code",
   "execution_count": 6,
   "metadata": {},
   "outputs": [
    {
     "name": "stdout",
     "output_type": "stream",
     "text": [
      "[95, 112, 99, 100, 99, 86, 92, 98, 119, 100]\n"
     ]
    }
   ],
   "source": [
    "#Assuming frequecy is the count and not the ratio\n",
    "x_hist = [0 for i in range(10)]\n",
    "for x in x_list:\n",
    "    t = (x-1)//10\n",
    "    x_hist[t] += 1\n",
    "print(x_hist)"
   ]
  },
  {
   "cell_type": "markdown",
   "metadata": {},
   "source": [
    "### 8 What is numpy? What are its strengths? Does it have any weaknesses?\n",
    "\n",
    "Numpy is a python package that helps with scientific computing. It has objects that are multidemesional arrays and many methods to perform opperations on those objects, that are helpful when doing scientific computing. This includes matrix operations, and better indexing procedures. One weakness, however, is that these indexing procedures are slower. "
   ]
  },
  {
   "cell_type": "markdown",
   "metadata": {},
   "source": [
    "### 9 Import the numpy package as np and print the numpy version"
   ]
  },
  {
   "cell_type": "code",
   "execution_count": 7,
   "metadata": {},
   "outputs": [
    {
     "name": "stdout",
     "output_type": "stream",
     "text": [
      "<module 'numpy.version' from '/Users/Dylan/anaconda3/envs/csci349_2019sp/lib/python3.6/site-packages/numpy/version.py'>\n"
     ]
    }
   ],
   "source": [
    "import numpy as np\n",
    "print(np.version)"
   ]
  },
  {
   "cell_type": "markdown",
   "metadata": {},
   "source": [
    "### 10 What is the primary object type in numpy? Can it store data of different types? Discuss.\n",
    "\n",
    "The main data type is the homogeneous multidimensional array. All of the elements are of the same type. There are other data types that numpy has (talked about in next question). These multidimensional arrays are useful for matrix multiplacation, as well as many other scientific computing applications. They are also useful for all sorts of data. \n",
    "\n"
   ]
  },
  {
   "cell_type": "markdown",
   "metadata": {},
   "source": [
    "### 11 Discuss the types of data available in numpy. You need not list every type. Just generalize, and discuss how the type system is different than the built-in types int and float in Python.\n",
    "\n",
    "There are several int and float data types, that differ in signed and unsigned and how many bits they use. It also has the standard boolean, bool_, data type. It has two complex number types as well. These are similar to the types in C, because numpy was built in C."
   ]
  },
  {
   "cell_type": "markdown",
   "metadata": {},
   "source": [
    "### 12 Create a numpy array from x_list. Reassign it as x_list. Show the contents."
   ]
  },
  {
   "cell_type": "code",
   "execution_count": 18,
   "metadata": {},
   "outputs": [
    {
     "data": {
      "text/plain": [
       "array([ 59,  36,  27,   5,  40,  62,  41,  17,  80,  38,   7,  68,  76,\n",
       "        54,  33,  72,  36,  45,  15,  11,  30,  70,  54,  58,  63,  90,\n",
       "        13,  87,  15,  86,  80,  66,  89,  32,  42,  10,   9,  91,  76,\n",
       "        74,   5,  59,  27,  74,  69,  76,   4,  57,  86,  90,  10,  45,\n",
       "        12,  61,  78,  98,  67,  71,  98,  24,  19,  88,  82,  59,  25,\n",
       "        60,  26,  18,  49,  84,  85,  89,   7,  68,   9,  34,  46,   4,\n",
       "        91,  57,  88,  49,  15,  72,  11,  79,  99,  18,   2,  71,  86,\n",
       "        42,  23,  78,  79,  88,  97,  35,  71,  87,  80,  29,  66,  86,\n",
       "        41,  85,  91,  99,   6,  45,  14,  99,  58,  47,   3,  84,  76,\n",
       "        62,  10,  79,  71,  55,   2,  22,  41,  53,  71,  63,  63,   7,\n",
       "        22,  30,   8,  77,  29,  61,   9,   7,  48,  30,   3,  23,  10,\n",
       "        52,  31,  71,  45,   5,  38,  82,  89,  83,  72,  49,   4,  93,\n",
       "        85,  71,  84,  81,  31,   4,  38,  42,  36,  22,   5,  83,  61,\n",
       "        20,  88,  51,  46,  80,  98,  77,  38,  55,   7,   2,  88,  37,\n",
       "        78,  49,  35,  88,  39,  42,  72,   7,  61,  29,  98,  82,  97,\n",
       "        35,  80,  23, 100,  94,  91,   6,  28,  38,  75,  55,  13,  20,\n",
       "        51,  98,  89,  22,  21,  67,   1,  30,  42,  93,  96,   9,  48,\n",
       "        38,  23,   2,  52,  15,  69,  63,  86,  93,   3,  52,  24,  56,\n",
       "        19,  53,   5,  83,  83,   2,  51,  15,  75,  21,  74,   3,  39,\n",
       "        62,  34,  17,  24,  35,  45,  21,  92,  99,  82,  78,  64,  23,\n",
       "        18,  19,  81,   4,  10,  59,  59,  83,  49,   4,  25,   9,   2,\n",
       "        84,   8,  73,  20,  98,  96,   3,  80,  91,  11,  52,   5,  92,\n",
       "        57,  25,  76,  56,  34,  73,  70,  78,  85,  15,  38,  81,  82,\n",
       "         5,   1,  39,  69,  48,   6,   7,  20,  66,  77,  99,  48,  30,\n",
       "        90,  74,  33,  94,   4,  99,  60,  60,  13,  52,  92,  66,  39,\n",
       "        87,  31,  43,  71,  60,  62,  73,  19,  12,  35,  41,  99,  20,\n",
       "        71,  50,  70,  11,  37,  20,   9,  76,  17,   1,  61,  53,  71,\n",
       "        14,  83,  71,  64,  56,  90,  92,  16,  14,  50,  72,  19,  48,\n",
       "        53,  49,  14,  81,  31,  44,  98,  65,  74,  23,  73,  98,  36,\n",
       "        83, 100,  28,  65,  28,   5,  71,  14,  85,  93,  91,  72,  26,\n",
       "        12,  59,  50,  16,  27,  13,  57,  35,  78,  73,  29,  90,   2,\n",
       "        49,  57,  92,  31,  73,  82,  32,  91,  95,  66,  11,  91,  99,\n",
       "        54,  18,  92,  97,  31,  12,  89,   5,  45,  33,   8,  53,  23,\n",
       "        48,  45,  48,  71,  11,  12,  36,  54,  17,  97,  81,  60,  30,\n",
       "        58,  83,  38,  47,  60,  78,  83,  99,  56,  18,  84,  48,  77,\n",
       "        98,  98,  19,  99,  52,  23,  15,  71,  53,  39,  99,  64,  37,\n",
       "        68,  84,  83,  88,  24,  13,  35,  76,  50,  69,  66,  42,  44,\n",
       "        68,  29,  10,  55,  85,  63,   4,  23,  67,  31,  15,  38,  22,\n",
       "        55,   7,  36,  30,  34,  73,  23,   1,  61,  38,  60,  51,  70,\n",
       "        43,  51,  44,  38,  30,   4, 100,  33,  78,  70,  81,  98,   6,\n",
       "        37,  11,  78,  37,  99,  16,  32,  52,  98,  10,  27,  43,  72,\n",
       "         5,  29,  79,  14,  57,   3,  25,  32,  76,  45,  69,  49,  18,\n",
       "        46,  75,  46,  72,  78,  64,  85,  57,  42,  98,  25,  33,  72,\n",
       "        96,   7,   8,  92,  42,  11,  63,  21,  33,  58,  28,  33,  27,\n",
       "        11,  62,  69,  24,  89,  26,  78,  41,  40,  26,  93,  86,  13,\n",
       "        48,  12,  33,  67,  73,  27,  85,  66,  59,  80,  20,  52,  20,\n",
       "        32,  21,  17,  96,  59,  24,  40,  17,  53,  59,  80,  43,  21,\n",
       "        25,  15,  19,  58,  25,  72,  72,  15,  48,  33,   8,  54,  23,\n",
       "         6,  50,  31,  70,  97,   4,  77,  36,  20,  29,  53,  33,  80,\n",
       "        79,  54,  56,  32,  17,  78,  54,  95,  58,  96,  39,  91,  98,\n",
       "        21,   5,  49,  54,   5,  75,  97,  43,  90,  40,  71,  17,  40,\n",
       "        90,  35,  96,  93,   5,  56,  22,  68,  74,  56,  30,   8,  49,\n",
       "        78,  49,  43,  89,  43,  61,  81,  73,  90,  59,  30,  16,   2,\n",
       "        63,  41,  20,  32,  56,  23,  49,  86,  96,  56,  85,  67,  89,\n",
       "         4,  62,   7,  56,  77,  71,  33,   8,  62,  79,  79,  21,  50,\n",
       "        14,  72,  92,  90,  25,  50,  80,  21,  46,  29,  22,  24,  60,\n",
       "        52,  35,  62,   8,  84,  74,  41,  67,  91,  89,  93,   5,  45,\n",
       "        75,  11,  64,  30,  81,  10,  26,   6,  90,  96,  23,   6,  52,\n",
       "         9,  59,  63,  15,   9,  70,  41,  37,   9,  51,  33,  36,  27,\n",
       "        49,  15,  32,  75,  44,  94,  61,  68,  71,  58,  20,  52,  65,\n",
       "         3,   2,  55,  35,  45,  39,  72,  64,  40,  54,  26,  60,  92,\n",
       "        36,   6,   7,  22,  58, 100,  20,  67,  39,  16,  22,  98,  85,\n",
       "        97, 100,   2,  69,  18,  89,  95,  51,  81,  85,  72,  90,  16,\n",
       "        91,  94,   3,  13,  52,  57,  87,  55,  81,  77,  66,   9,  40,\n",
       "        24,   2,  19,  52,  55,   1,  34,  49,  82,  67,  45,   4,  23,\n",
       "        72,  26,  29,  15,  98,  54,  13,  90,  64,  15,  85,  90,  23,\n",
       "         8,  34,  95,  81,  91,  79,  66,  91,  94,  12,  33,   2,  30,\n",
       "        38,  26,  77,   1,  19,  88,  94,  95,  96,  85,  60,  50,  25,\n",
       "         8,  99,  10,  31,  76,  44,  69,  36,  98,  94,  93,  40,  81,\n",
       "        38,  14,  92,  31,  40,  41,  94,  95,  79,  92,  60,  65,  86,\n",
       "        54,  49,  90,  86,  11,  68,  90,  42,  15,  90,  38,  25,  74,\n",
       "        21,  86,  45,  84,  14,  97,  21,  28,   7,   5,  60,  36,  79,\n",
       "        75,  89,  89,  75,  89,   3,  29,  46,  13,  55,  63,  24,  41,\n",
       "        71,  93,  63,  77,  66,  94,  16,  52,  61,  48,  11,  84,  20,\n",
       "        50,   6,  85,  85,  74,  73, 100,  15,  39,  63,  28,  82,  70,\n",
       "        69,  22,  48,  74,  30,  76,  53,  30,  71,  71,  20,  29,  89,\n",
       "        66,  96,  63,   1,  55,  52,  54,  13,   8, 100,  44,  78])"
      ]
     },
     "execution_count": 18,
     "metadata": {},
     "output_type": "execute_result"
    }
   ],
   "source": [
    "x_list = np.array(x_list)\n",
    "x_list"
   ]
  },
  {
   "cell_type": "markdown",
   "metadata": {},
   "source": [
    "### 13 Redo the previous exercise, but set the data type of each value to 'float32'"
   ]
  },
  {
   "cell_type": "code",
   "execution_count": 15,
   "metadata": {},
   "outputs": [
    {
     "data": {
      "text/plain": [
       "array([ 54.,   5.,  89.,  52.,  79.,  46.,  91.,  80.,  55.,  20.,  57.,\n",
       "        97.,  22.,  18.,   5.,  39., 100.,  38.,  60.,  80.,  28.,   6.,\n",
       "        39.,  40.,  20.,  96.,  38.,  46.,  30.,  54.,  22.,   3.,  56.,\n",
       "        28.,  77.,  56.,  78.,  29.,   8.,  51.,  62.,  55.,  22.,  29.,\n",
       "        96.,  61.,   2.,  39.,  71.,  97.,  38.,   6.,  21.,  93.,   8.,\n",
       "        40.,  71.,  26.,  15.,   9.,  49.,  89.,  60.,  25.,  55.,  81.,\n",
       "        42.,   1.,  18.,  45.,  75.,   5.,  39.,  53.,  51.,  63.,  41.,\n",
       "        40.,  78.,  92.,  97.,  39.,  91.,  20.,  61.,  36.,  37.,  79.,\n",
       "        88.,  48.,  79.,  20.,  32.,  14.,   2.,  43.,  93.,  74.,   5.,\n",
       "        73.,  16.,  10.,  70.,   3.,  53.,  94.,  68.,  43.,  30.,  90.,\n",
       "         1.,  42.,  30.,  68.,  88.,   2.,  69.,  12.,  28.,  82.,  15.,\n",
       "         1.,  14.,  96.,   5.,  85.,  85.,  88.,  41.,  16.,  15.,  17.,\n",
       "        16.,  28.,  97.,  63.,  65.,  79.,  26.,  52.,  83.,  41.,  92.,\n",
       "        86.,  52.,  58.,  65.,  76.,  70.,  38.,  87.,  82.,  73.,  25.,\n",
       "        39.,  88.,  13.,  35.,  49.,  96.,  50.,  34.,  36.,   6.,  14.,\n",
       "        34.,  61.,  12.,  22.,  77.,  95.,  33.,  48.,  66.,  44.,   1.,\n",
       "        89.,  69.,  45.,  25.,  84.,  14.,  42.,   3.,  88.,  90.,  92.,\n",
       "        45.,  16.,  11.,  74.,  89.,   4.,  16.,  73.,  81.,   6.,  84.,\n",
       "         8.,  51.,  74.,  55.,  21.,  24.,  87.,  23.,  79.,  16.,  51.,\n",
       "        77.,  85.,  85.,  79.,  40.,  32.,  97.,  29.,  58.,  40.,  49.,\n",
       "        47.,  82.,  19.,  72.,  29.,  54.,  66.,   6.,  71.,  86.,  20.,\n",
       "        70.,  85.,  63.,  86.,  14.,  87.,  85.,  45.,  58.,  12.,  15.,\n",
       "        85.,  58.,  31.,   4.,  99.,  74.,  32.,  31.,  65.,  57.,  87.,\n",
       "        39.,  86.,  74.,  90.,  92.,  20.,  18.,  12.,  46.,  37.,  21.,\n",
       "        91.,  99.,  66.,  68.,  84.,  58.,   3.,  88.,   2.,  52.,  32.,\n",
       "        57.,  90.,  22.,  68.,  26.,   5.,  40.,  96.,  83.,  59.,  95.,\n",
       "        85.,  80.,  26.,  47.,  39.,  58.,  94.,  95.,  74.,  75.,  39.,\n",
       "        14.,  61.,  29.,  17.,  62.,  60.,  38.,  89.,  48.,  33.,  50.,\n",
       "        67.,  24.,  20.,  81.,  57.,  61.,   4.,  28.,  99.,   6.,  74.,\n",
       "        29.,  43.,  97.,  67.,  46.,  34.,  24.,  46.,  14.,  28.,  60.,\n",
       "        12.,  38.,  82.,  17.,  95.,  17.,  64.,  94.,  12.,  27.,  91.,\n",
       "         3.,  12.,  74.,  71.,  51.,  51.,  86.,  87.,  29.,  22.,  19.,\n",
       "        23.,  19.,   4.,  82.,  36.,  22.,  20.,  61.,  26.,  34.,  98.,\n",
       "        22.,  40.,  28.,  18.,  58.,   8.,   4.,  22.,  14.,  53.,  77.,\n",
       "        64.,  16.,  27.,  70.,  89.,  95.,  85.,  13.,  53.,  48.,  45.,\n",
       "        40.,  84.,   4.,  40.,  78.,  57.,  98.,  94.,   2.,  11.,  39.,\n",
       "        97.,  91.,  10.,  25.,  20.,  45.,  47.,  75.,  49.,  76.,  49.,\n",
       "        87.,  48.,  40.,  78.,   5.,  44.,  93.,  33.,  59.,  98.,  28.,\n",
       "        14.,  22.,  92.,  92.,  45.,  57.,  18.,  18.,  15.,  61.,  74.,\n",
       "        42.,  15.,  38.,  30.,  80.,  69.,  24.,  97.,  69.,  90.,   5.,\n",
       "        72.,  10.,  35.,  38.,  93.,  46.,  84.,  38.,  79.,   1.,  74.,\n",
       "        91.,  17.,  54.,  18.,  23.,  81.,  45.,  25.,  40.,  59.,  58.,\n",
       "        28.,  62.,  11.,  14.,  41.,  10.,  81.,  36.,  46.,  21.,  73.,\n",
       "         2.,  54.,  80.,  68.,  71.,  22.,  84.,   2.,  22.,  99.,  42.,\n",
       "        19.,  92.,  31.,  97.,  68., 100.,  68.,  46.,   8.,  47.,  46.,\n",
       "        18.,  42.,  30.,  27.,  96.,  76.,  71.,  48.,  26.,  90.,  33.,\n",
       "        87.,  36.,  58.,  50.,  29.,  83.,  34.,  60.,  36.,  19.,  93.,\n",
       "        33.,  92.,   8.,  42.,  48.,  70.,  42.,  40.,  12.,  93.,  85.,\n",
       "       100.,  99.,  99.,  95.,  21.,  96.,  42.,  44.,  48.,  13.,  46.,\n",
       "        89.,  82.,   5.,  39.,  62.,  30.,  43.,  52.,  69., 100.,  49.,\n",
       "        86.,  64.,  18.,  48.,  25.,  41.,  95.,  96.,  28.,  86.,  76.,\n",
       "        89.,  97.,  69.,  14.,  32.,  91.,  56.,  60.,  71.,  90.,  58.,\n",
       "        26.,  68.,  56.,  82.,  14.,  69.,  82.,  65.,  11.,  99.,  99.,\n",
       "        48.,  97.,  95.,  79.,  41.,  90.,   5.,  36.,  25.,  32.,  19.,\n",
       "        11.,  99.,  64.,  90.,  38.,  69.,  65.,  20.,  86.,  90.,  68.,\n",
       "        25.,  27.,  37.,  34.,  60.,  98.,  16.,  42.,  67.,  10.,   8.,\n",
       "        88.,  26.,  91.,  72.,   5.,  51.,  15.,  75.,  43.,  76.,  98.,\n",
       "        26.,  36.,  38.,  84.,  60.,  30.,  58.,  41.,  50.,  17.,  43.,\n",
       "        49.,  33.,  46.,  80.,   8.,  75.,  60.,  15.,  86.,   4.,  27.,\n",
       "        68.,  32.,  85.,  78.,  58.,  14.,  95.,   9.,  36.,  72.,  49.,\n",
       "        95.,  29.,  95.,  52.,  95.,  79.,  85.,  10.,  14.,  87.,  73.,\n",
       "        59.,  62.,  64.,  81.,   4.,  64.,  40.,   5.,  14.,  17.,  89.,\n",
       "        48.,  55.,  70.,   6.,  23.,  12.,  54.,  74.,  70.,  21.,  80.,\n",
       "        89., 100.,  87.,  80.,  99.,  79.,  35.,  90.,  70.,  11.,  71.,\n",
       "        68.,   7.,  47.,  76.,  43.,  13.,  98.,  57.,  85.,  38.,  19.,\n",
       "        53.,   4.,  58.,  88.,  63.,  73.,  34.,  57.,  38.,  92.,  87.,\n",
       "         7.,   9.,  78.,  24.,  49.,  21.,  19.,  38.,  41.,  62.,   7.,\n",
       "         8.,  21.,  45.,  74.,  40.,  75.,  29.,  83.,  70.,  34.,  37.,\n",
       "        97.,  95.,  79.,  20.,  61.,  78.,  60.,  78.,   2.,  24.,  82.,\n",
       "        75.,  35.,  23.,   3.,  15.,  32.,  24.,  43.,  10.,  27.,  23.,\n",
       "        88.,  97.,  17.,  50.,  83.,  38.,   8.,  56.,  70.,  23.,  15.,\n",
       "        13.,  43.,  42.,  79.,  87.,  68.,  50.,  46.,  74.,  68.,  26.,\n",
       "        18.,  28.,  65.,  80.,  20.,  23.,  50.,  85.,  72.,  89.,   4.,\n",
       "        45.,  80.,  32.,  49.,  47.,  10.,  91.,  58.,  85.,  65.,  91.,\n",
       "        96.,  69., 100.,  99.,  47.,  15.,  51.,  31.,  76.,  83.,  33.,\n",
       "        20.,  97.,  43.,  54.,   2.,  15.,  53.,  17.,  14.,   4.,  89.,\n",
       "        90.,  97.,  43.,  33.,  67.,  11.,   2.,   2.,   1.,  62.,  51.,\n",
       "        39.,  95.,  73.,  36.,  45.,  21., 100.,  84.,  64.,  69.,  32.,\n",
       "        80.,  84.,  42.,  63.,  34.,  81.,  52.,  13.,   4.,  81.,  31.,\n",
       "        71.,  16.,  45.,  53.,  20.,  71.,  13.,  27.,  79.,  95.,  95.,\n",
       "        67.,  51.,  16.,  76.,  24.,  89.,  15.,  45.,  82.,  80.,  66.,\n",
       "        35.,  78.,  81.,   5.,  26.,  67.,  40.,  67.,  61.,  76.,  67.,\n",
       "        22.,  98.,   8.,  81.,  10.,  27.,  78.,  79.,  61.,  94.,  55.,\n",
       "        69.,  66.,  49.,  70.,  29.,  84.,   1.,  84.,  56.,  49.,  12.,\n",
       "        58.,  21.,  25.,  17.,   3.,   2.,  32.,  88.,   6.,  95.,  68.,\n",
       "         3.,  20.,  89.,  54.,  49.,  11.,  67.,  93.,  86.,  18.,  80.,\n",
       "        33.,  11.,  70.,  34.,  87.,  84.,   9.,   6.,   6.,  87.,  58.,\n",
       "        75.,  29.,  30.,  98.,  24.,  89.,  88.,   9.,   8.,  32.,  55.,\n",
       "        95.,   5.,  38.,  10.,  68.,  78.,  65.,  67.,  10.,  37.,  39.,\n",
       "        86.,  80.,  82.,  19.,  65.,  73.,  16.,  77.,  58.,  49.,  42.,\n",
       "        88.,  88.,  98.,  84.,  62.,   6.,  18.,  53.,  57.,  71.],\n",
       "      dtype=float32)"
      ]
     },
     "execution_count": 15,
     "metadata": {},
     "output_type": "execute_result"
    }
   ],
   "source": [
    "x_list = np.array(x_list, dtype=\"float32\")\n",
    "x_list"
   ]
  },
  {
   "cell_type": "markdown",
   "metadata": {},
   "source": [
    "### 14 Create a length 10 integer array filled with zeros"
   ]
  },
  {
   "cell_type": "code",
   "execution_count": 13,
   "metadata": {},
   "outputs": [
    {
     "data": {
      "text/plain": [
       "array([0., 0., 0., 0., 0., 0., 0., 0., 0., 0.])"
      ]
     },
     "execution_count": 13,
     "metadata": {},
     "output_type": "execute_result"
    }
   ],
   "source": [
    "np.zeros(10)"
   ]
  },
  {
   "cell_type": "markdown",
   "metadata": {},
   "source": [
    "### 15 Create a float array of 3 rows and 4 columns, all initialized to one."
   ]
  },
  {
   "cell_type": "code",
   "execution_count": 20,
   "metadata": {},
   "outputs": [
    {
     "data": {
      "text/plain": [
       "array([[1., 1., 1., 1.],\n",
       "       [1., 1., 1., 1.],\n",
       "       [1., 1., 1., 1.]])"
      ]
     },
     "execution_count": 20,
     "metadata": {},
     "output_type": "execute_result"
    }
   ],
   "source": [
    "np.ones((3,4))"
   ]
  },
  {
   "cell_type": "markdown",
   "metadata": {},
   "source": [
    "### 16 Create an array of 20 values, evenly spaced between 1 and 3 (HINT – look at np.linspace)"
   ]
  },
  {
   "cell_type": "code",
   "execution_count": 21,
   "metadata": {},
   "outputs": [
    {
     "data": {
      "text/plain": [
       "array([1.        , 1.10526316, 1.21052632, 1.31578947, 1.42105263,\n",
       "       1.52631579, 1.63157895, 1.73684211, 1.84210526, 1.94736842,\n",
       "       2.05263158, 2.15789474, 2.26315789, 2.36842105, 2.47368421,\n",
       "       2.57894737, 2.68421053, 2.78947368, 2.89473684, 3.        ])"
      ]
     },
     "execution_count": 21,
     "metadata": {},
     "output_type": "execute_result"
    }
   ],
   "source": [
    "np.linspace(1, 3, 20)"
   ]
  },
  {
   "cell_type": "markdown",
   "metadata": {},
   "source": [
    "### 17 Set the numpy random seed to the value 12345, then create a 10 x 5 array of random integers on the interval [10, 20)"
   ]
  },
  {
   "cell_type": "code",
   "execution_count": 27,
   "metadata": {},
   "outputs": [
    {
     "data": {
      "text/plain": [
       "array([[12, 15, 11, 14, 19],\n",
       "       [15, 12, 11, 16, 11],\n",
       "       [19, 17, 16, 10, 12],\n",
       "       [19, 11, 12, 16, 17],\n",
       "       [17, 17, 18, 17, 11],\n",
       "       [17, 14, 10, 13, 15],\n",
       "       [17, 13, 11, 15, 12],\n",
       "       [15, 13, 18, 15, 12],\n",
       "       [15, 13, 10, 16, 18],\n",
       "       [10, 15, 16, 18, 19]])"
      ]
     },
     "execution_count": 27,
     "metadata": {},
     "output_type": "execute_result"
    }
   ],
   "source": [
    "np.random.seed(12345)\n",
    "np.random.randint(10, 20, (10, 5))"
   ]
  },
  {
   "cell_type": "markdown",
   "metadata": {},
   "source": [
    "## Refrences\n",
    "\n",
    "https://docs.scipy.org/doc/numpy/user/quickstart.html\n",
    "\n",
    "https://jakevdp.github.io/PythonDataScienceHandbook/02.01-understanding-data-types.html"
   ]
  }
 ],
 "metadata": {
  "kernelspec": {
   "display_name": "Python 3",
   "language": "python",
   "name": "python3"
  },
  "language_info": {
   "codemirror_mode": {
    "name": "ipython",
    "version": 3
   },
   "file_extension": ".py",
   "mimetype": "text/x-python",
   "name": "python",
   "nbconvert_exporter": "python",
   "pygments_lexer": "ipython3",
   "version": "3.6.8"
  }
 },
 "nbformat": 4,
 "nbformat_minor": 1
}
